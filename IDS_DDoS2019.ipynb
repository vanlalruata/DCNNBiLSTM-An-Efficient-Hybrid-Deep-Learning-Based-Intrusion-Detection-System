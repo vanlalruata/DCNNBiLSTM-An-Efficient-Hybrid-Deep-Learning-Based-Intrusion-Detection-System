{
 "cells": [
  {
   "cell_type": "code",
   "execution_count": 1,
   "id": "ed42a3c9",
   "metadata": {},
   "outputs": [],
   "source": [
    "import numpy as np\n",
    "import pandas as pd\n",
    "\n",
    "import pickle # saving and loading trained model\n",
    "from os import path\n",
    "\n",
    "# importing required libraries for normalizing data\n",
    "from sklearn import preprocessing\n",
    "from sklearn.preprocessing import StandardScaler\n",
    "\n",
    "# importing library for plotting\n",
    "import matplotlib.pyplot as plt\n",
    "import seaborn as sn\n",
    "\n",
    "from sklearn import metrics\n",
    "from sklearn.metrics import accuracy_score # for calculating accuracy of model\n",
    "from sklearn.model_selection import train_test_split # for splitting the dataset for training and testing\n",
    "from sklearn.metrics import classification_report # for generating a classification report of model\n",
    "\n",
    "from sklearn.metrics import precision_score\n",
    "from sklearn.metrics import recall_score\n",
    "from sklearn.metrics import f1_score\n",
    "from sklearn.metrics import confusion_matrix\n",
    "\n",
    "from sklearn.metrics import roc_auc_score\n",
    "from sklearn.metrics import roc_curve, auc\n",
    "\n",
    "import tensorflow as tf\n",
    "from tensorflow import keras\n",
    "\n",
    "from keras.layers import Dense # importing dense layer\n",
    "from keras.models import Sequential #importing Sequential layer\n",
    "from keras.models import model_from_json # saving and loading trained model\n",
    "\n",
    "from keras.layers import LSTM\n",
    "from keras.layers import Input\n",
    "from keras.models import Model\n",
    "\n",
    "from keras.utils.vis_utils import plot_model"
   ]
  },
  {
   "cell_type": "code",
   "execution_count": 2,
   "id": "61456e13",
   "metadata": {},
   "outputs": [],
   "source": [
    "#Load Primary Data"
   ]
  },
  {
   "cell_type": "code",
   "execution_count": 3,
   "id": "daa54081",
   "metadata": {},
   "outputs": [],
   "source": [
    "mssql=pd.read_csv('H:/Datasets/CIC-DDoS2019/01-12/10percent/DrDos_MSSQL.csv', low_memory=False)"
   ]
  },
  {
   "cell_type": "code",
   "execution_count": 4,
   "id": "0aa85f75",
   "metadata": {},
   "outputs": [],
   "source": [
    "dns=pd.read_csv('H:/Datasets/CIC-DDoS2019/01-12/10percent/DrDos_DNS.csv', low_memory=False)"
   ]
  },
  {
   "cell_type": "code",
   "execution_count": 5,
   "id": "a0ca560f",
   "metadata": {},
   "outputs": [],
   "source": [
    "ldap=pd.read_csv('H:/Datasets/CIC-DDoS2019/01-12/10percent/DrDos_LDAP.csv', low_memory=False)"
   ]
  },
  {
   "cell_type": "code",
   "execution_count": 6,
   "id": "b00a7b7c",
   "metadata": {},
   "outputs": [],
   "source": [
    "ntp=pd.read_csv('H:/Datasets/CIC-DDoS2019/01-12/10percent/DrDos_NTP.csv', low_memory=False)"
   ]
  },
  {
   "cell_type": "code",
   "execution_count": 7,
   "id": "322e2e77",
   "metadata": {},
   "outputs": [],
   "source": [
    "netbios=pd.read_csv('H:/Datasets/CIC-DDoS2019/01-12/10percent/DrDos_NetBIOS.csv', low_memory=False)"
   ]
  },
  {
   "cell_type": "code",
   "execution_count": 8,
   "id": "965c954d",
   "metadata": {},
   "outputs": [],
   "source": [
    "SNMP=pd.read_csv('H:/Datasets/CIC-DDoS2019/01-12/10percent/DrDos_SNMP.csv', low_memory=False)"
   ]
  },
  {
   "cell_type": "code",
   "execution_count": 9,
   "id": "927ff764",
   "metadata": {},
   "outputs": [],
   "source": [
    "SSDP=pd.read_csv('H:/Datasets/CIC-DDoS2019/01-12/10percent/DrDos_SSDP.csv', low_memory=False)"
   ]
  },
  {
   "cell_type": "code",
   "execution_count": 10,
   "id": "6a837f15",
   "metadata": {},
   "outputs": [],
   "source": [
    "UDP=pd.read_csv('H:/Datasets/CIC-DDoS2019/01-12/10percent/DrDos_UDP.csv', low_memory=False)"
   ]
  },
  {
   "cell_type": "code",
   "execution_count": 11,
   "id": "f233bd97",
   "metadata": {},
   "outputs": [],
   "source": [
    "syn=pd.read_csv('H:/Datasets/CIC-DDoS2019/01-12/10percent/Syn.csv', low_memory=False)"
   ]
  },
  {
   "cell_type": "code",
   "execution_count": 12,
   "id": "27cd87a9",
   "metadata": {},
   "outputs": [],
   "source": [
    "TFTP=pd.read_csv('H:/Datasets/CIC-DDoS2019/01-12/10percent/TFTP.csv', low_memory=False)"
   ]
  },
  {
   "cell_type": "code",
   "execution_count": 13,
   "id": "1358d2bf",
   "metadata": {},
   "outputs": [],
   "source": [
    "UDPLag=pd.read_csv('H:/Datasets/CIC-DDoS2019/01-12/10percent/UDPLag.csv', low_memory=False)"
   ]
  },
  {
   "cell_type": "code",
   "execution_count": null,
   "id": "7f63f27b",
   "metadata": {},
   "outputs": [],
   "source": [
    "#Loading Secondary Data\n",
    "\n",
    "ldap=ldap.concat(pd.read_csv('H:/Datasets/CIC-DDoS2019/03-11/10percent/LDAP.csv', low_memory=False))\n",
    "mssql=mysql.concat(pd.read_csv('H:/Datasets/CIC-DDoS2019/03-11/10percent/MSSQL.csv', low_memory=False))\n",
    "netbios=netbios.concat(pd.read_csv('H:/Datasets/CIC-DDoS2019/03-11/10percent/NetBIOS.csv', low_memory=False))\n",
    "portmap = pd.read_csv('H:/Datasets/CIC-DDoS2019/03-11/10percent/Portmap.csv', low_memory=False)\n",
    "syn=syn.concat(pd.read_csv('H:/Datasets/CIC-DDoS2019/03-11/10percent/Syn.csv', low_memory=False))\n",
    "UDP=UDP.concat(pd.read_csv('H:/Datasets/CIC-DDoS2019/03-11/10percent/UDP.csv', low_memory=False))\n",
    "UDPLag=UDPLag.concat(pd.read_csv('H:/Datasets/CIC-DDoS2019/03-11/10percent/UDPLag.csv', low_memory=False))"
   ]
  },
  {
   "cell_type": "code",
   "execution_count": 14,
   "id": "031679fd",
   "metadata": {},
   "outputs": [],
   "source": [
    "#df = pd.concat([UDPLag,UDP,syn,mssql,ldap,SNMP,dns,ntp,netbios,SSDP,TFTP])\n",
    "\n",
    "df = pd.concat([UDPLag,UDP,syn,mssql,ldap,SNMP,dns,ntp,netbios,SSDP,TFTP])"
   ]
  },
  {
   "cell_type": "code",
   "execution_count": 15,
   "id": "f9aea847",
   "metadata": {},
   "outputs": [
    {
     "name": "stdout",
     "output_type": "stream",
     "text": [
      "LDAP=  (218154, 89)\n",
      "MSSQL=  (452449, 89)\n",
      "dns=  (507441, 89)\n",
      "ntp=  (121700, 89)\n",
      "netbios=  (409498, 89)\n",
      "SNMP=  (516137, 89)\n",
      "SSDP=  (261137, 89)\n",
      "SYN=  (158268, 89)\n",
      "UDP=  (313680, 89)\n",
      "TFTP=  (2010782, 89)\n",
      "UDPLag=  (37060, 89)\n"
     ]
    }
   ],
   "source": [
    "print(\"LDAP= \",ldap.shape)\n",
    "print(\"MSSQL= \",mssql.shape)\n",
    "print(\"dns= \",dns.shape)\n",
    "print(\"ntp= \",ntp.shape)\n",
    "print(\"netbios= \",netbios.shape)\n",
    "print(\"SNMP= \",SNMP.shape)\n",
    "print(\"SSDP= \",SSDP.shape)\n",
    "#print(\"Portmap= \",portmap.shape)\n",
    "print(\"SYN= \",syn.shape)\n",
    "print(\"UDP= \",UDP.shape)\n",
    "print(\"TFTP= \",TFTP.shape)\n",
    "print(\"UDPLag= \",UDPLag.shape)\n",
    "\n",
    "\n",
    "#Free up memory\n",
    "del UDPLag\n",
    "del UDP\n",
    "del syn\n",
    "del mssql\n",
    "del ldap\n",
    "del SNMP\n",
    "del dns\n",
    "del ntp\n",
    "del netbios\n",
    "del SSDP\n",
    "del TFTP"
   ]
  },
  {
   "cell_type": "code",
   "execution_count": 16,
   "id": "d7eeeb07",
   "metadata": {},
   "outputs": [
    {
     "data": {
      "text/html": [
       "<div>\n",
       "<style scoped>\n",
       "    .dataframe tbody tr th:only-of-type {\n",
       "        vertical-align: middle;\n",
       "    }\n",
       "\n",
       "    .dataframe tbody tr th {\n",
       "        vertical-align: top;\n",
       "    }\n",
       "\n",
       "    .dataframe thead th {\n",
       "        text-align: right;\n",
       "    }\n",
       "</style>\n",
       "<table border=\"1\" class=\"dataframe\">\n",
       "  <thead>\n",
       "    <tr style=\"text-align: right;\">\n",
       "      <th></th>\n",
       "      <th>Unnamed: 0</th>\n",
       "      <th>Unnamed: 0.1</th>\n",
       "      <th>Source Port</th>\n",
       "      <th>Destination Port</th>\n",
       "      <th>Protocol</th>\n",
       "      <th>Flow Duration</th>\n",
       "      <th>Total Fwd Packets</th>\n",
       "      <th>Total Backward Packets</th>\n",
       "      <th>Total Length of Fwd Packets</th>\n",
       "      <th>Total Length of Bwd Packets</th>\n",
       "      <th>...</th>\n",
       "      <th>min_seg_size_forward</th>\n",
       "      <th>Active Mean</th>\n",
       "      <th>Active Std</th>\n",
       "      <th>Active Max</th>\n",
       "      <th>Active Min</th>\n",
       "      <th>Idle Mean</th>\n",
       "      <th>Idle Std</th>\n",
       "      <th>Idle Max</th>\n",
       "      <th>Idle Min</th>\n",
       "      <th>Inbound</th>\n",
       "    </tr>\n",
       "  </thead>\n",
       "  <tbody>\n",
       "    <tr>\n",
       "      <th>count</th>\n",
       "      <td>5.006306e+06</td>\n",
       "      <td>5.006306e+06</td>\n",
       "      <td>5.006306e+06</td>\n",
       "      <td>5.006306e+06</td>\n",
       "      <td>5.006306e+06</td>\n",
       "      <td>5.006306e+06</td>\n",
       "      <td>5.006306e+06</td>\n",
       "      <td>5.006306e+06</td>\n",
       "      <td>5.006306e+06</td>\n",
       "      <td>5.006306e+06</td>\n",
       "      <td>...</td>\n",
       "      <td>5.006306e+06</td>\n",
       "      <td>5.006306e+06</td>\n",
       "      <td>5.006306e+06</td>\n",
       "      <td>5.006306e+06</td>\n",
       "      <td>5.006306e+06</td>\n",
       "      <td>5.006306e+06</td>\n",
       "      <td>5.006306e+06</td>\n",
       "      <td>5.006306e+06</td>\n",
       "      <td>5.006306e+06</td>\n",
       "      <td>5.006306e+06</td>\n",
       "    </tr>\n",
       "    <tr>\n",
       "      <th>mean</th>\n",
       "      <td>5.188400e+05</td>\n",
       "      <td>6.683008e+04</td>\n",
       "      <td>3.159877e+04</td>\n",
       "      <td>3.276592e+04</td>\n",
       "      <td>1.628403e+01</td>\n",
       "      <td>2.329543e+06</td>\n",
       "      <td>5.810839e+00</td>\n",
       "      <td>6.351310e-02</td>\n",
       "      <td>2.643170e+03</td>\n",
       "      <td>3.456606e+01</td>\n",
       "      <td>...</td>\n",
       "      <td>-4.978639e+07</td>\n",
       "      <td>7.586433e+02</td>\n",
       "      <td>7.691338e+02</td>\n",
       "      <td>2.055830e+03</td>\n",
       "      <td>3.739154e+02</td>\n",
       "      <td>2.268027e+05</td>\n",
       "      <td>7.325590e+04</td>\n",
       "      <td>3.363717e+05</td>\n",
       "      <td>1.537757e+05</td>\n",
       "      <td>9.958608e-01</td>\n",
       "    </tr>\n",
       "    <tr>\n",
       "      <th>std</th>\n",
       "      <td>5.523049e+05</td>\n",
       "      <td>9.052081e+04</td>\n",
       "      <td>2.750344e+04</td>\n",
       "      <td>1.896366e+04</td>\n",
       "      <td>2.715232e+00</td>\n",
       "      <td>1.086997e+07</td>\n",
       "      <td>2.372276e+02</td>\n",
       "      <td>3.068418e+00</td>\n",
       "      <td>7.269955e+03</td>\n",
       "      <td>1.034766e+04</td>\n",
       "      <td>...</td>\n",
       "      <td>2.245678e+08</td>\n",
       "      <td>5.943029e+04</td>\n",
       "      <td>4.390741e+04</td>\n",
       "      <td>1.054612e+05</td>\n",
       "      <td>4.973739e+04</td>\n",
       "      <td>2.154298e+06</td>\n",
       "      <td>8.243592e+05</td>\n",
       "      <td>3.209369e+06</td>\n",
       "      <td>1.562049e+06</td>\n",
       "      <td>6.420318e-02</td>\n",
       "    </tr>\n",
       "    <tr>\n",
       "      <th>min</th>\n",
       "      <td>0.000000e+00</td>\n",
       "      <td>0.000000e+00</td>\n",
       "      <td>0.000000e+00</td>\n",
       "      <td>0.000000e+00</td>\n",
       "      <td>0.000000e+00</td>\n",
       "      <td>0.000000e+00</td>\n",
       "      <td>1.000000e+00</td>\n",
       "      <td>0.000000e+00</td>\n",
       "      <td>0.000000e+00</td>\n",
       "      <td>0.000000e+00</td>\n",
       "      <td>...</td>\n",
       "      <td>-1.408238e+09</td>\n",
       "      <td>0.000000e+00</td>\n",
       "      <td>0.000000e+00</td>\n",
       "      <td>0.000000e+00</td>\n",
       "      <td>0.000000e+00</td>\n",
       "      <td>0.000000e+00</td>\n",
       "      <td>0.000000e+00</td>\n",
       "      <td>0.000000e+00</td>\n",
       "      <td>0.000000e+00</td>\n",
       "      <td>0.000000e+00</td>\n",
       "    </tr>\n",
       "    <tr>\n",
       "      <th>25%</th>\n",
       "      <td>1.214510e+05</td>\n",
       "      <td>1.724400e+04</td>\n",
       "      <td>8.150000e+02</td>\n",
       "      <td>1.636100e+04</td>\n",
       "      <td>1.700000e+01</td>\n",
       "      <td>1.000000e+00</td>\n",
       "      <td>2.000000e+00</td>\n",
       "      <td>0.000000e+00</td>\n",
       "      <td>8.240000e+02</td>\n",
       "      <td>0.000000e+00</td>\n",
       "      <td>...</td>\n",
       "      <td>0.000000e+00</td>\n",
       "      <td>0.000000e+00</td>\n",
       "      <td>0.000000e+00</td>\n",
       "      <td>0.000000e+00</td>\n",
       "      <td>0.000000e+00</td>\n",
       "      <td>0.000000e+00</td>\n",
       "      <td>0.000000e+00</td>\n",
       "      <td>0.000000e+00</td>\n",
       "      <td>0.000000e+00</td>\n",
       "      <td>1.000000e+00</td>\n",
       "    </tr>\n",
       "    <tr>\n",
       "      <th>50%</th>\n",
       "      <td>2.844720e+05</td>\n",
       "      <td>4.147100e+04</td>\n",
       "      <td>3.578700e+04</td>\n",
       "      <td>3.279800e+04</td>\n",
       "      <td>1.700000e+01</td>\n",
       "      <td>2.000000e+00</td>\n",
       "      <td>2.000000e+00</td>\n",
       "      <td>0.000000e+00</td>\n",
       "      <td>2.064000e+03</td>\n",
       "      <td>0.000000e+00</td>\n",
       "      <td>...</td>\n",
       "      <td>8.000000e+00</td>\n",
       "      <td>0.000000e+00</td>\n",
       "      <td>0.000000e+00</td>\n",
       "      <td>0.000000e+00</td>\n",
       "      <td>0.000000e+00</td>\n",
       "      <td>0.000000e+00</td>\n",
       "      <td>0.000000e+00</td>\n",
       "      <td>0.000000e+00</td>\n",
       "      <td>0.000000e+00</td>\n",
       "      <td>1.000000e+00</td>\n",
       "    </tr>\n",
       "    <tr>\n",
       "      <th>75%</th>\n",
       "      <td>7.592048e+05</td>\n",
       "      <td>7.761300e+04</td>\n",
       "      <td>6.247000e+04</td>\n",
       "      <td>4.921400e+04</td>\n",
       "      <td>1.700000e+01</td>\n",
       "      <td>2.999651e+06</td>\n",
       "      <td>4.000000e+00</td>\n",
       "      <td>0.000000e+00</td>\n",
       "      <td>2.944000e+03</td>\n",
       "      <td>0.000000e+00</td>\n",
       "      <td>...</td>\n",
       "      <td>2.000000e+01</td>\n",
       "      <td>0.000000e+00</td>\n",
       "      <td>0.000000e+00</td>\n",
       "      <td>0.000000e+00</td>\n",
       "      <td>0.000000e+00</td>\n",
       "      <td>0.000000e+00</td>\n",
       "      <td>0.000000e+00</td>\n",
       "      <td>0.000000e+00</td>\n",
       "      <td>0.000000e+00</td>\n",
       "      <td>1.000000e+00</td>\n",
       "    </tr>\n",
       "    <tr>\n",
       "      <th>max</th>\n",
       "      <td>2.010781e+06</td>\n",
       "      <td>7.774270e+05</td>\n",
       "      <td>6.553200e+04</td>\n",
       "      <td>6.553500e+04</td>\n",
       "      <td>1.700000e+01</td>\n",
       "      <td>1.200000e+08</td>\n",
       "      <td>9.997800e+04</td>\n",
       "      <td>1.862000e+03</td>\n",
       "      <td>1.760000e+05</td>\n",
       "      <td>8.829488e+06</td>\n",
       "      <td>...</td>\n",
       "      <td>1.480000e+03</td>\n",
       "      <td>6.151289e+07</td>\n",
       "      <td>4.868047e+07</td>\n",
       "      <td>7.286843e+07</td>\n",
       "      <td>6.151289e+07</td>\n",
       "      <td>1.192194e+08</td>\n",
       "      <td>5.727195e+07</td>\n",
       "      <td>1.192194e+08</td>\n",
       "      <td>1.192194e+08</td>\n",
       "      <td>1.000000e+00</td>\n",
       "    </tr>\n",
       "  </tbody>\n",
       "</table>\n",
       "<p>8 rows × 83 columns</p>\n",
       "</div>"
      ],
      "text/plain": [
       "         Unnamed: 0  Unnamed: 0.1   Source Port   Destination Port  \\\n",
       "count  5.006306e+06  5.006306e+06  5.006306e+06       5.006306e+06   \n",
       "mean   5.188400e+05  6.683008e+04  3.159877e+04       3.276592e+04   \n",
       "std    5.523049e+05  9.052081e+04  2.750344e+04       1.896366e+04   \n",
       "min    0.000000e+00  0.000000e+00  0.000000e+00       0.000000e+00   \n",
       "25%    1.214510e+05  1.724400e+04  8.150000e+02       1.636100e+04   \n",
       "50%    2.844720e+05  4.147100e+04  3.578700e+04       3.279800e+04   \n",
       "75%    7.592048e+05  7.761300e+04  6.247000e+04       4.921400e+04   \n",
       "max    2.010781e+06  7.774270e+05  6.553200e+04       6.553500e+04   \n",
       "\n",
       "           Protocol   Flow Duration   Total Fwd Packets  \\\n",
       "count  5.006306e+06    5.006306e+06        5.006306e+06   \n",
       "mean   1.628403e+01    2.329543e+06        5.810839e+00   \n",
       "std    2.715232e+00    1.086997e+07        2.372276e+02   \n",
       "min    0.000000e+00    0.000000e+00        1.000000e+00   \n",
       "25%    1.700000e+01    1.000000e+00        2.000000e+00   \n",
       "50%    1.700000e+01    2.000000e+00        2.000000e+00   \n",
       "75%    1.700000e+01    2.999651e+06        4.000000e+00   \n",
       "max    1.700000e+01    1.200000e+08        9.997800e+04   \n",
       "\n",
       "        Total Backward Packets  Total Length of Fwd Packets  \\\n",
       "count             5.006306e+06                 5.006306e+06   \n",
       "mean              6.351310e-02                 2.643170e+03   \n",
       "std               3.068418e+00                 7.269955e+03   \n",
       "min               0.000000e+00                 0.000000e+00   \n",
       "25%               0.000000e+00                 8.240000e+02   \n",
       "50%               0.000000e+00                 2.064000e+03   \n",
       "75%               0.000000e+00                 2.944000e+03   \n",
       "max               1.862000e+03                 1.760000e+05   \n",
       "\n",
       "        Total Length of Bwd Packets  ...   min_seg_size_forward   Active Mean  \\\n",
       "count                  5.006306e+06  ...           5.006306e+06  5.006306e+06   \n",
       "mean                   3.456606e+01  ...          -4.978639e+07  7.586433e+02   \n",
       "std                    1.034766e+04  ...           2.245678e+08  5.943029e+04   \n",
       "min                    0.000000e+00  ...          -1.408238e+09  0.000000e+00   \n",
       "25%                    0.000000e+00  ...           0.000000e+00  0.000000e+00   \n",
       "50%                    0.000000e+00  ...           8.000000e+00  0.000000e+00   \n",
       "75%                    0.000000e+00  ...           2.000000e+01  0.000000e+00   \n",
       "max                    8.829488e+06  ...           1.480000e+03  6.151289e+07   \n",
       "\n",
       "         Active Std    Active Max    Active Min     Idle Mean      Idle Std  \\\n",
       "count  5.006306e+06  5.006306e+06  5.006306e+06  5.006306e+06  5.006306e+06   \n",
       "mean   7.691338e+02  2.055830e+03  3.739154e+02  2.268027e+05  7.325590e+04   \n",
       "std    4.390741e+04  1.054612e+05  4.973739e+04  2.154298e+06  8.243592e+05   \n",
       "min    0.000000e+00  0.000000e+00  0.000000e+00  0.000000e+00  0.000000e+00   \n",
       "25%    0.000000e+00  0.000000e+00  0.000000e+00  0.000000e+00  0.000000e+00   \n",
       "50%    0.000000e+00  0.000000e+00  0.000000e+00  0.000000e+00  0.000000e+00   \n",
       "75%    0.000000e+00  0.000000e+00  0.000000e+00  0.000000e+00  0.000000e+00   \n",
       "max    4.868047e+07  7.286843e+07  6.151289e+07  1.192194e+08  5.727195e+07   \n",
       "\n",
       "           Idle Max      Idle Min       Inbound  \n",
       "count  5.006306e+06  5.006306e+06  5.006306e+06  \n",
       "mean   3.363717e+05  1.537757e+05  9.958608e-01  \n",
       "std    3.209369e+06  1.562049e+06  6.420318e-02  \n",
       "min    0.000000e+00  0.000000e+00  0.000000e+00  \n",
       "25%    0.000000e+00  0.000000e+00  1.000000e+00  \n",
       "50%    0.000000e+00  0.000000e+00  1.000000e+00  \n",
       "75%    0.000000e+00  0.000000e+00  1.000000e+00  \n",
       "max    1.192194e+08  1.192194e+08  1.000000e+00  \n",
       "\n",
       "[8 rows x 83 columns]"
      ]
     },
     "execution_count": 16,
     "metadata": {},
     "output_type": "execute_result"
    }
   ],
   "source": [
    "df.describe()"
   ]
  },
  {
   "cell_type": "code",
   "execution_count": 17,
   "id": "0f1966b9",
   "metadata": {},
   "outputs": [
    {
     "name": "stdout",
     "output_type": "stream",
     "text": [
      "<class 'pandas.core.frame.DataFrame'>\n",
      "Int64Index: 5006306 entries, 0 to 2010781\n",
      "Data columns (total 89 columns):\n",
      " #   Column                        Dtype  \n",
      "---  ------                        -----  \n",
      " 0   Unnamed: 0                    int64  \n",
      " 1   Unnamed: 0.1                  int64  \n",
      " 2   Flow ID                       object \n",
      " 3    Source IP                    object \n",
      " 4    Source Port                  int64  \n",
      " 5    Destination IP               object \n",
      " 6    Destination Port             int64  \n",
      " 7    Protocol                     int64  \n",
      " 8    Timestamp                    object \n",
      " 9    Flow Duration                int64  \n",
      " 10   Total Fwd Packets            int64  \n",
      " 11   Total Backward Packets       int64  \n",
      " 12  Total Length of Fwd Packets   float64\n",
      " 13   Total Length of Bwd Packets  float64\n",
      " 14   Fwd Packet Length Max        float64\n",
      " 15   Fwd Packet Length Min        float64\n",
      " 16   Fwd Packet Length Mean       float64\n",
      " 17   Fwd Packet Length Std        float64\n",
      " 18  Bwd Packet Length Max         float64\n",
      " 19   Bwd Packet Length Min        float64\n",
      " 20   Bwd Packet Length Mean       float64\n",
      " 21   Bwd Packet Length Std        float64\n",
      " 22  Flow Bytes/s                  float64\n",
      " 23   Flow Packets/s               float64\n",
      " 24   Flow IAT Mean                float64\n",
      " 25   Flow IAT Std                 float64\n",
      " 26   Flow IAT Max                 float64\n",
      " 27   Flow IAT Min                 float64\n",
      " 28  Fwd IAT Total                 float64\n",
      " 29   Fwd IAT Mean                 float64\n",
      " 30   Fwd IAT Std                  float64\n",
      " 31   Fwd IAT Max                  float64\n",
      " 32   Fwd IAT Min                  float64\n",
      " 33  Bwd IAT Total                 float64\n",
      " 34   Bwd IAT Mean                 float64\n",
      " 35   Bwd IAT Std                  float64\n",
      " 36   Bwd IAT Max                  float64\n",
      " 37   Bwd IAT Min                  float64\n",
      " 38  Fwd PSH Flags                 int64  \n",
      " 39   Bwd PSH Flags                int64  \n",
      " 40   Fwd URG Flags                int64  \n",
      " 41   Bwd URG Flags                int64  \n",
      " 42   Fwd Header Length            int64  \n",
      " 43   Bwd Header Length            int64  \n",
      " 44  Fwd Packets/s                 float64\n",
      " 45   Bwd Packets/s                float64\n",
      " 46   Min Packet Length            float64\n",
      " 47   Max Packet Length            float64\n",
      " 48   Packet Length Mean           float64\n",
      " 49   Packet Length Std            float64\n",
      " 50   Packet Length Variance       float64\n",
      " 51  FIN Flag Count                int64  \n",
      " 52   SYN Flag Count               int64  \n",
      " 53   RST Flag Count               int64  \n",
      " 54   PSH Flag Count               int64  \n",
      " 55   ACK Flag Count               int64  \n",
      " 56   URG Flag Count               int64  \n",
      " 57   CWE Flag Count               int64  \n",
      " 58   ECE Flag Count               int64  \n",
      " 59   Down/Up Ratio                float64\n",
      " 60   Average Packet Size          float64\n",
      " 61   Avg Fwd Segment Size         float64\n",
      " 62   Avg Bwd Segment Size         float64\n",
      " 63   Fwd Header Length.1          int64  \n",
      " 64  Fwd Avg Bytes/Bulk            int64  \n",
      " 65   Fwd Avg Packets/Bulk         int64  \n",
      " 66   Fwd Avg Bulk Rate            int64  \n",
      " 67   Bwd Avg Bytes/Bulk           int64  \n",
      " 68   Bwd Avg Packets/Bulk         int64  \n",
      " 69  Bwd Avg Bulk Rate             int64  \n",
      " 70  Subflow Fwd Packets           int64  \n",
      " 71   Subflow Fwd Bytes            int64  \n",
      " 72   Subflow Bwd Packets          int64  \n",
      " 73   Subflow Bwd Bytes            int64  \n",
      " 74  Init_Win_bytes_forward        int64  \n",
      " 75   Init_Win_bytes_backward      int64  \n",
      " 76   act_data_pkt_fwd             int64  \n",
      " 77   min_seg_size_forward         int64  \n",
      " 78  Active Mean                   float64\n",
      " 79   Active Std                   float64\n",
      " 80   Active Max                   float64\n",
      " 81   Active Min                   float64\n",
      " 82  Idle Mean                     float64\n",
      " 83   Idle Std                     float64\n",
      " 84   Idle Max                     float64\n",
      " 85   Idle Min                     float64\n",
      " 86  SimillarHTTP                  object \n",
      " 87   Inbound                      int64  \n",
      " 88   Label                        object \n",
      "dtypes: float64(45), int64(38), object(6)\n",
      "memory usage: 3.4+ GB\n"
     ]
    }
   ],
   "source": [
    "df.info()"
   ]
  },
  {
   "cell_type": "code",
   "execution_count": 18,
   "id": "3efa1971",
   "metadata": {},
   "outputs": [
    {
     "name": "stdout",
     "output_type": "stream",
     "text": [
      "columns:  89\n"
     ]
    },
    {
     "data": {
      "text/plain": [
       "Index(['Unnamed: 0', 'Unnamed: 0.1', 'Flow ID', ' Source IP', ' Source Port',\n",
       "       ' Destination IP', ' Destination Port', ' Protocol', ' Timestamp',\n",
       "       ' Flow Duration', ' Total Fwd Packets', ' Total Backward Packets',\n",
       "       'Total Length of Fwd Packets', ' Total Length of Bwd Packets',\n",
       "       ' Fwd Packet Length Max', ' Fwd Packet Length Min',\n",
       "       ' Fwd Packet Length Mean', ' Fwd Packet Length Std',\n",
       "       'Bwd Packet Length Max', ' Bwd Packet Length Min',\n",
       "       ' Bwd Packet Length Mean', ' Bwd Packet Length Std', 'Flow Bytes/s',\n",
       "       ' Flow Packets/s', ' Flow IAT Mean', ' Flow IAT Std', ' Flow IAT Max',\n",
       "       ' Flow IAT Min', 'Fwd IAT Total', ' Fwd IAT Mean', ' Fwd IAT Std',\n",
       "       ' Fwd IAT Max', ' Fwd IAT Min', 'Bwd IAT Total', ' Bwd IAT Mean',\n",
       "       ' Bwd IAT Std', ' Bwd IAT Max', ' Bwd IAT Min', 'Fwd PSH Flags',\n",
       "       ' Bwd PSH Flags', ' Fwd URG Flags', ' Bwd URG Flags',\n",
       "       ' Fwd Header Length', ' Bwd Header Length', 'Fwd Packets/s',\n",
       "       ' Bwd Packets/s', ' Min Packet Length', ' Max Packet Length',\n",
       "       ' Packet Length Mean', ' Packet Length Std', ' Packet Length Variance',\n",
       "       'FIN Flag Count', ' SYN Flag Count', ' RST Flag Count',\n",
       "       ' PSH Flag Count', ' ACK Flag Count', ' URG Flag Count',\n",
       "       ' CWE Flag Count', ' ECE Flag Count', ' Down/Up Ratio',\n",
       "       ' Average Packet Size', ' Avg Fwd Segment Size',\n",
       "       ' Avg Bwd Segment Size', ' Fwd Header Length.1', 'Fwd Avg Bytes/Bulk',\n",
       "       ' Fwd Avg Packets/Bulk', ' Fwd Avg Bulk Rate', ' Bwd Avg Bytes/Bulk',\n",
       "       ' Bwd Avg Packets/Bulk', 'Bwd Avg Bulk Rate', 'Subflow Fwd Packets',\n",
       "       ' Subflow Fwd Bytes', ' Subflow Bwd Packets', ' Subflow Bwd Bytes',\n",
       "       'Init_Win_bytes_forward', ' Init_Win_bytes_backward',\n",
       "       ' act_data_pkt_fwd', ' min_seg_size_forward', 'Active Mean',\n",
       "       ' Active Std', ' Active Max', ' Active Min', 'Idle Mean', ' Idle Std',\n",
       "       ' Idle Max', ' Idle Min', 'SimillarHTTP', ' Inbound', ' Label'],\n",
       "      dtype='object')"
      ]
     },
     "execution_count": 18,
     "metadata": {},
     "output_type": "execute_result"
    }
   ],
   "source": [
    "print(\"columns: \", len(df.columns))\n",
    "df.columns"
   ]
  },
  {
   "cell_type": "code",
   "execution_count": 19,
   "id": "1bd735f9",
   "metadata": {},
   "outputs": [],
   "source": [
    "df = df.rename(columns={' Label': 'Label'})"
   ]
  },
  {
   "cell_type": "code",
   "execution_count": 20,
   "id": "5d4215ce",
   "metadata": {},
   "outputs": [
    {
     "name": "stdout",
     "output_type": "stream",
     "text": [
      "There are 89 columns and 5006306 rows in the Layer 1 Data.\n",
      "After dropping NaN values, there are 89 columns and 4896589 rows in Layer 1 Data.\n",
      "\n",
      "\n"
     ]
    }
   ],
   "source": [
    "# Drop NaN values\n",
    "print('There are {} columns and {} rows in the Layer 1 Data.'.format(len(df.columns), len(df)))\n",
    "df.dropna(axis='index', inplace=True)\n",
    "df = df[~df.isin([np.nan, np.inf, -np.inf]).any(1)]\n",
    "print('After dropping NaN values, there are {} columns and {} rows in Layer 1 Data.\\n\\n'.format(len(df.columns), len(df)))"
   ]
  },
  {
   "cell_type": "code",
   "execution_count": 21,
   "id": "117f04ce",
   "metadata": {},
   "outputs": [],
   "source": [
    "# Remove overfitting columns\n",
    "overfitting_columns = ['Unnamed: 0', ' Source IP', ' Destination IP', ' Source Port', ' Destination Port', ' Timestamp', 'SimillarHTTP', 'Flow ID']\n",
    "df.drop(labels=overfitting_columns, axis='columns', inplace=True)\n",
    "#pd.set_option('display.max_columns', None)"
   ]
  },
  {
   "cell_type": "code",
   "execution_count": 22,
   "id": "f73f8fa6",
   "metadata": {},
   "outputs": [
    {
     "name": "stdout",
     "output_type": "stream",
     "text": [
      "After dropping overfitting columns: \n",
      "\t there are 81 columns and 4896589 rows\n"
     ]
    }
   ],
   "source": [
    "print('After dropping overfitting columns: \\n\\t there are {} columns and {} rows'.format(len(df.columns), len(df)))"
   ]
  },
  {
   "cell_type": "code",
   "execution_count": 23,
   "id": "2ef87286",
   "metadata": {},
   "outputs": [
    {
     "name": "stdout",
     "output_type": "stream",
     "text": [
      "Index(['Unnamed: 0.1', ' Protocol', ' Flow Duration', ' Total Fwd Packets',\n",
      "       ' Total Backward Packets', 'Total Length of Fwd Packets',\n",
      "       ' Total Length of Bwd Packets', ' Fwd Packet Length Max',\n",
      "       ' Fwd Packet Length Min', ' Fwd Packet Length Mean',\n",
      "       ' Fwd Packet Length Std', 'Bwd Packet Length Max',\n",
      "       ' Bwd Packet Length Min', ' Bwd Packet Length Mean',\n",
      "       ' Bwd Packet Length Std', 'Flow Bytes/s', ' Flow Packets/s',\n",
      "       ' Flow IAT Mean', ' Flow IAT Std', ' Flow IAT Max', ' Flow IAT Min',\n",
      "       'Fwd IAT Total', ' Fwd IAT Mean', ' Fwd IAT Std', ' Fwd IAT Max',\n",
      "       ' Fwd IAT Min', 'Bwd IAT Total', ' Bwd IAT Mean', ' Bwd IAT Std',\n",
      "       ' Bwd IAT Max', ' Bwd IAT Min', 'Fwd PSH Flags', ' Bwd PSH Flags',\n",
      "       ' Fwd URG Flags', ' Bwd URG Flags', ' Fwd Header Length',\n",
      "       ' Bwd Header Length', 'Fwd Packets/s', ' Bwd Packets/s',\n",
      "       ' Min Packet Length', ' Max Packet Length', ' Packet Length Mean',\n",
      "       ' Packet Length Std', ' Packet Length Variance', 'FIN Flag Count',\n",
      "       ' SYN Flag Count', ' RST Flag Count', ' PSH Flag Count',\n",
      "       ' ACK Flag Count', ' URG Flag Count', ' CWE Flag Count',\n",
      "       ' ECE Flag Count', ' Down/Up Ratio', ' Average Packet Size',\n",
      "       ' Avg Fwd Segment Size', ' Avg Bwd Segment Size',\n",
      "       ' Fwd Header Length.1', 'Fwd Avg Bytes/Bulk', ' Fwd Avg Packets/Bulk',\n",
      "       ' Fwd Avg Bulk Rate', ' Bwd Avg Bytes/Bulk', ' Bwd Avg Packets/Bulk',\n",
      "       'Bwd Avg Bulk Rate', 'Subflow Fwd Packets', ' Subflow Fwd Bytes',\n",
      "       ' Subflow Bwd Packets', ' Subflow Bwd Bytes', 'Init_Win_bytes_forward',\n",
      "       ' Init_Win_bytes_backward', ' act_data_pkt_fwd',\n",
      "       ' min_seg_size_forward', 'Active Mean', ' Active Std', ' Active Max',\n",
      "       ' Active Min', 'Idle Mean', ' Idle Std', ' Idle Max', ' Idle Min',\n",
      "       ' Inbound', 'Label'],\n",
      "      dtype='object')\n"
     ]
    }
   ],
   "source": [
    "print(df.columns)"
   ]
  },
  {
   "cell_type": "code",
   "execution_count": 24,
   "id": "546f099a",
   "metadata": {},
   "outputs": [
    {
     "data": {
      "image/png": "[encoded data removed]",
      "text/plain": [
       "<Figure size 1080x504 with 1 Axes>"
      ]
     },
     "metadata": {
      "needs_background": "light"
     },
     "output_type": "display_data"
    }
   ],
   "source": [
    "plt.figure(figsize=(15,7))\n",
    "class_distribution = df['Label'].value_counts()\n",
    "class_distribution.plot(kind='bar')\n",
    "plt.xlabel('Class')\n",
    "plt.ylabel('Data points per Class')\n",
    "plt.title('Distribution of Data')\n",
    "plt.grid()\n",
    "plt.show()"
   ]
  },
  {
   "cell_type": "code",
   "execution_count": 25,
   "id": "8806417c",
   "metadata": {},
   "outputs": [],
   "source": [
    "# Remove columns with only values of 0\n",
    "#useless_columns = [' Bwd PSH Flags', ' Fwd URG Flags', ' Fwd URG Flags', ' Bwd URG Flags', ' Bwd URG Flags', 'FIN Flag Count',\n",
    "#                   ' PSH Flag Count', ' ECE Flag Count', 'Fwd Avg Bytes/Bulk', ' Fwd Avg Packets/Bulk', ' Fwd Avg Bulk Rate',\n",
    "#                   ' Bwd Avg Bytes/Bulk', ' Bwd Avg Packets/Bulk', 'Bwd Avg Bulk Rate']\n",
    "#df.drop(labels=useless_columns, axis='columns', inplace=True)\n",
    "#print('After dropping columns with only 0 values: \\n\\t there are {} columns and {} rows'.format(len(df.columns),\n",
    "#                                                                                                len(df)))\n",
    "\n",
    "\n",
    "#removing columns where variation(std) is 0 \n",
    "df=df.drop('Unnamed: 0.1',axis=1)\n",
    "df=df.drop(' Fwd URG Flags',axis=1)\n",
    "df=df.drop(' Bwd URG Flags',axis=1)\n",
    "df=df.drop('FIN Flag Count',axis=1)\n",
    "df=df.drop(' PSH Flag Count',axis=1)\n",
    "df=df.drop(' ECE Flag Count',axis=1)\n",
    "df=df.drop('Fwd Avg Bytes/Bulk',axis=1)\n",
    "df=df.drop(' Fwd Avg Packets/Bulk',axis=1)\n",
    "df=df.drop(' Fwd Avg Bulk Rate',axis=1)\n",
    "df=df.drop(' Bwd Avg Bytes/Bulk',axis=1)\n",
    "df=df.drop(' Bwd Avg Packets/Bulk',axis=1)\n",
    "df=df.drop('Bwd Avg Bulk Rate',axis=1)"
   ]
  },
  {
   "cell_type": "code",
   "execution_count": 26,
   "id": "cf03b54a",
   "metadata": {},
   "outputs": [
    {
     "data": {
      "text/plain": [
       "TFTP             1977115\n",
       "DrDoS_SNMP        511374\n",
       "DrDoS_DNS         483854\n",
       "DrDoS_MSSQL       437587\n",
       "DrDoS_NetBIOS     400236\n",
       "DrDoS_UDP         309821\n",
       "DrDoS_SSDP        255637\n",
       "DrDoS_LDAP        212795\n",
       "Syn               144172\n",
       "DrDoS_NTP         108232\n",
       "UDP-lag            36809\n",
       "BENIGN             18951\n",
       "WebDDoS                6\n",
       "Name: Label, dtype: int64"
      ]
     },
     "execution_count": 26,
     "metadata": {},
     "output_type": "execute_result"
    }
   ],
   "source": [
    "df['Label'].value_counts()"
   ]
  },
  {
   "cell_type": "code",
   "execution_count": 27,
   "id": "6d7e413a",
   "metadata": {},
   "outputs": [
    {
     "data": {
      "image/png": "[encoded data removed]",
      "text/plain": [
       "<Figure size 1080x504 with 1 Axes>"
      ]
     },
     "metadata": {
      "needs_background": "light"
     },
     "output_type": "display_data"
    }
   ],
   "source": [
    "plt.figure(figsize=(15,7))\n",
    "class_distribution = df['Label'].value_counts()\n",
    "class_distribution.plot(kind='bar')\n",
    "plt.xlabel('Class')\n",
    "plt.ylabel('Data points per Class')\n",
    "plt.title('Distribution of Data')\n",
    "plt.grid()\n",
    "plt.show()"
   ]
  },
  {
   "cell_type": "code",
   "execution_count": 28,
   "id": "6047c7b3",
   "metadata": {},
   "outputs": [
    {
     "data": {
      "text/plain": [
       "10    1977115\n",
       "6      511374\n",
       "1      483854\n",
       "3      437587\n",
       "5      400236\n",
       "8      309821\n",
       "7      255637\n",
       "2      212795\n",
       "9      144172\n",
       "4      108232\n",
       "11      36809\n",
       "0       18951\n",
       "12          6\n",
       "Name: Label, dtype: int64"
      ]
     },
     "execution_count": 28,
     "metadata": {},
     "output_type": "execute_result"
    }
   ],
   "source": [
    "from sklearn.model_selection import train_test_split\n",
    "from sklearn.preprocessing import OneHotEncoder, StandardScaler, LabelEncoder\n",
    "\n",
    "#drop na values and reset index\n",
    "data_clean = df.dropna().reset_index()\n",
    "\n",
    "# label encoding\n",
    "labelencoder = LabelEncoder()\n",
    "data_clean['Label'] = labelencoder.fit_transform(data_clean['Label'])\n",
    "\n",
    "data_clean['Label'].value_counts()"
   ]
  },
  {
   "cell_type": "code",
   "execution_count": null,
   "id": "0efae3fc",
   "metadata": {},
   "outputs": [],
   "source": []
  },
  {
   "cell_type": "code",
   "execution_count": 29,
   "id": "37ee8a80",
   "metadata": {},
   "outputs": [],
   "source": [
    "data_np = data_clean.to_numpy(dtype=\"float32\")\n",
    "data_np = data_np[~np.isinf(data_np).any(axis=1)]\n",
    "\n",
    "del df\n",
    "\n",
    "X = data_np[:, 0:67]\n",
    "\n",
    "enc = OneHotEncoder()\n",
    "\n",
    "Y = enc.fit_transform(data_np[:,68:]).toarray()"
   ]
  },
  {
   "cell_type": "code",
   "execution_count": 30,
   "id": "4b0d783a",
   "metadata": {},
   "outputs": [],
   "source": [
    "scaler = StandardScaler()\n",
    "X_scaled = scaler.fit_transform(X)\n",
    "\n",
    "# Split the data set into training and testing\n",
    "X_train, X_test, Y_train, Y_test = train_test_split(\n",
    "    X_scaled, Y, test_size=0.25, random_state=2, shuffle=True)\n",
    "\n",
    "_features = X.shape[1]\n",
    "n_classes = Y.shape[1]"
   ]
  },
  {
   "cell_type": "code",
   "execution_count": 31,
   "id": "3fb3cddf",
   "metadata": {},
   "outputs": [
    {
     "data": {
      "text/plain": [
       "(4896589, 67)"
      ]
     },
     "execution_count": 31,
     "metadata": {},
     "output_type": "execute_result"
    }
   ],
   "source": [
    "X.shape"
   ]
  },
  {
   "cell_type": "code",
   "execution_count": 32,
   "id": "42247a50",
   "metadata": {},
   "outputs": [
    {
     "data": {
      "text/plain": [
       "(4896589, 15)"
      ]
     },
     "execution_count": 32,
     "metadata": {},
     "output_type": "execute_result"
    }
   ],
   "source": [
    "Y.shape"
   ]
  },
  {
   "cell_type": "code",
   "execution_count": 33,
   "id": "f9e7b30b",
   "metadata": {},
   "outputs": [
    {
     "name": "stdout",
     "output_type": "stream",
     "text": [
      "(3672441, 67)\n",
      "(3672441, 15)\n",
      "(1224148, 67)\n",
      "(1224148, 15)\n"
     ]
    }
   ],
   "source": [
    "print(X_train.shape)\n",
    "print(Y_train.shape)\n",
    "\n",
    "print(X_test.shape)\n",
    "print(Y_test.shape)"
   ]
  },
  {
   "cell_type": "code",
   "execution_count": 34,
   "id": "11697606",
   "metadata": {},
   "outputs": [
    {
     "data": {
      "text/plain": [
       "Index(['index', ' Protocol', ' Flow Duration', ' Total Fwd Packets',\n",
       "       ' Total Backward Packets', 'Total Length of Fwd Packets',\n",
       "       ' Total Length of Bwd Packets', ' Fwd Packet Length Max',\n",
       "       ' Fwd Packet Length Min', ' Fwd Packet Length Mean',\n",
       "       ' Fwd Packet Length Std', 'Bwd Packet Length Max',\n",
       "       ' Bwd Packet Length Min', ' Bwd Packet Length Mean',\n",
       "       ' Bwd Packet Length Std', 'Flow Bytes/s', ' Flow Packets/s',\n",
       "       ' Flow IAT Mean', ' Flow IAT Std', ' Flow IAT Max', ' Flow IAT Min',\n",
       "       'Fwd IAT Total', ' Fwd IAT Mean', ' Fwd IAT Std', ' Fwd IAT Max',\n",
       "       ' Fwd IAT Min', 'Bwd IAT Total', ' Bwd IAT Mean', ' Bwd IAT Std',\n",
       "       ' Bwd IAT Max', ' Bwd IAT Min', 'Fwd PSH Flags', ' Bwd PSH Flags',\n",
       "       ' Fwd Header Length', ' Bwd Header Length', 'Fwd Packets/s',\n",
       "       ' Bwd Packets/s', ' Min Packet Length', ' Max Packet Length',\n",
       "       ' Packet Length Mean', ' Packet Length Std', ' Packet Length Variance',\n",
       "       ' SYN Flag Count', ' RST Flag Count', ' ACK Flag Count',\n",
       "       ' URG Flag Count', ' CWE Flag Count', ' Down/Up Ratio',\n",
       "       ' Average Packet Size', ' Avg Fwd Segment Size',\n",
       "       ' Avg Bwd Segment Size', ' Fwd Header Length.1', 'Subflow Fwd Packets',\n",
       "       ' Subflow Fwd Bytes', ' Subflow Bwd Packets', ' Subflow Bwd Bytes',\n",
       "       'Init_Win_bytes_forward', ' Init_Win_bytes_backward',\n",
       "       ' act_data_pkt_fwd', ' min_seg_size_forward', 'Active Mean',\n",
       "       ' Active Std', ' Active Max', ' Active Min', 'Idle Mean', ' Idle Std',\n",
       "       ' Idle Max', ' Idle Min', ' Inbound', 'Label'],\n",
       "      dtype='object')"
      ]
     },
     "execution_count": 34,
     "metadata": {},
     "output_type": "execute_result"
    }
   ],
   "source": [
    "data_clean.columns"
   ]
  },
  {
   "cell_type": "code",
   "execution_count": 39,
   "id": "3734e4a1",
   "metadata": {},
   "outputs": [],
   "source": [
    "df=data_clean"
   ]
  },
  {
   "cell_type": "code",
   "execution_count": null,
   "id": "96f29cf7",
   "metadata": {},
   "outputs": [],
   "source": []
  },
  {
   "cell_type": "code",
   "execution_count": 40,
   "id": "3a571355",
   "metadata": {},
   "outputs": [],
   "source": [
    "#df['Label'] = df['Label'].replace('DrDoS_LDAPBENIGN', 'BENIGN')\n",
    "#df['Label'] = df['Label'].replace('DrDoS_UDPBENIGN', 'BENIGN')\n",
    "#df['Label'] = df['Label'].replace('BENIGNUDP', 'BENIGN')\n",
    "#df['Label'] = df['Label'].replace('DrDoS_MSSQLBENIGN', 'BENIGN')\n",
    "#df['Label'] = df['Label'].replace('BENIGNMSSQL', 'BENIGN')\n",
    "#df['Label'] = df['Label'].replace('BENIGNNetBIOS', 'BENIGN')\n",
    "#df['Label'] = df['Label'].replace('SynBENIGN', 'BENIGN')\n",
    "#df['Label'] = df['Label'].replace('BENIGNSyn', 'BENIGN')\n",
    "#df['Label'] = df['Label'].replace('BENIGNLDAP', 'BENIGN')"
   ]
  },
  {
   "cell_type": "code",
   "execution_count": null,
   "id": "1e9941b7",
   "metadata": {},
   "outputs": [],
   "source": [
    "print('num = ',len(df[' Source IP'].unique()))\n",
    "df[' Source IP'].unique()"
   ]
  },
  {
   "cell_type": "code",
   "execution_count": 42,
   "id": "360cb592",
   "metadata": {},
   "outputs": [
    {
     "data": {
      "text/html": [
       "<div>\n",
       "<style scoped>\n",
       "    .dataframe tbody tr th:only-of-type {\n",
       "        vertical-align: middle;\n",
       "    }\n",
       "\n",
       "    .dataframe tbody tr th {\n",
       "        vertical-align: top;\n",
       "    }\n",
       "\n",
       "    .dataframe thead th {\n",
       "        text-align: right;\n",
       "    }\n",
       "</style>\n",
       "<table border=\"1\" class=\"dataframe\">\n",
       "  <thead>\n",
       "    <tr style=\"text-align: right;\">\n",
       "      <th></th>\n",
       "      <th>index</th>\n",
       "      <th>Protocol</th>\n",
       "      <th>Flow Duration</th>\n",
       "      <th>Total Fwd Packets</th>\n",
       "      <th>Total Backward Packets</th>\n",
       "      <th>Total Length of Fwd Packets</th>\n",
       "      <th>Total Length of Bwd Packets</th>\n",
       "      <th>Fwd Packet Length Max</th>\n",
       "      <th>Fwd Packet Length Min</th>\n",
       "      <th>Fwd Packet Length Mean</th>\n",
       "      <th>...</th>\n",
       "      <th>Active Mean</th>\n",
       "      <th>Active Std</th>\n",
       "      <th>Active Max</th>\n",
       "      <th>Active Min</th>\n",
       "      <th>Idle Mean</th>\n",
       "      <th>Idle Std</th>\n",
       "      <th>Idle Max</th>\n",
       "      <th>Idle Min</th>\n",
       "      <th>Inbound</th>\n",
       "      <th>Label</th>\n",
       "    </tr>\n",
       "  </thead>\n",
       "  <tbody>\n",
       "    <tr>\n",
       "      <th>0</th>\n",
       "      <td>0</td>\n",
       "      <td>17</td>\n",
       "      <td>1</td>\n",
       "      <td>2</td>\n",
       "      <td>0</td>\n",
       "      <td>766.0</td>\n",
       "      <td>0.0</td>\n",
       "      <td>383.0</td>\n",
       "      <td>383.0</td>\n",
       "      <td>383.0</td>\n",
       "      <td>...</td>\n",
       "      <td>0.0</td>\n",
       "      <td>0.0</td>\n",
       "      <td>0.0</td>\n",
       "      <td>0.0</td>\n",
       "      <td>0.0</td>\n",
       "      <td>0.0</td>\n",
       "      <td>0.0</td>\n",
       "      <td>0.0</td>\n",
       "      <td>1</td>\n",
       "      <td>11</td>\n",
       "    </tr>\n",
       "    <tr>\n",
       "      <th>1</th>\n",
       "      <td>1</td>\n",
       "      <td>17</td>\n",
       "      <td>1</td>\n",
       "      <td>2</td>\n",
       "      <td>0</td>\n",
       "      <td>778.0</td>\n",
       "      <td>0.0</td>\n",
       "      <td>389.0</td>\n",
       "      <td>389.0</td>\n",
       "      <td>389.0</td>\n",
       "      <td>...</td>\n",
       "      <td>0.0</td>\n",
       "      <td>0.0</td>\n",
       "      <td>0.0</td>\n",
       "      <td>0.0</td>\n",
       "      <td>0.0</td>\n",
       "      <td>0.0</td>\n",
       "      <td>0.0</td>\n",
       "      <td>0.0</td>\n",
       "      <td>1</td>\n",
       "      <td>11</td>\n",
       "    </tr>\n",
       "    <tr>\n",
       "      <th>2</th>\n",
       "      <td>2</td>\n",
       "      <td>17</td>\n",
       "      <td>2</td>\n",
       "      <td>2</td>\n",
       "      <td>0</td>\n",
       "      <td>750.0</td>\n",
       "      <td>0.0</td>\n",
       "      <td>375.0</td>\n",
       "      <td>375.0</td>\n",
       "      <td>375.0</td>\n",
       "      <td>...</td>\n",
       "      <td>0.0</td>\n",
       "      <td>0.0</td>\n",
       "      <td>0.0</td>\n",
       "      <td>0.0</td>\n",
       "      <td>0.0</td>\n",
       "      <td>0.0</td>\n",
       "      <td>0.0</td>\n",
       "      <td>0.0</td>\n",
       "      <td>1</td>\n",
       "      <td>11</td>\n",
       "    </tr>\n",
       "    <tr>\n",
       "      <th>3</th>\n",
       "      <td>3</td>\n",
       "      <td>17</td>\n",
       "      <td>2</td>\n",
       "      <td>2</td>\n",
       "      <td>0</td>\n",
       "      <td>738.0</td>\n",
       "      <td>0.0</td>\n",
       "      <td>369.0</td>\n",
       "      <td>369.0</td>\n",
       "      <td>369.0</td>\n",
       "      <td>...</td>\n",
       "      <td>0.0</td>\n",
       "      <td>0.0</td>\n",
       "      <td>0.0</td>\n",
       "      <td>0.0</td>\n",
       "      <td>0.0</td>\n",
       "      <td>0.0</td>\n",
       "      <td>0.0</td>\n",
       "      <td>0.0</td>\n",
       "      <td>1</td>\n",
       "      <td>11</td>\n",
       "    </tr>\n",
       "    <tr>\n",
       "      <th>4</th>\n",
       "      <td>4</td>\n",
       "      <td>17</td>\n",
       "      <td>1</td>\n",
       "      <td>2</td>\n",
       "      <td>0</td>\n",
       "      <td>750.0</td>\n",
       "      <td>0.0</td>\n",
       "      <td>375.0</td>\n",
       "      <td>375.0</td>\n",
       "      <td>375.0</td>\n",
       "      <td>...</td>\n",
       "      <td>0.0</td>\n",
       "      <td>0.0</td>\n",
       "      <td>0.0</td>\n",
       "      <td>0.0</td>\n",
       "      <td>0.0</td>\n",
       "      <td>0.0</td>\n",
       "      <td>0.0</td>\n",
       "      <td>0.0</td>\n",
       "      <td>1</td>\n",
       "      <td>11</td>\n",
       "    </tr>\n",
       "    <tr>\n",
       "      <th>...</th>\n",
       "      <td>...</td>\n",
       "      <td>...</td>\n",
       "      <td>...</td>\n",
       "      <td>...</td>\n",
       "      <td>...</td>\n",
       "      <td>...</td>\n",
       "      <td>...</td>\n",
       "      <td>...</td>\n",
       "      <td>...</td>\n",
       "      <td>...</td>\n",
       "      <td>...</td>\n",
       "      <td>...</td>\n",
       "      <td>...</td>\n",
       "      <td>...</td>\n",
       "      <td>...</td>\n",
       "      <td>...</td>\n",
       "      <td>...</td>\n",
       "      <td>...</td>\n",
       "      <td>...</td>\n",
       "      <td>...</td>\n",
       "      <td>...</td>\n",
       "    </tr>\n",
       "    <tr>\n",
       "      <th>4896584</th>\n",
       "      <td>2010777</td>\n",
       "      <td>17</td>\n",
       "      <td>3099346</td>\n",
       "      <td>4</td>\n",
       "      <td>0</td>\n",
       "      <td>2064.0</td>\n",
       "      <td>0.0</td>\n",
       "      <td>516.0</td>\n",
       "      <td>516.0</td>\n",
       "      <td>516.0</td>\n",
       "      <td>...</td>\n",
       "      <td>0.0</td>\n",
       "      <td>0.0</td>\n",
       "      <td>0.0</td>\n",
       "      <td>0.0</td>\n",
       "      <td>0.0</td>\n",
       "      <td>0.0</td>\n",
       "      <td>0.0</td>\n",
       "      <td>0.0</td>\n",
       "      <td>1</td>\n",
       "      <td>10</td>\n",
       "    </tr>\n",
       "    <tr>\n",
       "      <th>4896585</th>\n",
       "      <td>2010778</td>\n",
       "      <td>17</td>\n",
       "      <td>2998055</td>\n",
       "      <td>4</td>\n",
       "      <td>0</td>\n",
       "      <td>2064.0</td>\n",
       "      <td>0.0</td>\n",
       "      <td>516.0</td>\n",
       "      <td>516.0</td>\n",
       "      <td>516.0</td>\n",
       "      <td>...</td>\n",
       "      <td>0.0</td>\n",
       "      <td>0.0</td>\n",
       "      <td>0.0</td>\n",
       "      <td>0.0</td>\n",
       "      <td>0.0</td>\n",
       "      <td>0.0</td>\n",
       "      <td>0.0</td>\n",
       "      <td>0.0</td>\n",
       "      <td>1</td>\n",
       "      <td>10</td>\n",
       "    </tr>\n",
       "    <tr>\n",
       "      <th>4896586</th>\n",
       "      <td>2010779</td>\n",
       "      <td>17</td>\n",
       "      <td>3001280</td>\n",
       "      <td>4</td>\n",
       "      <td>0</td>\n",
       "      <td>2064.0</td>\n",
       "      <td>0.0</td>\n",
       "      <td>516.0</td>\n",
       "      <td>516.0</td>\n",
       "      <td>516.0</td>\n",
       "      <td>...</td>\n",
       "      <td>0.0</td>\n",
       "      <td>0.0</td>\n",
       "      <td>0.0</td>\n",
       "      <td>0.0</td>\n",
       "      <td>0.0</td>\n",
       "      <td>0.0</td>\n",
       "      <td>0.0</td>\n",
       "      <td>0.0</td>\n",
       "      <td>1</td>\n",
       "      <td>10</td>\n",
       "    </tr>\n",
       "    <tr>\n",
       "      <th>4896587</th>\n",
       "      <td>2010780</td>\n",
       "      <td>17</td>\n",
       "      <td>2992778</td>\n",
       "      <td>4</td>\n",
       "      <td>0</td>\n",
       "      <td>2064.0</td>\n",
       "      <td>0.0</td>\n",
       "      <td>516.0</td>\n",
       "      <td>516.0</td>\n",
       "      <td>516.0</td>\n",
       "      <td>...</td>\n",
       "      <td>0.0</td>\n",
       "      <td>0.0</td>\n",
       "      <td>0.0</td>\n",
       "      <td>0.0</td>\n",
       "      <td>0.0</td>\n",
       "      <td>0.0</td>\n",
       "      <td>0.0</td>\n",
       "      <td>0.0</td>\n",
       "      <td>1</td>\n",
       "      <td>10</td>\n",
       "    </tr>\n",
       "    <tr>\n",
       "      <th>4896588</th>\n",
       "      <td>2010781</td>\n",
       "      <td>17</td>\n",
       "      <td>2996063</td>\n",
       "      <td>4</td>\n",
       "      <td>0</td>\n",
       "      <td>2064.0</td>\n",
       "      <td>0.0</td>\n",
       "      <td>516.0</td>\n",
       "      <td>516.0</td>\n",
       "      <td>516.0</td>\n",
       "      <td>...</td>\n",
       "      <td>0.0</td>\n",
       "      <td>0.0</td>\n",
       "      <td>0.0</td>\n",
       "      <td>0.0</td>\n",
       "      <td>0.0</td>\n",
       "      <td>0.0</td>\n",
       "      <td>0.0</td>\n",
       "      <td>0.0</td>\n",
       "      <td>1</td>\n",
       "      <td>10</td>\n",
       "    </tr>\n",
       "  </tbody>\n",
       "</table>\n",
       "<p>4896589 rows × 70 columns</p>\n",
       "</div>"
      ],
      "text/plain": [
       "           index   Protocol   Flow Duration   Total Fwd Packets  \\\n",
       "0              0         17               1                   2   \n",
       "1              1         17               1                   2   \n",
       "2              2         17               2                   2   \n",
       "3              3         17               2                   2   \n",
       "4              4         17               1                   2   \n",
       "...          ...        ...             ...                 ...   \n",
       "4896584  2010777         17         3099346                   4   \n",
       "4896585  2010778         17         2998055                   4   \n",
       "4896586  2010779         17         3001280                   4   \n",
       "4896587  2010780         17         2992778                   4   \n",
       "4896588  2010781         17         2996063                   4   \n",
       "\n",
       "          Total Backward Packets  Total Length of Fwd Packets  \\\n",
       "0                              0                        766.0   \n",
       "1                              0                        778.0   \n",
       "2                              0                        750.0   \n",
       "3                              0                        738.0   \n",
       "4                              0                        750.0   \n",
       "...                          ...                          ...   \n",
       "4896584                        0                       2064.0   \n",
       "4896585                        0                       2064.0   \n",
       "4896586                        0                       2064.0   \n",
       "4896587                        0                       2064.0   \n",
       "4896588                        0                       2064.0   \n",
       "\n",
       "          Total Length of Bwd Packets   Fwd Packet Length Max  \\\n",
       "0                                 0.0                   383.0   \n",
       "1                                 0.0                   389.0   \n",
       "2                                 0.0                   375.0   \n",
       "3                                 0.0                   369.0   \n",
       "4                                 0.0                   375.0   \n",
       "...                               ...                     ...   \n",
       "4896584                           0.0                   516.0   \n",
       "4896585                           0.0                   516.0   \n",
       "4896586                           0.0                   516.0   \n",
       "4896587                           0.0                   516.0   \n",
       "4896588                           0.0                   516.0   \n",
       "\n",
       "          Fwd Packet Length Min   Fwd Packet Length Mean  ...  Active Mean  \\\n",
       "0                         383.0                    383.0  ...          0.0   \n",
       "1                         389.0                    389.0  ...          0.0   \n",
       "2                         375.0                    375.0  ...          0.0   \n",
       "3                         369.0                    369.0  ...          0.0   \n",
       "4                         375.0                    375.0  ...          0.0   \n",
       "...                         ...                      ...  ...          ...   \n",
       "4896584                   516.0                    516.0  ...          0.0   \n",
       "4896585                   516.0                    516.0  ...          0.0   \n",
       "4896586                   516.0                    516.0  ...          0.0   \n",
       "4896587                   516.0                    516.0  ...          0.0   \n",
       "4896588                   516.0                    516.0  ...          0.0   \n",
       "\n",
       "          Active Std   Active Max   Active Min  Idle Mean   Idle Std  \\\n",
       "0                0.0          0.0          0.0        0.0        0.0   \n",
       "1                0.0          0.0          0.0        0.0        0.0   \n",
       "2                0.0          0.0          0.0        0.0        0.0   \n",
       "3                0.0          0.0          0.0        0.0        0.0   \n",
       "4                0.0          0.0          0.0        0.0        0.0   \n",
       "...              ...          ...          ...        ...        ...   \n",
       "4896584          0.0          0.0          0.0        0.0        0.0   \n",
       "4896585          0.0          0.0          0.0        0.0        0.0   \n",
       "4896586          0.0          0.0          0.0        0.0        0.0   \n",
       "4896587          0.0          0.0          0.0        0.0        0.0   \n",
       "4896588          0.0          0.0          0.0        0.0        0.0   \n",
       "\n",
       "          Idle Max   Idle Min   Inbound  Label  \n",
       "0              0.0        0.0         1     11  \n",
       "1              0.0        0.0         1     11  \n",
       "2              0.0        0.0         1     11  \n",
       "3              0.0        0.0         1     11  \n",
       "4              0.0        0.0         1     11  \n",
       "...            ...        ...       ...    ...  \n",
       "4896584        0.0        0.0         1     10  \n",
       "4896585        0.0        0.0         1     10  \n",
       "4896586        0.0        0.0         1     10  \n",
       "4896587        0.0        0.0         1     10  \n",
       "4896588        0.0        0.0         1     10  \n",
       "\n",
       "[4896589 rows x 70 columns]"
      ]
     },
     "execution_count": 42,
     "metadata": {},
     "output_type": "execute_result"
    }
   ],
   "source": [
    "df"
   ]
  },
  {
   "cell_type": "code",
   "execution_count": 43,
   "id": "bb7afd9a",
   "metadata": {},
   "outputs": [],
   "source": [
    "from sklearn.preprocessing import LabelEncoder\n",
    "le = LabelEncoder()\n",
    "a = df"
   ]
  },
  {
   "cell_type": "code",
   "execution_count": null,
   "id": "98416b3c",
   "metadata": {},
   "outputs": [],
   "source": [
    "import netaddr \n",
    "ips = df[' Destination IP']\n",
    "converted=[]\n",
    "for i in range(len(ips)):\n",
    "  converted.append(int(netaddr.IPAddress(ips[i])))\n",
    "print(\"done\")"
   ]
  },
  {
   "cell_type": "code",
   "execution_count": null,
   "id": "31ac69ca",
   "metadata": {},
   "outputs": [],
   "source": [
    "ips = df[' Source IP'].unique()\n",
    "l = len(ips)\n",
    "print('strating loop, length is',l)\n",
    "for i in range(l):\n",
    "  df[' Source IP'] = df[' Source IP'].replace(ips[i], int(netaddr.IPAddress(ips[i])))\n",
    "print('loop over')"
   ]
  },
  {
   "cell_type": "code",
   "execution_count": 45,
   "id": "da960458",
   "metadata": {},
   "outputs": [],
   "source": [
    "df['Flow Bytes/s'] = df['Flow Bytes/s'].astype('float')"
   ]
  },
  {
   "cell_type": "code",
   "execution_count": 47,
   "id": "eab8ed3d",
   "metadata": {},
   "outputs": [],
   "source": [
    "#removing all the 0.0 correlation values\n",
    "#df=df.drop(' Source IP',axis=1)\n",
    "df=df.drop(' Flow Duration',axis=1)\n",
    "df=df.drop(' Total Fwd Packets',axis=1)\n",
    "df=df.drop(' Total Backward Packets',axis=1)\n",
    "df=df.drop(' Total Length of Bwd Packets',axis=1)\n",
    "df=df.drop(' Fwd Packet Length Std',axis=1)\n",
    "df=df.drop(' Flow IAT Max',axis=1)\n",
    "df=df.drop(' Flow IAT Min',axis=1)\n",
    "df=df.drop('Fwd IAT Total',axis=1)\n",
    "df=df.drop(' Fwd IAT Max',axis=1)\n",
    "df=df.drop(' Fwd IAT Min',axis=1)\n",
    "df=df.drop('Bwd IAT Total',axis=1)\n",
    "df=df.drop(' Bwd IAT Mean',axis=1)\n",
    "df=df.drop(' Bwd IAT Std',axis=1)\n",
    "df=df.drop(' Bwd IAT Max',axis=1)\n",
    "df=df.drop(' Bwd IAT Min',axis=1)\n",
    "df=df.drop(' Fwd Header Length',axis=1)\n",
    "df=df.drop(' Bwd Header Length',axis=1)\n",
    "df=df.drop(' Bwd Packets/s',axis=1)\n",
    "df=df.drop(' SYN Flag Count',axis=1)\n",
    "df=df.drop(' Down/Up Ratio',axis=1)\n",
    "df=df.drop(' Fwd Header Length.1',axis=1)\n",
    "df=df.drop('Subflow Fwd Packets',axis=1)\n",
    "df=df.drop(' Subflow Bwd Packets',axis=1)\n",
    "df=df.drop(' Subflow Bwd Bytes',axis=1)\n",
    "df=df.drop(' act_data_pkt_fwd',axis=1)\n",
    "df=df.drop(' min_seg_size_forward',axis=1)\n",
    "df=df.drop('Active Mean',axis=1)\n",
    "df=df.drop(' Active Std',axis=1)\n",
    "df=df.drop(' Active Max',axis=1)\n",
    "df=df.drop(' Active Min',axis=1)\n",
    "df=df.drop('Idle Mean',axis=1)\n",
    "df=df.drop(' Idle Max',axis=1)\n",
    "df=df.drop(' Idle Min',axis=1)\n",
    "df = df.drop(' Packet Length Std',axis=1)"
   ]
  },
  {
   "cell_type": "code",
   "execution_count": 48,
   "id": "436999b2",
   "metadata": {},
   "outputs": [],
   "source": [
    "def clean_dataset(df):\n",
    "    columns = df.columns\n",
    "    assert isinstance(df, pd.DataFrame), \"df needs to be a pd.DataFrame\"\n",
    "    df.dropna(inplace=True)\n",
    "    indices_to_keep = ~df.isin([np.nan, np.inf, -np.inf]).any(1)\n",
    "    return df[indices_to_keep].astype(np.float64)"
   ]
  },
  {
   "cell_type": "code",
   "execution_count": 49,
   "id": "be6068be",
   "metadata": {},
   "outputs": [],
   "source": [
    "scaler = StandardScaler()"
   ]
  },
  {
   "cell_type": "code",
   "execution_count": null,
   "id": "ea1126a9",
   "metadata": {},
   "outputs": [],
   "source": [
    "import netaddr \n",
    "ips = df[' Destination IP'].unique()\n",
    "l = len(ips)\n",
    "print('strating loop, length is',l)\n",
    "for i in range(l):\n",
    "  df[' Destination IP'] = df[' Destination IP'].replace(ips[i], int(netaddr.IPAddress(ips[i])))\n",
    "print('loop over')"
   ]
  },
  {
   "cell_type": "code",
   "execution_count": 50,
   "id": "2edddce0",
   "metadata": {},
   "outputs": [
    {
     "data": {
      "image/png": "[encoded data removed]",
      "text/plain": [
       "<Figure size 1080x504 with 1 Axes>"
      ]
     },
     "metadata": {
      "needs_background": "light"
     },
     "output_type": "display_data"
    }
   ],
   "source": [
    "plt.figure(figsize=(15,7))\n",
    "class_distribution = df['Label'].value_counts()\n",
    "class_distribution.plot(kind='bar')\n",
    "plt.xlabel('Class')\n",
    "plt.ylabel('Data points per Class')\n",
    "plt.title('Distribution of 10% data')\n",
    "plt.grid()\n",
    "plt.show()"
   ]
  },
  {
   "cell_type": "code",
   "execution_count": 51,
   "id": "81982316",
   "metadata": {},
   "outputs": [],
   "source": [
    "ENCODING = 'utf-8'\n",
    "\n",
    "def expand_categories(values):\n",
    "    result = []\n",
    "    s = values.value_counts()\n",
    "    t = float(len(values))\n",
    "    for v in s.index:\n",
    "        result.append(\"{}:{}%\".format(v,round(100*(s[v]/t),2)))\n",
    "    return \"[{}]\".format(\",\".join(result))\n",
    "        \n",
    "def analyze(df):\n",
    "    print()\n",
    "    cols = df.columns.values\n",
    "    total = float(len(df))\n",
    "\n",
    "    print(\"{} rows\".format(int(total)))\n",
    "    for col in cols:\n",
    "        uniques = df[col].unique()\n",
    "        unique_count = len(uniques)\n",
    "        if unique_count>100:\n",
    "            print(\"** {}:{} ({}%)\".format(col,unique_count,int(((unique_count)/total)*100)))\n",
    "        else:\n",
    "            print(\"** {}:{}\".format(col,expand_categories(df[col])))\n",
    "            expand_categories(df[col])"
   ]
  },
  {
   "cell_type": "code",
   "execution_count": 52,
   "id": "94518b0f",
   "metadata": {},
   "outputs": [
    {
     "data": {
      "text/plain": [
       "10    1977115\n",
       "6      511374\n",
       "1      483854\n",
       "3      437587\n",
       "5      400236\n",
       "8      309821\n",
       "7      255637\n",
       "2      212795\n",
       "9      144172\n",
       "4      108232\n",
       "11      36809\n",
       "0       18951\n",
       "12          6\n",
       "Name: Label, dtype: int64"
      ]
     },
     "execution_count": 52,
     "metadata": {},
     "output_type": "execute_result"
    }
   ],
   "source": [
    "from sklearn.model_selection import train_test_split\n",
    "from sklearn.preprocessing import OneHotEncoder, StandardScaler, LabelEncoder\n",
    "\n",
    "\n",
    "\n",
    "#drop na values and reset index\n",
    "data_clean = df.dropna().reset_index()\n",
    "\n",
    "# label encoding\n",
    "labelencoder = LabelEncoder()\n",
    "data_clean['Label'] = labelencoder.fit_transform(data_clean['Label'])\n",
    "\n",
    "data_clean['Label'].value_counts()"
   ]
  },
  {
   "cell_type": "code",
   "execution_count": 55,
   "id": "eaec8893",
   "metadata": {},
   "outputs": [],
   "source": [
    "scaler = StandardScaler()\n",
    "X_scaled = scaler.fit_transform(X)\n",
    "\n",
    "# Split the data set into training and testing\n",
    "X_train, X_test, Y_train, Y_test = train_test_split(\n",
    "    X_scaled, Y, test_size=0.25, random_state=2, shuffle=True)\n",
    "\n",
    "_features = X.shape[1]\n",
    "n_classes = Y.shape[1]"
   ]
  },
  {
   "cell_type": "markdown",
   "id": "1e15bd8e",
   "metadata": {},
   "source": [
    "# DNN"
   ]
  },
  {
   "cell_type": "code",
   "execution_count": 66,
   "id": "0e7bc06f",
   "metadata": {},
   "outputs": [
    {
     "name": "stdout",
     "output_type": "stream",
     "text": [
      "Model: \"sequential_9\"\n",
      "_________________________________________________________________\n",
      " Layer (type)                Output Shape              Param #   \n",
      "=================================================================\n",
      " dense_33 (Dense)            (None, 128)               4864      \n",
      "                                                                 \n",
      " dropout_6 (Dropout)         (None, 128)               0         \n",
      "                                                                 \n",
      " dense_34 (Dense)            (None, 256)               33024     \n",
      "                                                                 \n",
      " dropout_7 (Dropout)         (None, 256)               0         \n",
      "                                                                 \n",
      " dense_35 (Dense)            (None, 128)               32896     \n",
      "                                                                 \n",
      " dropout_8 (Dropout)         (None, 128)               0         \n",
      "                                                                 \n",
      " dense_36 (Dense)            (None, 15)                1935      \n",
      "                                                                 \n",
      " activation_1 (Activation)   (None, 15)                0         \n",
      "                                                                 \n",
      "=================================================================\n",
      "Total params: 72,719\n",
      "Trainable params: 72,719\n",
      "Non-trainable params: 0\n",
      "_________________________________________________________________\n",
      "Epoch 1/30\n",
      "7345/7345 [==============================] - 25s 3ms/step - loss: 0.0215 - accuracy: 0.8308 - val_loss: 3.4418e-04 - val_accuracy: 0.7630 - lr: 1.0000e-04\n",
      "Epoch 2/30\n",
      "7345/7345 [==============================] - 24s 3ms/step - loss: 3.8387e-04 - accuracy: 0.7628 - val_loss: 1.2338e-04 - val_accuracy: 0.7555 - lr: 1.0000e-04\n",
      "Epoch 3/30\n",
      "7345/7345 [==============================] - 24s 3ms/step - loss: 1.7535e-04 - accuracy: 0.7553 - val_loss: 9.4946e-05 - val_accuracy: 0.7743 - lr: 1.0000e-04\n",
      "Epoch 4/30\n",
      "7345/7345 [==============================] - 23s 3ms/step - loss: 1.1850e-04 - accuracy: 0.7708 - val_loss: 5.5456e-05 - val_accuracy: 0.6996 - lr: 1.0000e-04\n",
      "Epoch 5/30\n",
      "7345/7345 [==============================] - 24s 3ms/step - loss: 8.7128e-05 - accuracy: 0.7926 - val_loss: 4.5515e-05 - val_accuracy: 0.9695 - lr: 1.0000e-04\n",
      "Epoch 6/30\n",
      "7345/7345 [==============================] - 24s 3ms/step - loss: 7.2161e-05 - accuracy: 0.8376 - val_loss: 3.8556e-05 - val_accuracy: 0.9984 - lr: 1.0000e-04\n",
      "Epoch 7/30\n",
      "7345/7345 [==============================] - 24s 3ms/step - loss: 5.6655e-05 - accuracy: 0.8672 - val_loss: 3.3493e-05 - val_accuracy: 0.9984 - lr: 1.0000e-04\n",
      "Epoch 8/30\n",
      "7345/7345 [==============================] - 24s 3ms/step - loss: 4.8311e-05 - accuracy: 0.8564 - val_loss: 2.7983e-05 - val_accuracy: 0.9981 - lr: 1.0000e-04\n",
      "Epoch 9/30\n",
      "7345/7345 [==============================] - 24s 3ms/step - loss: 4.2374e-05 - accuracy: 0.8622 - val_loss: 2.6250e-05 - val_accuracy: 0.9992 - lr: 1.0000e-04\n",
      "Epoch 10/30\n",
      "7345/7345 [==============================] - 24s 3ms/step - loss: 3.4854e-05 - accuracy: 0.8768 - val_loss: 2.8622e-05 - val_accuracy: 0.9981 - lr: 1.0000e-04\n",
      "Epoch 11/30\n",
      "7345/7345 [==============================] - 25s 3ms/step - loss: 3.1958e-05 - accuracy: 0.9064 - val_loss: 2.7265e-05 - val_accuracy: 0.9974 - lr: 1.0000e-04\n",
      "Epoch 12/30\n",
      "7345/7345 [==============================] - 24s 3ms/step - loss: 2.7312e-05 - accuracy: 0.9066 - val_loss: 2.2860e-05 - val_accuracy: 0.9978 - lr: 1.0000e-04\n",
      "Epoch 13/30\n",
      "7345/7345 [==============================] - 24s 3ms/step - loss: 2.5282e-05 - accuracy: 0.9266 - val_loss: 2.0577e-05 - val_accuracy: 0.9982 - lr: 1.0000e-04\n",
      "Epoch 14/30\n",
      "7345/7345 [==============================] - 25s 3ms/step - loss: 2.1679e-05 - accuracy: 0.9343 - val_loss: 2.6997e-05 - val_accuracy: 0.9978 - lr: 1.0000e-04\n",
      "Epoch 15/30\n",
      "7345/7345 [==============================] - 24s 3ms/step - loss: 1.9720e-05 - accuracy: 0.9348 - val_loss: 1.9073e-05 - val_accuracy: 0.9981 - lr: 1.0000e-04\n",
      "Epoch 16/30\n",
      "7345/7345 [==============================] - 25s 3ms/step - loss: 1.8219e-05 - accuracy: 0.9566 - val_loss: 1.9888e-05 - val_accuracy: 0.9983 - lr: 1.0000e-04\n",
      "Epoch 17/30\n",
      "7345/7345 [==============================] - 24s 3ms/step - loss: 1.9140e-05 - accuracy: 0.9171 - val_loss: 2.0866e-05 - val_accuracy: 0.9976 - lr: 1.0000e-04\n",
      "Epoch 18/30\n",
      "7345/7345 [==============================] - 25s 3ms/step - loss: 1.4240e-05 - accuracy: 0.9391 - val_loss: 2.1180e-05 - val_accuracy: 0.9975 - lr: 1.0000e-04\n",
      "Epoch 19/30\n",
      "7345/7345 [==============================] - 25s 3ms/step - loss: 1.5466e-05 - accuracy: 0.9475 - val_loss: 2.0121e-05 - val_accuracy: 0.9977 - lr: 1.0000e-04\n",
      "Epoch 20/30\n",
      "7345/7345 [==============================] - 25s 3ms/step - loss: 1.6014e-05 - accuracy: 0.9331 - val_loss: 2.3941e-05 - val_accuracy: 0.9971 - lr: 1.0000e-04\n",
      "Epoch 21/30\n",
      "7345/7345 [==============================] - 25s 3ms/step - loss: 1.1698e-05 - accuracy: 0.8987 - val_loss: 2.4304e-05 - val_accuracy: 0.9978 - lr: 1.0000e-04\n",
      "Epoch 22/30\n",
      "7345/7345 [==============================] - 25s 3ms/step - loss: 1.2706e-05 - accuracy: 0.8841 - val_loss: 2.2663e-05 - val_accuracy: 0.9977 - lr: 1.0000e-04\n",
      "Epoch 23/30\n",
      "7345/7345 [==============================] - 25s 3ms/step - loss: 1.3816e-05 - accuracy: 0.9279 - val_loss: 2.2544e-05 - val_accuracy: 0.9970 - lr: 1.0000e-04\n",
      "Epoch 24/30\n",
      "7345/7345 [==============================] - 26s 3ms/step - loss: 1.6264e-05 - accuracy: 0.9161 - val_loss: 2.2058e-05 - val_accuracy: 0.9973 - lr: 1.0000e-04\n",
      "Epoch 25/30\n",
      "7345/7345 [==============================] - 26s 4ms/step - loss: 1.0815e-05 - accuracy: 0.9508 - val_loss: 1.8673e-05 - val_accuracy: 0.9972 - lr: 1.0000e-04\n",
      "Epoch 26/30\n",
      "7345/7345 [==============================] - 26s 3ms/step - loss: 1.0901e-05 - accuracy: 0.9514 - val_loss: 2.2196e-05 - val_accuracy: 0.9970 - lr: 1.0000e-04\n",
      "Epoch 27/30\n",
      "7345/7345 [==============================] - 25s 3ms/step - loss: 1.0131e-05 - accuracy: 0.9423 - val_loss: 2.0568e-05 - val_accuracy: 0.9973 - lr: 1.0000e-04\n",
      "Epoch 28/30\n",
      "7345/7345 [==============================] - 26s 4ms/step - loss: 1.0682e-05 - accuracy: 0.9562 - val_loss: 2.1751e-05 - val_accuracy: 0.9971 - lr: 1.0000e-04\n",
      "Epoch 29/30\n",
      "7345/7345 [==============================] - 25s 3ms/step - loss: 1.1652e-05 - accuracy: 0.9578 - val_loss: 2.4728e-05 - val_accuracy: 0.9969 - lr: 1.0000e-04\n",
      "Epoch 30/30\n",
      "7345/7345 [==============================] - 25s 3ms/step - loss: 8.3947e-06 - accuracy: 0.9638 - val_loss: 2.2478e-05 - val_accuracy: 0.9967 - lr: 1.0000e-04\n"
     ]
    }
   ],
   "source": [
    "from keras.layers import Dropout, Activation\n",
    "\n",
    "# Create neural net\n",
    "model = Sequential()\n",
    "\n",
    "model.add(Dense(128, input_dim=_features, activation='relu'))\n",
    "model.add(Dropout(0.1))\n",
    "model.add(Dense(256, activation='relu'))\n",
    "model.add(Dropout(0.1))\n",
    "model.add(Dense(128, activation='relu'))\n",
    "model.add(Dropout(0.1))\n",
    "model.add(Dense(n_classes))\n",
    "model.add(Activation('softmax'))\n",
    "model.summary() \n",
    "\n",
    "opt = keras.optimizers.Adam(learning_rate=0.0001)\n",
    "model.compile(loss='BinaryCrossentropy', optimizer=opt, metrics=[\"accuracy\"])\n",
    "\n",
    "\n",
    "early_stop_callback = tf.keras.callbacks.EarlyStopping(monitor='loss', patience=5)\n",
    "reduce_lr = tf.keras.callbacks.ReduceLROnPlateau(monitor='val_loss', factor=0.2,\n",
    "                                  patience=3, min_lr=0.0001)\n",
    "\n",
    "history = model.fit(X_train, Y_train,\n",
    "                              batch_size=500,\n",
    "                              epochs=30,\n",
    "                              verbose=True,\n",
    "                              validation_data=(X_test, Y_test),\n",
    "                              callbacks=[reduce_lr, early_stop_callback])"
   ]
  },
  {
   "cell_type": "code",
   "execution_count": 67,
   "id": "c795209a",
   "metadata": {},
   "outputs": [
    {
     "name": "stdout",
     "output_type": "stream",
     "text": [
      "Learning Rate - \n",
      "1e-04\n",
      "==================================\n",
      "Model: \"sequential_9\"\n",
      "_________________________________________________________________\n",
      " Layer (type)                Output Shape              Param #   \n",
      "=================================================================\n",
      " dense_33 (Dense)            (None, 128)               4864      \n",
      "                                                                 \n",
      " dropout_6 (Dropout)         (None, 128)               0         \n",
      "                                                                 \n",
      " dense_34 (Dense)            (None, 256)               33024     \n",
      "                                                                 \n",
      " dropout_7 (Dropout)         (None, 256)               0         \n",
      "                                                                 \n",
      " dense_35 (Dense)            (None, 128)               32896     \n",
      "                                                                 \n",
      " dropout_8 (Dropout)         (None, 128)               0         \n",
      "                                                                 \n",
      " dense_36 (Dense)            (None, 15)                1935      \n",
      "                                                                 \n",
      " activation_1 (Activation)   (None, 15)                0         \n",
      "                                                                 \n",
      "=================================================================\n",
      "Total params: 72,719\n",
      "Trainable params: 72,719\n",
      "Non-trainable params: 0\n",
      "_________________________________________________________________\n"
     ]
    }
   ],
   "source": [
    "import tensorflow.keras.backend as K\n",
    "print('Learning Rate - ')\n",
    "print(K.eval(model.optimizer.lr)) \n",
    "print('==================================')\n",
    "model.summary()"
   ]
  },
  {
   "cell_type": "code",
   "execution_count": 69,
   "id": "1bac21c8",
   "metadata": {},
   "outputs": [
    {
     "name": "stdout",
     "output_type": "stream",
     "text": [
      "38255/38255 [==============================] - 23s 602us/step - loss: 44959236.0000 - accuracy: 0.9958\n"
     ]
    },
    {
     "name": "stderr",
     "output_type": "stream",
     "text": [
      "C:\\Users\\Maruata\\anaconda3\\lib\\site-packages\\sklearn\\metrics\\_classification.py:1248: UndefinedMetricWarning: Recall is ill-defined and being set to 0.0 in labels with no true samples. Use `zero_division` parameter to control this behavior.\n",
      "  _warn_prf(average, modifier, msg_start, len(result))\n",
      "C:\\Users\\Maruata\\anaconda3\\lib\\site-packages\\sklearn\\metrics\\_classification.py:1248: UndefinedMetricWarning: Precision is ill-defined and being set to 0.0 in labels with no predicted samples. Use `zero_division` parameter to control this behavior.\n",
      "  _warn_prf(average, modifier, msg_start, len(result))\n"
     ]
    },
    {
     "name": "stdout",
     "output_type": "stream",
     "text": [
      "Completed\n",
      "Time taken: 0:00:41.452773\n",
      "Validation score: 0.9957505138267595\n",
      "Evaluation score: [44959236.0, 0.9957504868507385]\n",
      "Recall score: 0.9957505138267595\n",
      "Precision score: 0.9915523435463216\n",
      "F1 Measure score: 0.9936469943765817\n"
     ]
    }
   ],
   "source": [
    "# Measure accuracy\n",
    "import datetime as dt\n",
    "from sklearn.metrics import accuracy_score, confusion_matrix, precision_score, recall_score, f1_score, roc_auc_score\n",
    "\n",
    "start = dt.datetime.now()\n",
    "\n",
    "escore = model.evaluate(x_test, y_test, batch_size=32)\n",
    "pred = model.predict(x_test)\n",
    "pred = np.argmax(pred,axis=1)\n",
    "y_eval = np.argmax(y_test,axis=1)\n",
    "\n",
    "score = metrics.accuracy_score(y_eval, pred)\n",
    "rscore = recall_score(y_eval, pred, average='weighted')\n",
    "ascore = precision_score(y_eval, pred, average='weighted')\n",
    "f1score= f1_score(y_eval, pred, average='weighted') #F1 = 2 * (precision * recall) / (precision + recall) for manual\n",
    "\n",
    "lb = preprocessing.LabelBinarizer()\n",
    "lb.fit(y_eval)\n",
    "y_eval = lb.transform(y_eval)\n",
    "pred = lb.transform(pred)\n",
    "#roc_score = roc_auc_score(y_eval, pred)\n",
    "#roc_auc_socre = multiclass_roc_auc_score(y_eval, pred)\n",
    "\n",
    "print('Completed')\n",
    "print('Time taken:',dt.datetime.now()-start)\n",
    "\n",
    "print(\"Validation score: {}\".format(score))\n",
    "print(\"Evaluation score: {}\".format(escore))\n",
    "print(\"Recall score: {}\".format(rscore))\n",
    "print(\"Precision score: {}\".format(ascore))\n",
    "print(\"F1 Measure score: {}\".format(f1score))\n",
    "#print(\"ROC-AUC score: {}\".format(roc_auc_socre))"
   ]
  },
  {
   "cell_type": "code",
   "execution_count": 70,
   "id": "f47fcc05",
   "metadata": {},
   "outputs": [],
   "source": [
    "# Plot for training and validation loss\n",
    "history_dict = history.history\n",
    "loss_values = history_dict['loss']\n",
    "val_loss_values = history_dict['val_loss']\n",
    "acc = history_dict['accuracy']\n",
    "val_acc = history_dict['val_accuracy']"
   ]
  },
  {
   "cell_type": "code",
   "execution_count": 71,
   "id": "b76d5e1e",
   "metadata": {},
   "outputs": [],
   "source": [
    "start_by_epoch = 1\n",
    "epochs = range(start_by_epoch, len(loss_values) + 1)"
   ]
  },
  {
   "cell_type": "code",
   "execution_count": 72,
   "id": "45fd4a15",
   "metadata": {},
   "outputs": [
    {
     "data": {
      "image/png": "[encoded data removed]",
      "text/plain": [
       "<Figure size 432x288 with 1 Axes>"
      ]
     },
     "metadata": {
      "needs_background": "light"
     },
     "output_type": "display_data"
    },
    {
     "data": {
      "image/png": "[encoded data removed]",
      "text/plain": [
       "<Figure size 432x288 with 1 Axes>"
      ]
     },
     "metadata": {
      "needs_background": "light"
     },
     "output_type": "display_data"
    },
    {
     "data": {
      "text/plain": [
       "<Figure size 432x288 with 0 Axes>"
      ]
     },
     "metadata": {},
     "output_type": "display_data"
    }
   ],
   "source": [
    "plt.plot(epochs, acc[start_by_epoch-1:], label='Training accuracy')\n",
    "plt.plot(epochs, val_acc[start_by_epoch-1:], label='Validation accuracy')\n",
    "plt.title('Training and validation accuracy')\n",
    "plt.xlabel('Epochs')\n",
    "plt.ylabel('Accuracy')\n",
    "plt.legend()\n",
    "\n",
    "plt.show()\n",
    "plt.clf()\n",
    "\n",
    "\n",
    "plt.plot(epochs, loss_values[start_by_epoch-1:], label='Training Loss')\n",
    "plt.plot(epochs, val_loss_values[start_by_epoch-1:], label='Validation Loss')\n",
    "plt.title('Training and validation loss')\n",
    "plt.xlabel('Epochs')\n",
    "plt.ylabel('Loss')\n",
    "plt.legend(['Training', 'Validation'], loc='upper right')\n",
    "\n",
    "plt.tight_layout()\n",
    "\n",
    "plt.show()\n",
    "plt.clf()"
   ]
  },
  {
   "cell_type": "code",
   "execution_count": 73,
   "id": "22500452",
   "metadata": {},
   "outputs": [
    {
     "data": {
      "image/png": "[encoded data removed]",
      "text/plain": [
       "<Figure size 576x360 with 1 Axes>"
      ]
     },
     "metadata": {
      "needs_background": "light"
     },
     "output_type": "display_data"
    }
   ],
   "source": [
    "pd.DataFrame(history.history).plot(figsize=(8,5))\n",
    "plt.grid(True)\n",
    "plt.gca().set_ylim(-0.02,1.02)\n",
    "plt.title('Training and Validation Rate')\n",
    "plt.xlabel('Epochs')\n",
    "plt.ylabel('Score')\n",
    "plt.show()"
   ]
  },
  {
   "cell_type": "code",
   "execution_count": null,
   "id": "49c338b3",
   "metadata": {},
   "outputs": [],
   "source": []
  },
  {
   "cell_type": "markdown",
   "id": "777dd4ae",
   "metadata": {},
   "source": [
    "# CNN"
   ]
  },
  {
   "cell_type": "code",
   "execution_count": null,
   "id": "43cf0829",
   "metadata": {},
   "outputs": [],
   "source": [
    "# In order to ignore FutureWarning\n",
    "import warnings\n",
    "warnings.simplefilter(action='ignore', category=FutureWarning)\n",
    "warnings.simplefilter(action='ignore', category=DeprecationWarning)\n",
    "\n",
    "from keras.models import Sequential\n",
    "from keras import callbacks\n",
    "from keras.layers import Dense, Activation, Flatten, Convolution1D, Dropout, Reshape\n",
    "from sklearn import metrics\n",
    "from hyperopt import fmin, hp, tpe, Trials, STATUS_OK\n",
    "from hyperopt.plotting import main_plot_history, main_plot_vars\n",
    "import uuid\n",
    "import gc\n",
    "from tensorflow import keras\n",
    "import tensorflow as tf\n",
    "\n",
    "K = keras.backend\n",
    "\n",
    "\n",
    "# CNN Model\n",
    "model = Sequential()\n",
    "model.add(Convolution1D(filters=128, kernel_size=6, input_shape=(_features, 1)))\n",
    "model.add(Activation('relu'))\n",
    "model.add(Convolution1D(filters=256, kernel_size=6))\n",
    "model.add(Activation('relu'))\n",
    "model.add(Flatten())\n",
    "model.add(Dense(256, activation='relu'))\n",
    "model.add(Dropout(0.1))\n",
    "model.add(Dense(n_classes))\n",
    "model.add(Activation('softmax'))\n",
    "model.summary() \n",
    "\n",
    "opt = keras.optimizers.Adam(learning_rate=0.0001)\n",
    "model.compile(loss='categorical_crossentropy',optimizer=opt, metrics=['accuracy'])\n",
    "\n",
    "early_stop_callback = keras.callbacks.EarlyStopping(monitor='loss', patience=5)\n",
    "reduce_lr = keras.callbacks.ReduceLROnPlateau(monitor='val_loss', factor=0.2,\n",
    "                                  patience=3, min_lr=0.0001)\n",
    "    \n",
    "history = model.fit(X_train, Y_train,\n",
    "                              batch_size=500,\n",
    "                              epochs=10,\n",
    "                              verbose=True,\n",
    "                              validation_data=(X_test, Y_test),\n",
    "                              callbacks=[reduce_lr, early_stop_callback])  "
   ]
  },
  {
   "cell_type": "code",
   "execution_count": null,
   "id": "186f579c",
   "metadata": {},
   "outputs": [],
   "source": [
    "y_pred = np.argmax(model.predict(X_test), axis=-1)\n",
    "balanced_score = metrics.balanced_accuracy_score(np.argmax(Y_test, axis=1), y_pred) * 100\n",
    "    \n",
    "best_loss = np.amin(history.history['val_loss']) \n",
    "print('Best loss: {}'.format(best_loss))\n",
    "print('Balanced Acc loss: {}'.format(balanced_score))\n",
    "    \n",
    "    \n",
    "import tensorflow.keras.backend as K\n",
    "print('Learning Rate - ')\n",
    "print(K.eval(model.optimizer.lr)) \n",
    "print('==================================')\n",
    "model.summary()"
   ]
  },
  {
   "cell_type": "code",
   "execution_count": 80,
   "id": "7e7f15ba",
   "metadata": {},
   "outputs": [],
   "source": [
    "# Plot for training and validation loss\n",
    "history_dict = history.history\n",
    "loss_values = history_dict['loss']\n",
    "val_loss_values = history_dict['val_loss']\n",
    "acc = history_dict['accuracy']\n",
    "val_acc = history_dict['val_accuracy']"
   ]
  },
  {
   "cell_type": "code",
   "execution_count": null,
   "id": "c467d603",
   "metadata": {},
   "outputs": [],
   "source": [
    "start = dt.datetime.now()\n",
    "\n",
    "escore = model.evaluate(X_test, Y_test, batch_size=32)\n",
    "pred = model.predict(X_test)\n",
    "pred = np.argmax(pred,axis=1)\n",
    "y_eval = np.argmax(Y_test,axis=1)\n",
    "\n",
    "score = metrics.accuracy_score(y_eval, pred)\n",
    "rscore = recall_score(y_eval, pred, average='weighted')\n",
    "ascore = precision_score(y_eval, pred, average='weighted')\n",
    "f1score= f1_score(y_eval, pred, average='weighted') #F1 = 2 * (precision * recall) / (precision + recall) for manual\n",
    "\n",
    "lb = preprocessing.LabelBinarizer()\n",
    "lb.fit(y_eval)\n",
    "y_eval = lb.transform(y_eval)\n",
    "pred = lb.transform(pred)\n",
    "roc_score = roc_auc_score(y_eval, pred)\n",
    "\n",
    "print('Completed')\n",
    "print('Time taken:',dt.datetime.now()-start)\n",
    "\n",
    "print(\"Validation score: {}\".format(score))\n",
    "print(\"Evaluation score: {}\".format(escore))\n",
    "print(\"Recall score: {}\".format(rscore))\n",
    "print(\"Precision score: {}\".format(ascore))\n",
    "print(\"F1 Measure score: {}\".format(f1score))\n",
    "print(\"ROC-AUC score: {}\".format(roc_score))"
   ]
  },
  {
   "cell_type": "code",
   "execution_count": null,
   "id": "af06ddab",
   "metadata": {},
   "outputs": [],
   "source": [
    "pred = model.predict(X_test)\n",
    "pred = np.argmax(pred,axis=1)\n",
    "y_test = Y_test.argmax(axis=1)"
   ]
  },
  {
   "cell_type": "code",
   "execution_count": null,
   "id": "45b24e82",
   "metadata": {},
   "outputs": [],
   "source": [
    "from sklearn.metrics import confusion_matrix, precision_score, recall_score\n",
    "import seaborn as sn\n",
    "\n",
    "confMat = confusion_matrix(y_test, pred)\n",
    "confMat"
   ]
  },
  {
   "cell_type": "code",
   "execution_count": null,
   "id": "48c1fa8d",
   "metadata": {},
   "outputs": [],
   "source": [
    "cf_matrix = confusion_matrix(y_test, pred)\n",
    "sn.heatmap(cf_matrix / np.sum(cf_matrix), annot=True, fmt='.2%', cmap='Blues')"
   ]
  },
  {
   "cell_type": "code",
   "execution_count": 82,
   "id": "b4f5f934",
   "metadata": {},
   "outputs": [
    {
     "data": {
      "image/png": "[encoded data removed]",
      "text/plain": [
       "<Figure size 432x288 with 1 Axes>"
      ]
     },
     "metadata": {
      "needs_background": "light"
     },
     "output_type": "display_data"
    },
    {
     "data": {
      "image/png": "[encoded data removed]",
      "text/plain": [
       "<Figure size 432x288 with 1 Axes>"
      ]
     },
     "metadata": {
      "needs_background": "light"
     },
     "output_type": "display_data"
    },
    {
     "data": {
      "text/plain": [
       "<Figure size 432x288 with 0 Axes>"
      ]
     },
     "metadata": {},
     "output_type": "display_data"
    }
   ],
   "source": [
    "start_by_epoch = 1\n",
    "epochs = range(start_by_epoch, len(loss_values) + 1)\n",
    "\n",
    "plt.plot(epochs, acc[start_by_epoch-1:], label='Training accuracy')\n",
    "plt.plot(epochs, val_acc[start_by_epoch-1:], label='Validation accuracy')\n",
    "plt.title('CNN: Training and validation accuracy')\n",
    "plt.xlabel('Epochs')\n",
    "plt.ylabel('Accuracy')\n",
    "plt.legend(['Training', 'Test'], loc='lower right')\n",
    "\n",
    "plt.show()\n",
    "plt.clf()\n",
    "\n",
    "#plt.subplot(212)\n",
    "\n",
    "plt.plot(epochs, loss_values[start_by_epoch-1:], label='Training Loss')\n",
    "plt.plot(epochs, val_loss_values[start_by_epoch-1:], label='Validation Loss')\n",
    "plt.title('CNN: Training and validation loss')\n",
    "plt.xlabel('Epochs')\n",
    "plt.ylabel('Loss')\n",
    "plt.legend(['Training', 'Validation'], loc='upper right')\n",
    "\n",
    "plt.tight_layout()\n",
    "\n",
    "plt.show()\n",
    "plt.clf()\n"
   ]
  },
  {
   "cell_type": "code",
   "execution_count": 83,
   "id": "1448cddb",
   "metadata": {},
   "outputs": [
    {
     "data": {
      "image/png": "[encoded data removed]",
      "text/plain": [
       "<Figure size 576x360 with 1 Axes>"
      ]
     },
     "metadata": {
      "needs_background": "light"
     },
     "output_type": "display_data"
    }
   ],
   "source": [
    "pd.DataFrame(history.history).plot(figsize=(8,5))\n",
    "plt.grid(True)\n",
    "plt.gca().set_ylim(-0.02,1.02)\n",
    "plt.title('CNN: Training and Validation Rate')\n",
    "plt.xlabel('Epochs')\n",
    "plt.ylabel('Score')\n",
    "plt.show()"
   ]
  },
  {
   "cell_type": "code",
   "execution_count": null,
   "id": "2055cde3",
   "metadata": {},
   "outputs": [],
   "source": []
  },
  {
   "cell_type": "code",
   "execution_count": null,
   "id": "0802041c",
   "metadata": {},
   "outputs": [],
   "source": []
  }
 ],
 "metadata": {
  "kernelspec": {
   "display_name": "Python 3 (ipykernel)",
   "language": "python",
   "name": "python3"
  },
  "language_info": {
   "codemirror_mode": {
    "name": "ipython",
    "version": 3
   },
   "file_extension": ".py",
   "mimetype": "text/x-python",
   "name": "python",
   "nbconvert_exporter": "python",
   "pygments_lexer": "ipython3",
   "version": "3.9.7"
  }
 },
 "nbformat": 4,
 "nbformat_minor": 5
}
