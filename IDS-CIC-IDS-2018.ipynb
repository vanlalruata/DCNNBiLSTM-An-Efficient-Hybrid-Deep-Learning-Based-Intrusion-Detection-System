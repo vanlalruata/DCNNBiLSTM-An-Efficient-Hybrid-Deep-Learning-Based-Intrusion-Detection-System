{
 "cells": [
  {
   "cell_type": "code",
   "execution_count": 1,
   "id": "d0ab7e3c",
   "metadata": {},
   "outputs": [],
   "source": [
    "import numpy as np\n",
    "import pandas as pd\n",
    "\n",
    "import pickle # saving and loading trained model\n",
    "from os import path\n",
    "\n",
    "# importing required libraries for normalizing data\n",
    "from sklearn import preprocessing\n",
    "from sklearn.preprocessing import StandardScaler\n",
    "\n",
    "# importing library for plotting\n",
    "import matplotlib.pyplot as plt\n",
    "import seaborn as sn\n",
    "\n",
    "from sklearn import metrics\n",
    "from sklearn.metrics import accuracy_score # for calculating accuracy of model\n",
    "from sklearn.model_selection import train_test_split # for splitting the dataset for training and testing\n",
    "from sklearn.metrics import classification_report # for generating a classification report of model\n",
    "\n",
    "from sklearn.metrics import precision_score\n",
    "from sklearn.metrics import recall_score\n",
    "from sklearn.metrics import f1_score\n",
    "from sklearn.metrics import confusion_matrix\n",
    "\n",
    "from sklearn.metrics import roc_auc_score\n",
    "from sklearn.metrics import roc_curve, auc\n",
    "\n",
    "import tensorflow as tf\n",
    "from tensorflow import keras\n",
    "\n",
    "from keras.layers import Dropout, Activation\n",
    "from keras.layers import Dense # importing dense layer\n",
    "from keras.models import Sequential #importing Sequential layer\n",
    "from keras.models import model_from_json # saving and loading trained model\n",
    "\n",
    "from keras.layers import LSTM\n",
    "from keras.layers import Input\n",
    "from keras.models import Model\n",
    "\n",
    "from keras.utils.vis_utils import plot_model"
   ]
  },
  {
   "cell_type": "code",
   "execution_count": null,
   "id": "c5765620",
   "metadata": {},
   "outputs": [],
   "source": [
    "physical_devices = tf.config.list_physical_devices('GPU')\n",
    "tf.config.experimental.set_memory_growth(physical_devices[0], True)"
   ]
  },
  {
   "cell_type": "code",
   "execution_count": null,
   "id": "e940acfc",
   "metadata": {},
   "outputs": [],
   "source": [
    "physical_devices"
   ]
  },
  {
   "cell_type": "code",
   "execution_count": null,
   "id": "7a26e147",
   "metadata": {},
   "outputs": [],
   "source": [
    "!nvidia-smi"
   ]
  },
  {
   "cell_type": "code",
   "execution_count": 5,
   "id": "f6451779",
   "metadata": {},
   "outputs": [],
   "source": [
    "df = pd.read_csv('H:/Datasets/cic-ids-2018/ddos-loic-udp_hoic_21-02-2018.csv', low_memory=True)\n",
    "df = df.rename(columns={'label': 'Label'})\n",
    "#df.drop(df.loc[df['Label'] == 'Label'].index, inplace=True)"
   ]
  },
  {
   "cell_type": "code",
   "execution_count": 6,
   "id": "120b5903",
   "metadata": {},
   "outputs": [
    {
     "data": {
      "text/html": [
       "<div>\n",
       "<style scoped>\n",
       "    .dataframe tbody tr th:only-of-type {\n",
       "        vertical-align: middle;\n",
       "    }\n",
       "\n",
       "    .dataframe tbody tr th {\n",
       "        vertical-align: top;\n",
       "    }\n",
       "\n",
       "    .dataframe thead th {\n",
       "        text-align: right;\n",
       "    }\n",
       "</style>\n",
       "<table border=\"1\" class=\"dataframe\">\n",
       "  <thead>\n",
       "    <tr style=\"text-align: right;\">\n",
       "      <th></th>\n",
       "      <th>dst_port</th>\n",
       "      <th>protocol</th>\n",
       "      <th>flow_duration</th>\n",
       "      <th>tot_fwd_pkts</th>\n",
       "      <th>tot_bwd_pkts</th>\n",
       "      <th>totlen_fwd_pkts</th>\n",
       "      <th>totlen_bwd_pkts</th>\n",
       "      <th>fwd_pkt_len_max</th>\n",
       "      <th>fwd_pkt_len_min</th>\n",
       "      <th>fwd_pkt_len_mean</th>\n",
       "      <th>...</th>\n",
       "      <th>fwd_act_data_pkts</th>\n",
       "      <th>fwd_seg_size_min</th>\n",
       "      <th>active_mean</th>\n",
       "      <th>active_std</th>\n",
       "      <th>active_max</th>\n",
       "      <th>active_min</th>\n",
       "      <th>idle_mean</th>\n",
       "      <th>idle_std</th>\n",
       "      <th>idle_max</th>\n",
       "      <th>idle_min</th>\n",
       "    </tr>\n",
       "  </thead>\n",
       "  <tbody>\n",
       "    <tr>\n",
       "      <th>count</th>\n",
       "      <td>1.048575e+06</td>\n",
       "      <td>1.048575e+06</td>\n",
       "      <td>1.048575e+06</td>\n",
       "      <td>1.048575e+06</td>\n",
       "      <td>1.048575e+06</td>\n",
       "      <td>1.048575e+06</td>\n",
       "      <td>1.048575e+06</td>\n",
       "      <td>1.048575e+06</td>\n",
       "      <td>1.048575e+06</td>\n",
       "      <td>1.048575e+06</td>\n",
       "      <td>...</td>\n",
       "      <td>1.048575e+06</td>\n",
       "      <td>1.048575e+06</td>\n",
       "      <td>1.048575e+06</td>\n",
       "      <td>1.048575e+06</td>\n",
       "      <td>1.048575e+06</td>\n",
       "      <td>1.048575e+06</td>\n",
       "      <td>1.048575e+06</td>\n",
       "      <td>1.048575e+06</td>\n",
       "      <td>1.048575e+06</td>\n",
       "      <td>1.048575e+06</td>\n",
       "    </tr>\n",
       "    <tr>\n",
       "      <th>mean</th>\n",
       "      <td>1.958764e+04</td>\n",
       "      <td>6.037952e+00</td>\n",
       "      <td>3.990401e+05</td>\n",
       "      <td>1.968099e+02</td>\n",
       "      <td>1.309663e+00</td>\n",
       "      <td>6.563581e+03</td>\n",
       "      <td>2.486527e+02</td>\n",
       "      <td>3.666938e+02</td>\n",
       "      <td>2.549479e-01</td>\n",
       "      <td>7.977144e+01</td>\n",
       "      <td>...</td>\n",
       "      <td>1.941294e+02</td>\n",
       "      <td>1.995892e+01</td>\n",
       "      <td>7.521672e+03</td>\n",
       "      <td>2.589427e+03</td>\n",
       "      <td>1.003609e+04</td>\n",
       "      <td>5.446253e+03</td>\n",
       "      <td>3.140514e+04</td>\n",
       "      <td>1.602645e+04</td>\n",
       "      <td>5.723070e+04</td>\n",
       "      <td>1.633481e+04</td>\n",
       "    </tr>\n",
       "    <tr>\n",
       "      <th>std</th>\n",
       "      <td>2.719338e+04</td>\n",
       "      <td>6.495848e-01</td>\n",
       "      <td>6.630337e+06</td>\n",
       "      <td>4.899047e+03</td>\n",
       "      <td>1.477423e+00</td>\n",
       "      <td>1.567596e+05</td>\n",
       "      <td>3.257857e+02</td>\n",
       "      <td>4.226960e+02</td>\n",
       "      <td>8.978105e+00</td>\n",
       "      <td>8.511139e+01</td>\n",
       "      <td>...</td>\n",
       "      <td>4.899113e+03</td>\n",
       "      <td>7.395666e-01</td>\n",
       "      <td>2.033449e+05</td>\n",
       "      <td>1.034448e+05</td>\n",
       "      <td>2.825239e+05</td>\n",
       "      <td>1.568789e+05</td>\n",
       "      <td>8.419967e+05</td>\n",
       "      <td>4.340229e+05</td>\n",
       "      <td>1.421182e+06</td>\n",
       "      <td>5.894628e+05</td>\n",
       "    </tr>\n",
       "    <tr>\n",
       "      <th>min</th>\n",
       "      <td>0.000000e+00</td>\n",
       "      <td>0.000000e+00</td>\n",
       "      <td>2.000000e+00</td>\n",
       "      <td>1.000000e+00</td>\n",
       "      <td>0.000000e+00</td>\n",
       "      <td>0.000000e+00</td>\n",
       "      <td>0.000000e+00</td>\n",
       "      <td>0.000000e+00</td>\n",
       "      <td>0.000000e+00</td>\n",
       "      <td>0.000000e+00</td>\n",
       "      <td>...</td>\n",
       "      <td>0.000000e+00</td>\n",
       "      <td>0.000000e+00</td>\n",
       "      <td>0.000000e+00</td>\n",
       "      <td>0.000000e+00</td>\n",
       "      <td>0.000000e+00</td>\n",
       "      <td>0.000000e+00</td>\n",
       "      <td>0.000000e+00</td>\n",
       "      <td>0.000000e+00</td>\n",
       "      <td>0.000000e+00</td>\n",
       "      <td>0.000000e+00</td>\n",
       "    </tr>\n",
       "    <tr>\n",
       "      <th>25%</th>\n",
       "      <td>8.000000e+01</td>\n",
       "      <td>6.000000e+00</td>\n",
       "      <td>1.408000e+03</td>\n",
       "      <td>2.000000e+00</td>\n",
       "      <td>0.000000e+00</td>\n",
       "      <td>0.000000e+00</td>\n",
       "      <td>0.000000e+00</td>\n",
       "      <td>0.000000e+00</td>\n",
       "      <td>0.000000e+00</td>\n",
       "      <td>0.000000e+00</td>\n",
       "      <td>...</td>\n",
       "      <td>0.000000e+00</td>\n",
       "      <td>2.000000e+01</td>\n",
       "      <td>0.000000e+00</td>\n",
       "      <td>0.000000e+00</td>\n",
       "      <td>0.000000e+00</td>\n",
       "      <td>0.000000e+00</td>\n",
       "      <td>0.000000e+00</td>\n",
       "      <td>0.000000e+00</td>\n",
       "      <td>0.000000e+00</td>\n",
       "      <td>0.000000e+00</td>\n",
       "    </tr>\n",
       "    <tr>\n",
       "      <th>50%</th>\n",
       "      <td>8.000000e+01</td>\n",
       "      <td>6.000000e+00</td>\n",
       "      <td>4.720000e+03</td>\n",
       "      <td>3.000000e+00</td>\n",
       "      <td>0.000000e+00</td>\n",
       "      <td>2.470000e+02</td>\n",
       "      <td>0.000000e+00</td>\n",
       "      <td>3.200000e+01</td>\n",
       "      <td>0.000000e+00</td>\n",
       "      <td>3.200000e+01</td>\n",
       "      <td>...</td>\n",
       "      <td>1.000000e+00</td>\n",
       "      <td>2.000000e+01</td>\n",
       "      <td>0.000000e+00</td>\n",
       "      <td>0.000000e+00</td>\n",
       "      <td>0.000000e+00</td>\n",
       "      <td>0.000000e+00</td>\n",
       "      <td>0.000000e+00</td>\n",
       "      <td>0.000000e+00</td>\n",
       "      <td>0.000000e+00</td>\n",
       "      <td>0.000000e+00</td>\n",
       "    </tr>\n",
       "    <tr>\n",
       "      <th>75%</th>\n",
       "      <td>5.355300e+04</td>\n",
       "      <td>6.000000e+00</td>\n",
       "      <td>1.464900e+04</td>\n",
       "      <td>5.000000e+00</td>\n",
       "      <td>2.000000e+00</td>\n",
       "      <td>9.350000e+02</td>\n",
       "      <td>3.160000e+02</td>\n",
       "      <td>9.350000e+02</td>\n",
       "      <td>0.000000e+00</td>\n",
       "      <td>1.870000e+02</td>\n",
       "      <td>...</td>\n",
       "      <td>1.000000e+00</td>\n",
       "      <td>2.000000e+01</td>\n",
       "      <td>0.000000e+00</td>\n",
       "      <td>0.000000e+00</td>\n",
       "      <td>0.000000e+00</td>\n",
       "      <td>0.000000e+00</td>\n",
       "      <td>0.000000e+00</td>\n",
       "      <td>0.000000e+00</td>\n",
       "      <td>0.000000e+00</td>\n",
       "      <td>0.000000e+00</td>\n",
       "    </tr>\n",
       "    <tr>\n",
       "      <th>max</th>\n",
       "      <td>6.553400e+04</td>\n",
       "      <td>1.700000e+01</td>\n",
       "      <td>1.200000e+08</td>\n",
       "      <td>3.096290e+05</td>\n",
       "      <td>1.240000e+02</td>\n",
       "      <td>9.908128e+06</td>\n",
       "      <td>9.121000e+03</td>\n",
       "      <td>2.224000e+03</td>\n",
       "      <td>9.760000e+02</td>\n",
       "      <td>9.760000e+02</td>\n",
       "      <td>...</td>\n",
       "      <td>3.096280e+05</td>\n",
       "      <td>4.400000e+01</td>\n",
       "      <td>2.000000e+07</td>\n",
       "      <td>1.620000e+07</td>\n",
       "      <td>2.800000e+07</td>\n",
       "      <td>2.000000e+07</td>\n",
       "      <td>1.060000e+08</td>\n",
       "      <td>5.030000e+07</td>\n",
       "      <td>1.060000e+08</td>\n",
       "      <td>1.060000e+08</td>\n",
       "    </tr>\n",
       "  </tbody>\n",
       "</table>\n",
       "<p>8 rows × 78 columns</p>\n",
       "</div>"
      ],
      "text/plain": [
       "           dst_port      protocol  flow_duration  tot_fwd_pkts  tot_bwd_pkts  \\\n",
       "count  1.048575e+06  1.048575e+06   1.048575e+06  1.048575e+06  1.048575e+06   \n",
       "mean   1.958764e+04  6.037952e+00   3.990401e+05  1.968099e+02  1.309663e+00   \n",
       "std    2.719338e+04  6.495848e-01   6.630337e+06  4.899047e+03  1.477423e+00   \n",
       "min    0.000000e+00  0.000000e+00   2.000000e+00  1.000000e+00  0.000000e+00   \n",
       "25%    8.000000e+01  6.000000e+00   1.408000e+03  2.000000e+00  0.000000e+00   \n",
       "50%    8.000000e+01  6.000000e+00   4.720000e+03  3.000000e+00  0.000000e+00   \n",
       "75%    5.355300e+04  6.000000e+00   1.464900e+04  5.000000e+00  2.000000e+00   \n",
       "max    6.553400e+04  1.700000e+01   1.200000e+08  3.096290e+05  1.240000e+02   \n",
       "\n",
       "       totlen_fwd_pkts  totlen_bwd_pkts  fwd_pkt_len_max  fwd_pkt_len_min  \\\n",
       "count     1.048575e+06     1.048575e+06     1.048575e+06     1.048575e+06   \n",
       "mean      6.563581e+03     2.486527e+02     3.666938e+02     2.549479e-01   \n",
       "std       1.567596e+05     3.257857e+02     4.226960e+02     8.978105e+00   \n",
       "min       0.000000e+00     0.000000e+00     0.000000e+00     0.000000e+00   \n",
       "25%       0.000000e+00     0.000000e+00     0.000000e+00     0.000000e+00   \n",
       "50%       2.470000e+02     0.000000e+00     3.200000e+01     0.000000e+00   \n",
       "75%       9.350000e+02     3.160000e+02     9.350000e+02     0.000000e+00   \n",
       "max       9.908128e+06     9.121000e+03     2.224000e+03     9.760000e+02   \n",
       "\n",
       "       fwd_pkt_len_mean  ...  fwd_act_data_pkts  fwd_seg_size_min  \\\n",
       "count      1.048575e+06  ...       1.048575e+06      1.048575e+06   \n",
       "mean       7.977144e+01  ...       1.941294e+02      1.995892e+01   \n",
       "std        8.511139e+01  ...       4.899113e+03      7.395666e-01   \n",
       "min        0.000000e+00  ...       0.000000e+00      0.000000e+00   \n",
       "25%        0.000000e+00  ...       0.000000e+00      2.000000e+01   \n",
       "50%        3.200000e+01  ...       1.000000e+00      2.000000e+01   \n",
       "75%        1.870000e+02  ...       1.000000e+00      2.000000e+01   \n",
       "max        9.760000e+02  ...       3.096280e+05      4.400000e+01   \n",
       "\n",
       "        active_mean    active_std    active_max    active_min     idle_mean  \\\n",
       "count  1.048575e+06  1.048575e+06  1.048575e+06  1.048575e+06  1.048575e+06   \n",
       "mean   7.521672e+03  2.589427e+03  1.003609e+04  5.446253e+03  3.140514e+04   \n",
       "std    2.033449e+05  1.034448e+05  2.825239e+05  1.568789e+05  8.419967e+05   \n",
       "min    0.000000e+00  0.000000e+00  0.000000e+00  0.000000e+00  0.000000e+00   \n",
       "25%    0.000000e+00  0.000000e+00  0.000000e+00  0.000000e+00  0.000000e+00   \n",
       "50%    0.000000e+00  0.000000e+00  0.000000e+00  0.000000e+00  0.000000e+00   \n",
       "75%    0.000000e+00  0.000000e+00  0.000000e+00  0.000000e+00  0.000000e+00   \n",
       "max    2.000000e+07  1.620000e+07  2.800000e+07  2.000000e+07  1.060000e+08   \n",
       "\n",
       "           idle_std      idle_max      idle_min  \n",
       "count  1.048575e+06  1.048575e+06  1.048575e+06  \n",
       "mean   1.602645e+04  5.723070e+04  1.633481e+04  \n",
       "std    4.340229e+05  1.421182e+06  5.894628e+05  \n",
       "min    0.000000e+00  0.000000e+00  0.000000e+00  \n",
       "25%    0.000000e+00  0.000000e+00  0.000000e+00  \n",
       "50%    0.000000e+00  0.000000e+00  0.000000e+00  \n",
       "75%    0.000000e+00  0.000000e+00  0.000000e+00  \n",
       "max    5.030000e+07  1.060000e+08  1.060000e+08  \n",
       "\n",
       "[8 rows x 78 columns]"
      ]
     },
     "execution_count": 6,
     "metadata": {},
     "output_type": "execute_result"
    }
   ],
   "source": [
    "df.describe()"
   ]
  },
  {
   "cell_type": "code",
   "execution_count": 7,
   "id": "5c9b27d6",
   "metadata": {},
   "outputs": [
    {
     "data": {
      "text/html": [
       "<div>\n",
       "<style scoped>\n",
       "    .dataframe tbody tr th:only-of-type {\n",
       "        vertical-align: middle;\n",
       "    }\n",
       "\n",
       "    .dataframe tbody tr th {\n",
       "        vertical-align: top;\n",
       "    }\n",
       "\n",
       "    .dataframe thead th {\n",
       "        text-align: right;\n",
       "    }\n",
       "</style>\n",
       "<table border=\"1\" class=\"dataframe\">\n",
       "  <thead>\n",
       "    <tr style=\"text-align: right;\">\n",
       "      <th></th>\n",
       "      <th>dst_port</th>\n",
       "      <th>protocol</th>\n",
       "      <th>timestamp</th>\n",
       "      <th>flow_duration</th>\n",
       "      <th>tot_fwd_pkts</th>\n",
       "      <th>tot_bwd_pkts</th>\n",
       "      <th>totlen_fwd_pkts</th>\n",
       "      <th>totlen_bwd_pkts</th>\n",
       "      <th>fwd_pkt_len_max</th>\n",
       "      <th>fwd_pkt_len_min</th>\n",
       "      <th>...</th>\n",
       "      <th>fwd_seg_size_min</th>\n",
       "      <th>active_mean</th>\n",
       "      <th>active_std</th>\n",
       "      <th>active_max</th>\n",
       "      <th>active_min</th>\n",
       "      <th>idle_mean</th>\n",
       "      <th>idle_std</th>\n",
       "      <th>idle_max</th>\n",
       "      <th>idle_min</th>\n",
       "      <th>Label</th>\n",
       "    </tr>\n",
       "  </thead>\n",
       "  <tbody>\n",
       "    <tr>\n",
       "      <th>0</th>\n",
       "      <td>80</td>\n",
       "      <td>6</td>\n",
       "      <td>21/02/2018 08:33:25</td>\n",
       "      <td>37953</td>\n",
       "      <td>5</td>\n",
       "      <td>3</td>\n",
       "      <td>135</td>\n",
       "      <td>127</td>\n",
       "      <td>135</td>\n",
       "      <td>0</td>\n",
       "      <td>...</td>\n",
       "      <td>32</td>\n",
       "      <td>0.0</td>\n",
       "      <td>0.0</td>\n",
       "      <td>0</td>\n",
       "      <td>0</td>\n",
       "      <td>0.0</td>\n",
       "      <td>0.0</td>\n",
       "      <td>0</td>\n",
       "      <td>0</td>\n",
       "      <td>Benign</td>\n",
       "    </tr>\n",
       "    <tr>\n",
       "      <th>1</th>\n",
       "      <td>500</td>\n",
       "      <td>17</td>\n",
       "      <td>21/02/2018 08:33:06</td>\n",
       "      <td>117573474</td>\n",
       "      <td>3</td>\n",
       "      <td>0</td>\n",
       "      <td>1500</td>\n",
       "      <td>0</td>\n",
       "      <td>500</td>\n",
       "      <td>500</td>\n",
       "      <td>...</td>\n",
       "      <td>8</td>\n",
       "      <td>0.0</td>\n",
       "      <td>0.0</td>\n",
       "      <td>0</td>\n",
       "      <td>0</td>\n",
       "      <td>58800000.0</td>\n",
       "      <td>23800000.0</td>\n",
       "      <td>75600000</td>\n",
       "      <td>42000000</td>\n",
       "      <td>Benign</td>\n",
       "    </tr>\n",
       "    <tr>\n",
       "      <th>2</th>\n",
       "      <td>500</td>\n",
       "      <td>17</td>\n",
       "      <td>21/02/2018 08:33:06</td>\n",
       "      <td>117573474</td>\n",
       "      <td>3</td>\n",
       "      <td>0</td>\n",
       "      <td>1500</td>\n",
       "      <td>0</td>\n",
       "      <td>500</td>\n",
       "      <td>500</td>\n",
       "      <td>...</td>\n",
       "      <td>8</td>\n",
       "      <td>0.0</td>\n",
       "      <td>0.0</td>\n",
       "      <td>0</td>\n",
       "      <td>0</td>\n",
       "      <td>58800000.0</td>\n",
       "      <td>23800000.0</td>\n",
       "      <td>75600000</td>\n",
       "      <td>42000000</td>\n",
       "      <td>Benign</td>\n",
       "    </tr>\n",
       "    <tr>\n",
       "      <th>3</th>\n",
       "      <td>500</td>\n",
       "      <td>17</td>\n",
       "      <td>21/02/2018 08:33:11</td>\n",
       "      <td>99743998</td>\n",
       "      <td>5</td>\n",
       "      <td>0</td>\n",
       "      <td>2500</td>\n",
       "      <td>0</td>\n",
       "      <td>500</td>\n",
       "      <td>500</td>\n",
       "      <td>...</td>\n",
       "      <td>8</td>\n",
       "      <td>4000290.0</td>\n",
       "      <td>0.0</td>\n",
       "      <td>4000290</td>\n",
       "      <td>4000290</td>\n",
       "      <td>31900000.0</td>\n",
       "      <td>37900000.0</td>\n",
       "      <td>75600000</td>\n",
       "      <td>7200397</td>\n",
       "      <td>Benign</td>\n",
       "    </tr>\n",
       "    <tr>\n",
       "      <th>4</th>\n",
       "      <td>500</td>\n",
       "      <td>17</td>\n",
       "      <td>21/02/2018 08:33:11</td>\n",
       "      <td>99743999</td>\n",
       "      <td>5</td>\n",
       "      <td>0</td>\n",
       "      <td>2500</td>\n",
       "      <td>0</td>\n",
       "      <td>500</td>\n",
       "      <td>500</td>\n",
       "      <td>...</td>\n",
       "      <td>8</td>\n",
       "      <td>4000286.0</td>\n",
       "      <td>0.0</td>\n",
       "      <td>4000286</td>\n",
       "      <td>4000286</td>\n",
       "      <td>31900000.0</td>\n",
       "      <td>37900000.0</td>\n",
       "      <td>75600000</td>\n",
       "      <td>7200399</td>\n",
       "      <td>Benign</td>\n",
       "    </tr>\n",
       "  </tbody>\n",
       "</table>\n",
       "<p>5 rows × 80 columns</p>\n",
       "</div>"
      ],
      "text/plain": [
       "   dst_port  protocol            timestamp  flow_duration  tot_fwd_pkts  \\\n",
       "0        80         6  21/02/2018 08:33:25          37953             5   \n",
       "1       500        17  21/02/2018 08:33:06      117573474             3   \n",
       "2       500        17  21/02/2018 08:33:06      117573474             3   \n",
       "3       500        17  21/02/2018 08:33:11       99743998             5   \n",
       "4       500        17  21/02/2018 08:33:11       99743999             5   \n",
       "\n",
       "   tot_bwd_pkts  totlen_fwd_pkts  totlen_bwd_pkts  fwd_pkt_len_max  \\\n",
       "0             3              135              127              135   \n",
       "1             0             1500                0              500   \n",
       "2             0             1500                0              500   \n",
       "3             0             2500                0              500   \n",
       "4             0             2500                0              500   \n",
       "\n",
       "   fwd_pkt_len_min  ...  fwd_seg_size_min  active_mean  active_std  \\\n",
       "0                0  ...                32          0.0         0.0   \n",
       "1              500  ...                 8          0.0         0.0   \n",
       "2              500  ...                 8          0.0         0.0   \n",
       "3              500  ...                 8    4000290.0         0.0   \n",
       "4              500  ...                 8    4000286.0         0.0   \n",
       "\n",
       "   active_max  active_min   idle_mean    idle_std  idle_max  idle_min   Label  \n",
       "0           0           0         0.0         0.0         0         0  Benign  \n",
       "1           0           0  58800000.0  23800000.0  75600000  42000000  Benign  \n",
       "2           0           0  58800000.0  23800000.0  75600000  42000000  Benign  \n",
       "3     4000290     4000290  31900000.0  37900000.0  75600000   7200397  Benign  \n",
       "4     4000286     4000286  31900000.0  37900000.0  75600000   7200399  Benign  \n",
       "\n",
       "[5 rows x 80 columns]"
      ]
     },
     "execution_count": 7,
     "metadata": {},
     "output_type": "execute_result"
    }
   ],
   "source": [
    "df.head()"
   ]
  },
  {
   "cell_type": "code",
   "execution_count": 8,
   "id": "d3ffc7bb",
   "metadata": {},
   "outputs": [
    {
     "data": {
      "text/plain": [
       "DDOS attack-HOIC        686012\n",
       "Benign                  360833\n",
       "DDOS attack-LOIC-UDP      1730\n",
       "Name: Label, dtype: int64"
      ]
     },
     "execution_count": 8,
     "metadata": {},
     "output_type": "execute_result"
    }
   ],
   "source": [
    "df[\"Label\"].value_counts()"
   ]
  },
  {
   "cell_type": "code",
   "execution_count": 9,
   "id": "b1302ec5",
   "metadata": {},
   "outputs": [
    {
     "data": {
      "image/png": "[encoded data removed]",
      "text/plain": [
       "<Figure size 1080x504 with 1 Axes>"
      ]
     },
     "metadata": {
      "needs_background": "light"
     },
     "output_type": "display_data"
    },
    {
     "data": {
      "image/png": "[encoded data removed]",
      "text/plain": [
       "<Figure size 1080x504 with 1 Axes>"
      ]
     },
     "metadata": {},
     "output_type": "display_data"
    }
   ],
   "source": [
    "plt.figure(figsize=(15,7))\n",
    "class_distribution = df[df[\"Label\"] != \"BENIGN\"][\"Label\"].value_counts()\n",
    "class_distribution.plot(kind='bar')\n",
    "plt.xlabel('Class')\n",
    "plt.ylabel('Data points per Class')\n",
    "plt.title('Distribution of data without Benign')\n",
    "plt.grid()\n",
    "plt.show()\n",
    "\n",
    "\n",
    "# pie chart distribution of multi-class labels\n",
    "plt.figure(figsize=(15,7))\n",
    "plt.pie(df['Label'].value_counts(),labels=df['Label'].unique(),autopct='%0.2f%%')\n",
    "plt.title('Pie chart distribution of multi-class labels')\n",
    "plt.legend()\n",
    "plt.savefig('Pie_chart_multi.png')\n",
    "plt.show()"
   ]
  },
  {
   "cell_type": "code",
   "execution_count": 10,
   "id": "cf3b99e4",
   "metadata": {},
   "outputs": [],
   "source": [
    "metadata = ['fl_dur' #Flow duration\n",
    ",'tot_fw_pk' #Total packets in the forward direction\n",
    ",'tot_bw_pk' #Total packets in the backward direction\n",
    ",'tot_l_fw_pkt' #Total size of packet in forward direction\n",
    ",'fw_pkt_l_max' #Maximum size of packet in forward direction\n",
    ",'fw_pkt_l_min' #Minimum size of packet in forward direction\n",
    ",'fw_pkt_l_avg' #Average size of packet in forward direction\n",
    ",'fw_pkt_l_std' #Standard deviation size of packet in forward direction\n",
    ",'Bw_pkt_l_max' #Maximum size of packet in backward direction\n",
    ",'Bw_pkt_l_min' #Minimum size of packet in backward direction\n",
    ",'Bw_pkt_l_avg' #Mean size of packet in backward direction\n",
    ",'Bw_pkt_l_std' #Standard deviation size of packet in backward direction\n",
    ",'fl_byt_s' #flow byte rate that is number of packets transferred per second\n",
    ",'fl_pkt_s' #flow packets rate that is number of packets transferred per second\n",
    ",'fl_iat_avg' #Average time between two flows\n",
    ",'fl_iat_std' #Standard deviation time two flows\n",
    ",'fl_iat_max' #Maximum time between two flows\n",
    ",'fl_iat_min' #Minimum time between two flows\n",
    ",'fw_iat_tot' #Total time between two packets sent in the forward direction\n",
    ",'fw_iat_avg' #Mean time between two packets sent in the forward direction\n",
    ",'fw_iat_std' #Standard deviation time between two packets sent in the forward direction\n",
    ",'fw_iat_max' #Maximum time between two packets sent in the forward direction\n",
    ",'fw_iat_min' #Minimum time between two packets sent in the forward direction\n",
    ",'bw_iat_tot' #Total time between two packets sent in the backward direction\n",
    ",'bw_iat_avg' #Mean time between two packets sent in the backward direction\n",
    ",'bw_iat_std' #Standard deviation time between two packets sent in the backward direction\n",
    ",'bw_iat_max' #Maximum time between two packets sent in the backward direction\n",
    ",'bw_iat_min' #Minimum time between two packets sent in the backward direction\n",
    ",'fw_psh_flag' #Number of times the PSH flag was set in packets travelling in the forward direction (0 for UDP)\n",
    ",'bw_psh_flag' #Number of times the PSH flag was set in packets travelling in the backward direction (0 for UDP)\n",
    ",'fw_urg_flag' #Number of times the URG flag was set in packets travelling in the forward direction (0 for UDP)\n",
    ",'bw_urg_flag' #Number of times the URG flag was set in packets travelling in the backward direction (0 for UDP)\n",
    ",'fw_hdr_len' #Total bytes used for headers in the forward direction\n",
    ",'bw_hdr_len' #Total bytes used for headers in the forward direction\n",
    ",'fw_pkt_s' #Number of forward packets per second\n",
    ",'bw_pkt_s' #Number of backward packets per second\n",
    ",'pkt_len_min' #Minimum length of a flow\n",
    ",'pkt_len_max' #Maximum length of a flow\n",
    ",'pkt_len_avg' #Mean length of a flow\n",
    ",'pkt_len_std' #Standard deviation length of a flow\n",
    ",'pkt_len_va' #Minimum inter-arrival time of packet\n",
    ",'fin_cnt' #Number of packets with FIN\n",
    ",'syn_cnt' #Number of packets with SYN\n",
    ",'rst_cnt' #Number of packets with RST\n",
    ",'pst_cnt' #Number of packets with PUSH\n",
    ",'ack_cnt' #Number of packets with ACK\n",
    ",'urg_cnt' #Number of packets with URG\n",
    ",'cwe_cnt' #Number of packets with CWE\n",
    ",'ece_cnt' #Number of packets with ECE\n",
    ",'down_up_ratio' #Download and upload ratio\n",
    ",'pkt_size_avg' #Average size of packet\n",
    ",'fw_seg_avg' #Average size observed in the forward direction\n",
    ",'bw_seg_avg' #Average size observed in the backward direction\n",
    ",'fw_byt_blk_avg' #Average number of bytes bulk rate in the forward direction\n",
    ",'fw_pkt_blk_avg' #Average number of packets bulk rate in the forward direction\n",
    ",'fw_blk_rate_avg' #Average number of bulk rate in the forward direction\n",
    ",'bw_byt_blk_avg' #Average number of bytes bulk rate in the backward direction\n",
    ",'bw_pkt_blk_avg' #Average number of packets bulk rate in the backward direction\n",
    ",'bw_blk_rate_avg' #Average number of bulk rate in the backward direction\n",
    ",'subfl_fw_pk' #The average number of packets in a sub flow in the forward direction\n",
    ",'subfl_fw_byt' #The average number of bytes in a sub flow in the forward direction\n",
    ",'subfl_bw_pkt' #The average number of packets in a sub flow in the backward direction\n",
    ",'subfl_bw_byt' #The average number of bytes in a sub flow in the backward direction\n",
    ",'fw_win_byt' #Number of bytes sent in initial window in the forward direction\n",
    ",'bw_win_byt' ## of bytes sent in initial window in the backward direction\n",
    ",'Fw_act_pkt' ## of packets with at least 1 byte of TCP data payload in the forward direction\n",
    ",'fw_seg_min' #Minimum segment size observed in the forward direction\n",
    ",'atv_avg' #Mean time a flow was active before becoming idle\n",
    ",'atv_std' #Standard deviation time a flow was active before becoming idle\n",
    ",'atv_max' #Maximum time a flow was active before becoming idle\n",
    ",'atv_min' #Minimum time a flow was active before becoming idle\n",
    ",'idl_avg' #Mean time a flow was idle before becoming active\n",
    ",'idl_std' #Standard deviation time a flow was idle before becoming active\n",
    ",'idl_max' #Maximum time a flow was idle before becoming active\n",
    ",'idl_min' #Minimum time a flow was idle before becoming active\n",
    "]"
   ]
  },
  {
   "cell_type": "code",
   "execution_count": 11,
   "id": "b0f64d29",
   "metadata": {},
   "outputs": [],
   "source": [
    "#features = df.columns"
   ]
  },
  {
   "cell_type": "code",
   "execution_count": 12,
   "id": "f0347bf5",
   "metadata": {},
   "outputs": [],
   "source": [
    "features = ['Flow Duration', 'Tot Fwd Pkts',\n",
    "       'Tot Bwd Pkts', 'TotLen Fwd Pkts', 'TotLen Bwd Pkts', 'Fwd Pkt Len Max',\n",
    "       'Fwd Pkt Len Min', 'Fwd Pkt Len Mean', 'Fwd Pkt Len Std',\n",
    "       'Bwd Pkt Len Max', 'Bwd Pkt Len Min', 'Bwd Pkt Len Mean',\n",
    "       'Bwd Pkt Len Std', 'Flow Byts/s', 'Flow Pkts/s', 'Flow IAT Mean',\n",
    "       'Flow IAT Std', 'Flow IAT Max', 'Flow IAT Min', 'Fwd IAT Tot',\n",
    "       'Fwd IAT Mean', 'Fwd IAT Std', 'Fwd IAT Max', 'Fwd IAT Min',\n",
    "       'Bwd IAT Tot', 'Bwd IAT Mean', 'Bwd IAT Std', 'Bwd IAT Max',\n",
    "       'Bwd IAT Min', 'Fwd PSH Flags', 'Bwd PSH Flags', 'Fwd URG Flags',\n",
    "       'Bwd URG Flags', 'Fwd Header Len', 'Bwd Header Len', 'Fwd Pkts/s',\n",
    "       'Bwd Pkts/s', 'Pkt Len Min', 'Pkt Len Max', 'Pkt Len Mean',\n",
    "       'Pkt Len Std', 'Pkt Len Var', 'FIN Flag Cnt', 'SYN Flag Cnt',\n",
    "       'RST Flag Cnt', 'PSH Flag Cnt', 'ACK Flag Cnt', 'URG Flag Cnt',\n",
    "       'CWE Flag Count', 'ECE Flag Cnt', 'Down/Up Ratio', 'Pkt Size Avg',\n",
    "       'Fwd Seg Size Avg', 'Bwd Seg Size Avg', 'Fwd Byts/b Avg',\n",
    "       'Fwd Pkts/b Avg', 'Fwd Blk Rate Avg', 'Bwd Byts/b Avg',\n",
    "       'Bwd Pkts/b Avg', 'Bwd Blk Rate Avg', 'Subflow Fwd Pkts',\n",
    "       'Subflow Fwd Byts', 'Subflow Bwd Pkts', 'Subflow Bwd Byts',\n",
    "       'Init Fwd Win Byts', 'Init Bwd Win Byts', 'Fwd Act Data Pkts',\n",
    "       'Fwd Seg Size Min', 'Active Mean', 'Active Std', 'Active Max',\n",
    "       'Active Min', 'Idle Mean', 'Idle Std', 'Idle Max', 'Idle Min']"
   ]
  },
  {
   "cell_type": "code",
   "execution_count": 13,
   "id": "2516aeed",
   "metadata": {},
   "outputs": [
    {
     "name": "stdout",
     "output_type": "stream",
     "text": [
      "After dropping some columns: \n",
      "\t there are 77 columns and 1048575 rows\n"
     ]
    }
   ],
   "source": [
    "# Remove columns with only values of 0\n",
    "useless_columns = ['dst_port', 'protocol', 'timestamp']\n",
    "df.drop(labels=useless_columns, axis='columns', inplace=True)\n",
    "print('After dropping some columns: \\n\\t there are {} columns and {} rows'.format(len(df.columns), len(df)))\n",
    "\n",
    "features = df.columns"
   ]
  },
  {
   "cell_type": "code",
   "execution_count": 14,
   "id": "205afc81",
   "metadata": {},
   "outputs": [],
   "source": [
    "from sklearn.model_selection import train_test_split\n",
    "from sklearn.preprocessing import OneHotEncoder, StandardScaler, LabelEncoder\n",
    "\n",
    "\n",
    "#drop na values and reset index\n",
    "data_clean = df.dropna().reset_index()\n",
    "\n",
    "# label encoding\n",
    "labelencoder = LabelEncoder()\n",
    "data_clean['Label'] = labelencoder.fit_transform(data_clean['Label'])\n",
    "\n",
    "data_clean['Label'].value_counts()\n",
    "\n",
    "data_np = data_clean.to_numpy(dtype=\"float32\")\n",
    "data_np = data_np[~np.isinf(data_np).any(axis=1)]\n",
    "\n",
    "#del df\n",
    "\n",
    "X = data_np[:, 0:76]\n",
    "\n",
    "enc = OneHotEncoder()\n",
    "\n",
    "Y = enc.fit_transform(data_np[:,77:]).toarray()"
   ]
  },
  {
   "cell_type": "code",
   "execution_count": 15,
   "id": "1b629b58",
   "metadata": {},
   "outputs": [
    {
     "data": {
      "text/plain": [
       "(1048575, 78)"
      ]
     },
     "execution_count": 15,
     "metadata": {},
     "output_type": "execute_result"
    }
   ],
   "source": [
    "data_clean.shape"
   ]
  },
  {
   "cell_type": "code",
   "execution_count": 16,
   "id": "4bad4975",
   "metadata": {},
   "outputs": [
    {
     "data": {
      "text/plain": [
       "Index(['index', 'flow_duration', 'tot_fwd_pkts', 'tot_bwd_pkts',\n",
       "       'totlen_fwd_pkts', 'totlen_bwd_pkts', 'fwd_pkt_len_max',\n",
       "       'fwd_pkt_len_min', 'fwd_pkt_len_mean', 'fwd_pkt_len_std',\n",
       "       'bwd_pkt_len_max', 'bwd_pkt_len_min', 'bwd_pkt_len_mean',\n",
       "       'bwd_pkt_len_std', 'flow_byts_s', 'flow_pkts_s', 'flow_iat_mean',\n",
       "       'flow_iat_std', 'flow_iat_max', 'flow_iat_min', 'fwd_iat_tot',\n",
       "       'fwd_iat_mean', 'fwd_iat_std', 'fwd_iat_max', 'fwd_iat_min',\n",
       "       'bwd_iat_tot', 'bwd_iat_mean', 'bwd_iat_std', 'bwd_iat_max',\n",
       "       'bwd_iat_min', 'fwd_psh_flags', 'bwd_psh_flags', 'fwd_urg_flags',\n",
       "       'bwd_urg_flags', 'fwd_header_len', 'bwd_header_len', 'fwd_pkts_s',\n",
       "       'bwd_pkts_s', 'pkt_len_min', 'pkt_len_max', 'pkt_len_mean',\n",
       "       'pkt_len_std', 'pkt_len_var', 'fin_flag_cnt', 'syn_flag_cnt',\n",
       "       'rst_flag_cnt', 'psh_flag_cnt', 'ack_flag_cnt', 'urg_flag_cnt',\n",
       "       'cwe_flag_count', 'ece_flag_cnt', 'down_up_ratio', 'pkt_size_avg',\n",
       "       'fwd_seg_size_avg', 'bwd_seg_size_avg', 'fwd_byts_b_avg',\n",
       "       'fwd_pkts_b_avg', 'fwd_blk_rate_avg', 'bwd_byts_b_avg',\n",
       "       'bwd_pkts_b_avg', 'bwd_blk_rate_avg', 'subflow_fwd_pkts',\n",
       "       'subflow_fwd_byts', 'subflow_bwd_pkts', 'subflow_bwd_byts',\n",
       "       'init_fwd_win_byts', 'init_bwd_win_byts', 'fwd_act_data_pkts',\n",
       "       'fwd_seg_size_min', 'active_mean', 'active_std', 'active_max',\n",
       "       'active_min', 'idle_mean', 'idle_std', 'idle_max', 'idle_min', 'Label'],\n",
       "      dtype='object')"
      ]
     },
     "execution_count": 16,
     "metadata": {},
     "output_type": "execute_result"
    }
   ],
   "source": [
    "data_clean.columns"
   ]
  },
  {
   "cell_type": "code",
   "execution_count": 17,
   "id": "86ba621f",
   "metadata": {},
   "outputs": [
    {
     "data": {
      "text/html": [
       "<div>\n",
       "<style scoped>\n",
       "    .dataframe tbody tr th:only-of-type {\n",
       "        vertical-align: middle;\n",
       "    }\n",
       "\n",
       "    .dataframe tbody tr th {\n",
       "        vertical-align: top;\n",
       "    }\n",
       "\n",
       "    .dataframe thead th {\n",
       "        text-align: right;\n",
       "    }\n",
       "</style>\n",
       "<table border=\"1\" class=\"dataframe\">\n",
       "  <thead>\n",
       "    <tr style=\"text-align: right;\">\n",
       "      <th></th>\n",
       "      <th>index</th>\n",
       "      <th>flow_duration</th>\n",
       "      <th>tot_fwd_pkts</th>\n",
       "      <th>tot_bwd_pkts</th>\n",
       "      <th>totlen_fwd_pkts</th>\n",
       "      <th>totlen_bwd_pkts</th>\n",
       "      <th>fwd_pkt_len_max</th>\n",
       "      <th>fwd_pkt_len_min</th>\n",
       "      <th>fwd_pkt_len_mean</th>\n",
       "      <th>fwd_pkt_len_std</th>\n",
       "      <th>...</th>\n",
       "      <th>fwd_seg_size_min</th>\n",
       "      <th>active_mean</th>\n",
       "      <th>active_std</th>\n",
       "      <th>active_max</th>\n",
       "      <th>active_min</th>\n",
       "      <th>idle_mean</th>\n",
       "      <th>idle_std</th>\n",
       "      <th>idle_max</th>\n",
       "      <th>idle_min</th>\n",
       "      <th>Label</th>\n",
       "    </tr>\n",
       "  </thead>\n",
       "  <tbody>\n",
       "    <tr>\n",
       "      <th>0</th>\n",
       "      <td>0</td>\n",
       "      <td>37953</td>\n",
       "      <td>5</td>\n",
       "      <td>3</td>\n",
       "      <td>135</td>\n",
       "      <td>127</td>\n",
       "      <td>135</td>\n",
       "      <td>0</td>\n",
       "      <td>27.0</td>\n",
       "      <td>60.373835</td>\n",
       "      <td>...</td>\n",
       "      <td>32</td>\n",
       "      <td>0.0</td>\n",
       "      <td>0.0</td>\n",
       "      <td>0</td>\n",
       "      <td>0</td>\n",
       "      <td>0.0</td>\n",
       "      <td>0.0</td>\n",
       "      <td>0</td>\n",
       "      <td>0</td>\n",
       "      <td>0</td>\n",
       "    </tr>\n",
       "    <tr>\n",
       "      <th>1</th>\n",
       "      <td>1</td>\n",
       "      <td>117573474</td>\n",
       "      <td>3</td>\n",
       "      <td>0</td>\n",
       "      <td>1500</td>\n",
       "      <td>0</td>\n",
       "      <td>500</td>\n",
       "      <td>500</td>\n",
       "      <td>500.0</td>\n",
       "      <td>0.000000</td>\n",
       "      <td>...</td>\n",
       "      <td>8</td>\n",
       "      <td>0.0</td>\n",
       "      <td>0.0</td>\n",
       "      <td>0</td>\n",
       "      <td>0</td>\n",
       "      <td>58800000.0</td>\n",
       "      <td>23800000.0</td>\n",
       "      <td>75600000</td>\n",
       "      <td>42000000</td>\n",
       "      <td>0</td>\n",
       "    </tr>\n",
       "    <tr>\n",
       "      <th>2</th>\n",
       "      <td>2</td>\n",
       "      <td>117573474</td>\n",
       "      <td>3</td>\n",
       "      <td>0</td>\n",
       "      <td>1500</td>\n",
       "      <td>0</td>\n",
       "      <td>500</td>\n",
       "      <td>500</td>\n",
       "      <td>500.0</td>\n",
       "      <td>0.000000</td>\n",
       "      <td>...</td>\n",
       "      <td>8</td>\n",
       "      <td>0.0</td>\n",
       "      <td>0.0</td>\n",
       "      <td>0</td>\n",
       "      <td>0</td>\n",
       "      <td>58800000.0</td>\n",
       "      <td>23800000.0</td>\n",
       "      <td>75600000</td>\n",
       "      <td>42000000</td>\n",
       "      <td>0</td>\n",
       "    </tr>\n",
       "    <tr>\n",
       "      <th>3</th>\n",
       "      <td>3</td>\n",
       "      <td>99743998</td>\n",
       "      <td>5</td>\n",
       "      <td>0</td>\n",
       "      <td>2500</td>\n",
       "      <td>0</td>\n",
       "      <td>500</td>\n",
       "      <td>500</td>\n",
       "      <td>500.0</td>\n",
       "      <td>0.000000</td>\n",
       "      <td>...</td>\n",
       "      <td>8</td>\n",
       "      <td>4000290.0</td>\n",
       "      <td>0.0</td>\n",
       "      <td>4000290</td>\n",
       "      <td>4000290</td>\n",
       "      <td>31900000.0</td>\n",
       "      <td>37900000.0</td>\n",
       "      <td>75600000</td>\n",
       "      <td>7200397</td>\n",
       "      <td>0</td>\n",
       "    </tr>\n",
       "    <tr>\n",
       "      <th>4</th>\n",
       "      <td>4</td>\n",
       "      <td>99743999</td>\n",
       "      <td>5</td>\n",
       "      <td>0</td>\n",
       "      <td>2500</td>\n",
       "      <td>0</td>\n",
       "      <td>500</td>\n",
       "      <td>500</td>\n",
       "      <td>500.0</td>\n",
       "      <td>0.000000</td>\n",
       "      <td>...</td>\n",
       "      <td>8</td>\n",
       "      <td>4000286.0</td>\n",
       "      <td>0.0</td>\n",
       "      <td>4000286</td>\n",
       "      <td>4000286</td>\n",
       "      <td>31900000.0</td>\n",
       "      <td>37900000.0</td>\n",
       "      <td>75600000</td>\n",
       "      <td>7200399</td>\n",
       "      <td>0</td>\n",
       "    </tr>\n",
       "  </tbody>\n",
       "</table>\n",
       "<p>5 rows × 78 columns</p>\n",
       "</div>"
      ],
      "text/plain": [
       "   index  flow_duration  tot_fwd_pkts  tot_bwd_pkts  totlen_fwd_pkts  \\\n",
       "0      0          37953             5             3              135   \n",
       "1      1      117573474             3             0             1500   \n",
       "2      2      117573474             3             0             1500   \n",
       "3      3       99743998             5             0             2500   \n",
       "4      4       99743999             5             0             2500   \n",
       "\n",
       "   totlen_bwd_pkts  fwd_pkt_len_max  fwd_pkt_len_min  fwd_pkt_len_mean  \\\n",
       "0              127              135                0              27.0   \n",
       "1                0              500              500             500.0   \n",
       "2                0              500              500             500.0   \n",
       "3                0              500              500             500.0   \n",
       "4                0              500              500             500.0   \n",
       "\n",
       "   fwd_pkt_len_std  ...  fwd_seg_size_min  active_mean  active_std  \\\n",
       "0        60.373835  ...                32          0.0         0.0   \n",
       "1         0.000000  ...                 8          0.0         0.0   \n",
       "2         0.000000  ...                 8          0.0         0.0   \n",
       "3         0.000000  ...                 8    4000290.0         0.0   \n",
       "4         0.000000  ...                 8    4000286.0         0.0   \n",
       "\n",
       "   active_max  active_min   idle_mean    idle_std  idle_max  idle_min  Label  \n",
       "0           0           0         0.0         0.0         0         0      0  \n",
       "1           0           0  58800000.0  23800000.0  75600000  42000000      0  \n",
       "2           0           0  58800000.0  23800000.0  75600000  42000000      0  \n",
       "3     4000290     4000290  31900000.0  37900000.0  75600000   7200397      0  \n",
       "4     4000286     4000286  31900000.0  37900000.0  75600000   7200399      0  \n",
       "\n",
       "[5 rows x 78 columns]"
      ]
     },
     "execution_count": 17,
     "metadata": {},
     "output_type": "execute_result"
    }
   ],
   "source": [
    "data_clean.head()"
   ]
  },
  {
   "cell_type": "code",
   "execution_count": 18,
   "id": "c03c6f6a",
   "metadata": {},
   "outputs": [],
   "source": [
    "scaler = StandardScaler()\n",
    "X_scaled = scaler.fit_transform(X)\n",
    "\n",
    "# Split the data set into training and testing\n",
    "X_train, X_test, Y_train, Y_test = train_test_split(\n",
    "    X_scaled, Y, test_size=0.25, random_state=2, shuffle=True)\n",
    "\n",
    "_features = X.shape[1]\n",
    "n_classes = Y.shape[1]"
   ]
  },
  {
   "cell_type": "code",
   "execution_count": null,
   "id": "aa77ed43",
   "metadata": {},
   "outputs": [],
   "source": []
  },
  {
   "cell_type": "markdown",
   "id": "84a389ff",
   "metadata": {},
   "source": [
    "# DNN"
   ]
  },
  {
   "cell_type": "code",
   "execution_count": 19,
   "id": "f0e52621",
   "metadata": {},
   "outputs": [
    {
     "name": "stdout",
     "output_type": "stream",
     "text": [
      "Model: \"sequential\"\n",
      "_________________________________________________________________\n",
      " Layer (type)                Output Shape              Param #   \n",
      "=================================================================\n",
      " dense (Dense)               (None, 128)               9856      \n",
      "                                                                 \n",
      " dropout (Dropout)           (None, 128)               0         \n",
      "                                                                 \n",
      " dense_1 (Dense)             (None, 256)               33024     \n",
      "                                                                 \n",
      " dropout_1 (Dropout)         (None, 256)               0         \n",
      "                                                                 \n",
      " dense_2 (Dense)             (None, 128)               32896     \n",
      "                                                                 \n",
      " dropout_2 (Dropout)         (None, 128)               0         \n",
      "                                                                 \n",
      " dense_3 (Dense)             (None, 3)                 387       \n",
      "                                                                 \n",
      " activation (Activation)     (None, 3)                 0         \n",
      "                                                                 \n",
      "=================================================================\n",
      "Total params: 76,163\n",
      "Trainable params: 76,163\n",
      "Non-trainable params: 0\n",
      "_________________________________________________________________\n",
      "Epoch 1/30\n",
      "1573/1573 [==============================] - 11s 5ms/step - loss: 0.0255 - accuracy: 0.9947 - val_loss: 3.9777e-04 - val_accuracy: 0.9999 - lr: 1.0000e-04\n",
      "Epoch 2/30\n",
      "1573/1573 [==============================] - 8s 5ms/step - loss: 4.2599e-04 - accuracy: 0.9999 - val_loss: 1.4403e-04 - val_accuracy: 1.0000 - lr: 1.0000e-04\n",
      "Epoch 3/30\n",
      "1573/1573 [==============================] - 8s 5ms/step - loss: 1.6151e-04 - accuracy: 1.0000 - val_loss: 3.0972e-05 - val_accuracy: 1.0000 - lr: 1.0000e-04\n",
      "Epoch 4/30\n",
      "1573/1573 [==============================] - 8s 5ms/step - loss: 5.2937e-05 - accuracy: 1.0000 - val_loss: 1.5942e-05 - val_accuracy: 1.0000 - lr: 1.0000e-04\n",
      "Epoch 5/30\n",
      "1573/1573 [==============================] - 8s 5ms/step - loss: 3.0636e-05 - accuracy: 1.0000 - val_loss: 6.8996e-06 - val_accuracy: 1.0000 - lr: 1.0000e-04\n",
      "Epoch 6/30\n",
      "1573/1573 [==============================] - 8s 5ms/step - loss: 1.6099e-05 - accuracy: 1.0000 - val_loss: 4.8786e-06 - val_accuracy: 1.0000 - lr: 1.0000e-04\n",
      "Epoch 7/30\n",
      "1573/1573 [==============================] - 8s 5ms/step - loss: 9.6382e-06 - accuracy: 1.0000 - val_loss: 9.8530e-07 - val_accuracy: 1.0000 - lr: 1.0000e-04\n",
      "Epoch 8/30\n",
      "1573/1573 [==============================] - 9s 6ms/step - loss: 5.1972e-06 - accuracy: 1.0000 - val_loss: 2.6285e-07 - val_accuracy: 1.0000 - lr: 1.0000e-04\n",
      "Epoch 9/30\n",
      "1573/1573 [==============================] - 8s 5ms/step - loss: 1.4333e-05 - accuracy: 1.0000 - val_loss: 1.3591e-07 - val_accuracy: 1.0000 - lr: 1.0000e-04\n",
      "Epoch 10/30\n",
      "1573/1573 [==============================] - 8s 5ms/step - loss: 1.3278e-06 - accuracy: 1.0000 - val_loss: 4.9841e-08 - val_accuracy: 1.0000 - lr: 1.0000e-04\n",
      "Epoch 11/30\n",
      "1573/1573 [==============================] - 8s 5ms/step - loss: 7.7700e-07 - accuracy: 1.0000 - val_loss: 3.9033e-08 - val_accuracy: 1.0000 - lr: 1.0000e-04\n",
      "Epoch 12/30\n",
      "1573/1573 [==============================] - 9s 6ms/step - loss: 1.4528e-07 - accuracy: 1.0000 - val_loss: 2.4733e-08 - val_accuracy: 1.0000 - lr: 1.0000e-04\n",
      "Epoch 13/30\n",
      "1573/1573 [==============================] - 8s 5ms/step - loss: 1.1820e-07 - accuracy: 1.0000 - val_loss: 6.7575e-09 - val_accuracy: 1.0000 - lr: 1.0000e-04\n",
      "Epoch 14/30\n",
      "1573/1573 [==============================] - 8s 5ms/step - loss: 2.3812e-05 - accuracy: 1.0000 - val_loss: 5.9492e-09 - val_accuracy: 1.0000 - lr: 1.0000e-04\n",
      "Epoch 15/30\n",
      "1573/1573 [==============================] - 8s 5ms/step - loss: 8.9116e-08 - accuracy: 1.0000 - val_loss: 3.1950e-09 - val_accuracy: 1.0000 - lr: 1.0000e-04\n",
      "Epoch 16/30\n",
      "1573/1573 [==============================] - 8s 5ms/step - loss: 2.9928e-07 - accuracy: 1.0000 - val_loss: 1.9447e-09 - val_accuracy: 1.0000 - lr: 1.0000e-04\n",
      "Epoch 17/30\n",
      "1573/1573 [==============================] - 8s 5ms/step - loss: 5.8348e-08 - accuracy: 1.0000 - val_loss: 2.7100e-09 - val_accuracy: 1.0000 - lr: 1.0000e-04\n",
      "Epoch 18/30\n",
      "1573/1573 [==============================] - 8s 5ms/step - loss: 2.0726e-07 - accuracy: 1.0000 - val_loss: 1.6329e-09 - val_accuracy: 1.0000 - lr: 1.0000e-04\n",
      "Epoch 19/30\n",
      "1573/1573 [==============================] - 8s 5ms/step - loss: 6.7724e-08 - accuracy: 1.0000 - val_loss: 1.1285e-09 - val_accuracy: 1.0000 - lr: 1.0000e-04\n",
      "Epoch 20/30\n",
      "1573/1573 [==============================] - 8s 5ms/step - loss: 7.2194e-09 - accuracy: 1.0000 - val_loss: 7.3945e-10 - val_accuracy: 1.0000 - lr: 1.0000e-04\n",
      "Epoch 21/30\n",
      "1573/1573 [==============================] - 8s 5ms/step - loss: 4.1936e-08 - accuracy: 1.0000 - val_loss: 4.5616e-10 - val_accuracy: 1.0000 - lr: 1.0000e-04\n",
      "Epoch 22/30\n",
      "1573/1573 [==============================] - 8s 5ms/step - loss: 8.7941e-06 - accuracy: 1.0000 - val_loss: 2.4959e-10 - val_accuracy: 1.0000 - lr: 1.0000e-04\n",
      "Epoch 23/30\n",
      "1573/1573 [==============================] - 8s 5ms/step - loss: 1.0384e-08 - accuracy: 1.0000 - val_loss: 1.6192e-10 - val_accuracy: 1.0000 - lr: 1.0000e-04\n",
      "Epoch 24/30\n",
      "1573/1573 [==============================] - 8s 5ms/step - loss: 1.1513e-08 - accuracy: 1.0000 - val_loss: 1.5274e-10 - val_accuracy: 1.0000 - lr: 1.0000e-04\n",
      "Epoch 25/30\n",
      "1573/1573 [==============================] - 9s 5ms/step - loss: 5.3778e-09 - accuracy: 1.0000 - val_loss: 1.2235e-10 - val_accuracy: 1.0000 - lr: 1.0000e-04\n",
      "Epoch 26/30\n",
      "1573/1573 [==============================] - 9s 5ms/step - loss: 1.3274e-08 - accuracy: 1.0000 - val_loss: 9.5020e-11 - val_accuracy: 1.0000 - lr: 1.0000e-04\n",
      "Epoch 27/30\n",
      "1573/1573 [==============================] - 8s 5ms/step - loss: 3.6036e-09 - accuracy: 1.0000 - val_loss: 7.7100e-11 - val_accuracy: 1.0000 - lr: 1.0000e-04\n",
      "Epoch 28/30\n",
      "1573/1573 [==============================] - 8s 5ms/step - loss: 3.4567e-09 - accuracy: 1.0000 - val_loss: 8.5352e-11 - val_accuracy: 1.0000 - lr: 1.0000e-04\n",
      "Epoch 29/30\n",
      "1573/1573 [==============================] - 8s 5ms/step - loss: 2.6644e-09 - accuracy: 1.0000 - val_loss: 5.1415e-11 - val_accuracy: 1.0000 - lr: 1.0000e-04\n",
      "Epoch 30/30\n",
      "1573/1573 [==============================] - 8s 5ms/step - loss: 2.5629e-08 - accuracy: 1.0000 - val_loss: 7.3974e-11 - val_accuracy: 1.0000 - lr: 1.0000e-04\n"
     ]
    }
   ],
   "source": [
    "model = Sequential()\n",
    "\n",
    "model.add(Dense(128, input_dim=_features, activation='relu'))\n",
    "model.add(Dropout(0.1))\n",
    "model.add(Dense(256, activation='relu'))\n",
    "model.add(Dropout(0.1))\n",
    "model.add(Dense(128, activation='relu'))\n",
    "model.add(Dropout(0.1))\n",
    "model.add(Dense(n_classes))\n",
    "model.add(Activation('softmax'))\n",
    "model.summary() \n",
    "\n",
    "opt = keras.optimizers.Adam(learning_rate=0.0001)\n",
    "model.compile(loss='BinaryCrossentropy', optimizer=opt, metrics=['accuracy'])\n",
    "\n",
    "early_stop_callback = tf.keras.callbacks.EarlyStopping(monitor='loss', patience=5)\n",
    "reduce_lr = tf.keras.callbacks.ReduceLROnPlateau(monitor='val_loss', factor=0.2,\n",
    "                                  patience=3, min_lr=0.0001)\n",
    "    \n",
    "history = model.fit(X_train, Y_train,\n",
    "                              batch_size=500,\n",
    "                              epochs=30,\n",
    "                              verbose=True,\n",
    "                              validation_data=(X_test, Y_test),\n",
    "                              callbacks=[reduce_lr, early_stop_callback])"
   ]
  },
  {
   "cell_type": "code",
   "execution_count": 20,
   "id": "decf5606",
   "metadata": {},
   "outputs": [],
   "source": [
    "pred = model.predict(X_test)\n",
    "pred = np.argmax(pred,axis=1)\n",
    "y_test = Y_test.argmax(axis=1)"
   ]
  },
  {
   "cell_type": "code",
   "execution_count": 21,
   "id": "625a78db",
   "metadata": {},
   "outputs": [
    {
     "data": {
      "text/plain": [
       "(262144,)"
      ]
     },
     "execution_count": 21,
     "metadata": {},
     "output_type": "execute_result"
    }
   ],
   "source": [
    "pred.shape\n",
    "y_test.shape"
   ]
  },
  {
   "cell_type": "code",
   "execution_count": 22,
   "id": "9b5ed4e9",
   "metadata": {},
   "outputs": [
    {
     "data": {
      "text/plain": [
       "array([[ 89828,      0,      0],\n",
       "       [     0, 171853,      0],\n",
       "       [     0,      0,    463]], dtype=int64)"
      ]
     },
     "execution_count": 22,
     "metadata": {},
     "output_type": "execute_result"
    }
   ],
   "source": [
    "from sklearn.metrics import confusion_matrix, precision_score, recall_score\n",
    "import seaborn as sn\n",
    "\n",
    "confMat = confusion_matrix(y_test, pred)\n",
    "confMat"
   ]
  },
  {
   "cell_type": "code",
   "execution_count": 23,
   "id": "ded20b8d",
   "metadata": {},
   "outputs": [
    {
     "data": {
      "text/plain": [
       "<AxesSubplot:>"
      ]
     },
     "execution_count": 23,
     "metadata": {},
     "output_type": "execute_result"
    },
    {
     "data": {
      "image/png": "[encoded data removed]",
      "text/plain": [
       "<Figure size 432x288 with 2 Axes>"
      ]
     },
     "metadata": {
      "needs_background": "light"
     },
     "output_type": "display_data"
    }
   ],
   "source": [
    "cf_matrix = confusion_matrix(y_test, pred)\n",
    "sn.heatmap(cf_matrix / np.sum(cf_matrix), annot=True, fmt='.2%', cmap='Blues')"
   ]
  },
  {
   "cell_type": "code",
   "execution_count": 24,
   "id": "636f13b2",
   "metadata": {},
   "outputs": [
    {
     "name": "stdout",
     "output_type": "stream",
     "text": [
      "8192/8192 [==============================] - 20s 2ms/step - loss: 7.3974e-11 - accuracy: 1.0000\n",
      "Completed\n",
      "Time taken: 0:00:27.998857\n",
      "Validation score: 1.0\n",
      "Evaluation score: [7.397397971953268e-11, 1.0]\n",
      "Recall score: 1.0\n",
      "Precision score: 1.0\n",
      "F1 Measure score: 1.0\n",
      "ROC-AUC score: 1.0\n"
     ]
    }
   ],
   "source": [
    "import datetime as dt\n",
    "from sklearn.metrics import accuracy_score, confusion_matrix, precision_score, recall_score, f1_score, roc_auc_score\n",
    "from sklearn import preprocessing\n",
    "\n",
    "start = dt.datetime.now()\n",
    "\n",
    "escore = model.evaluate(X_test, Y_test, batch_size=32)\n",
    "pred = model.predict(X_test)\n",
    "pred = np.argmax(pred,axis=1)\n",
    "y_eval = np.argmax(Y_test,axis=1)\n",
    "\n",
    "score = metrics.accuracy_score(y_eval, pred)\n",
    "rscore = recall_score(y_eval, pred, average='weighted')\n",
    "ascore = precision_score(y_eval, pred, average='weighted')\n",
    "f1score= f1_score(y_eval, pred, average='weighted') #F1 = 2 * (precision * recall) / (precision + recall) for manual\n",
    "\n",
    "lb = preprocessing.LabelBinarizer()\n",
    "lb.fit(y_eval)\n",
    "y_eval = lb.transform(y_eval)\n",
    "pred = lb.transform(pred)\n",
    "roc_score = roc_auc_score(y_eval, pred)\n",
    "\n",
    "print('Completed')\n",
    "print('Time taken:',dt.datetime.now()-start)\n",
    "\n",
    "print(\"Validation score: {}\".format(score))\n",
    "print(\"Evaluation score: {}\".format(escore))\n",
    "print(\"Recall score: {}\".format(rscore))\n",
    "print(\"Precision score: {}\".format(ascore))\n",
    "print(\"F1 Measure score: {}\".format(f1score))\n",
    "print(\"ROC-AUC score: {}\".format(roc_score))"
   ]
  },
  {
   "cell_type": "code",
   "execution_count": 25,
   "id": "1816584d",
   "metadata": {},
   "outputs": [],
   "source": [
    "# Plot for training and validation loss\n",
    "history_dict = history.history\n",
    "loss_values = history_dict['loss']\n",
    "val_loss_values = history_dict['val_loss']\n",
    "acc = history_dict['accuracy']\n",
    "val_acc = history_dict['val_accuracy']"
   ]
  },
  {
   "cell_type": "code",
   "execution_count": 26,
   "id": "96516130",
   "metadata": {},
   "outputs": [],
   "source": [
    "start_by_epoch = 1\n",
    "epochs = range(start_by_epoch, len(loss_values) + 1)"
   ]
  },
  {
   "cell_type": "code",
   "execution_count": 27,
   "id": "916fd5f2",
   "metadata": {},
   "outputs": [
    {
     "data": {
      "image/png": "[encoded data removed]",
      "text/plain": [
       "<Figure size 432x288 with 1 Axes>"
      ]
     },
     "metadata": {
      "needs_background": "light"
     },
     "output_type": "display_data"
    },
    {
     "data": {
      "image/png": "[encoded data removed]",
      "text/plain": [
       "<Figure size 432x288 with 1 Axes>"
      ]
     },
     "metadata": {
      "needs_background": "light"
     },
     "output_type": "display_data"
    },
    {
     "data": {
      "text/plain": [
       "<Figure size 432x288 with 0 Axes>"
      ]
     },
     "metadata": {},
     "output_type": "display_data"
    }
   ],
   "source": [
    "# Exploratory data analysis\n",
    "import matplotlib.pyplot as plt\n",
    "from matplotlib.pyplot import *\n",
    "\n",
    "plt.plot(epochs, acc[start_by_epoch-1:], label='Training accuracy')\n",
    "plt.plot(epochs, val_acc[start_by_epoch-1:], label='Validation accuracy')\n",
    "plt.title('Training and validation accuracy')\n",
    "plt.xlabel('Epochs')\n",
    "plt.ylabel('Accuracy')\n",
    "plt.legend(['Training', 'Test'], loc='lower right')\n",
    "\n",
    "plt.show()\n",
    "plt.clf()\n",
    "\n",
    "\n",
    "#plt.subplot(212)\n",
    "\n",
    "plt.plot(epochs, loss_values[start_by_epoch-1:], label='Training Loss')\n",
    "plt.plot(epochs, val_loss_values[start_by_epoch-1:], label='Validation Loss')\n",
    "plt.title('Training and validation loss')\n",
    "plt.xlabel('Epochs')\n",
    "plt.ylabel('Loss')\n",
    "plt.legend(['Training', 'Validation'], loc='upper right')\n",
    "\n",
    "plt.tight_layout()\n",
    "\n",
    "plt.show()\n",
    "plt.clf()"
   ]
  },
  {
   "cell_type": "code",
   "execution_count": 28,
   "id": "84372e3f",
   "metadata": {},
   "outputs": [
    {
     "data": {
      "image/png": "[encoded data removed]",
      "text/plain": [
       "<Figure size 576x360 with 1 Axes>"
      ]
     },
     "metadata": {
      "needs_background": "light"
     },
     "output_type": "display_data"
    }
   ],
   "source": [
    "pd.DataFrame(history.history).plot(figsize=(8,5))\n",
    "plt.grid(True)\n",
    "plt.gca().set_ylim(-0.02,1.02)\n",
    "plt.title('Training and Validation Rate')\n",
    "plt.xlabel('Epochs')\n",
    "plt.ylabel('Score')\n",
    "plt.show()"
   ]
  },
  {
   "cell_type": "code",
   "execution_count": null,
   "id": "c48ec7ab",
   "metadata": {},
   "outputs": [],
   "source": []
  },
  {
   "cell_type": "markdown",
   "id": "1c339fea",
   "metadata": {},
   "source": [
    "# CNN"
   ]
  },
  {
   "cell_type": "code",
   "execution_count": 29,
   "id": "59f88588",
   "metadata": {},
   "outputs": [
    {
     "name": "stdout",
     "output_type": "stream",
     "text": [
      "Model: \"sequential_1\"\n",
      "_________________________________________________________________\n",
      " Layer (type)                Output Shape              Param #   \n",
      "=================================================================\n",
      " conv1d (Conv1D)             (None, 71, 128)           896       \n",
      "                                                                 \n",
      " activation_1 (Activation)   (None, 71, 128)           0         \n",
      "                                                                 \n",
      " conv1d_1 (Conv1D)           (None, 66, 256)           196864    \n",
      "                                                                 \n",
      " activation_2 (Activation)   (None, 66, 256)           0         \n",
      "                                                                 \n",
      " flatten (Flatten)           (None, 16896)             0         \n",
      "                                                                 \n",
      " dense_4 (Dense)             (None, 256)               4325632   \n",
      "                                                                 \n",
      " dropout_3 (Dropout)         (None, 256)               0         \n",
      "                                                                 \n",
      " dense_5 (Dense)             (None, 3)                 771       \n",
      "                                                                 \n",
      " activation_3 (Activation)   (None, 3)                 0         \n",
      "                                                                 \n",
      "=================================================================\n",
      "Total params: 4,524,163\n",
      "Trainable params: 4,524,163\n",
      "Non-trainable params: 0\n",
      "_________________________________________________________________\n",
      "Epoch 1/30\n",
      "1573/1573 [==============================] - 38s 19ms/step - loss: 0.0046 - accuracy: 0.9995 - val_loss: 5.0787e-05 - val_accuracy: 1.0000 - lr: 1.0000e-04\n",
      "Epoch 2/30\n",
      "1573/1573 [==============================] - 20s 13ms/step - loss: 1.6899e-04 - accuracy: 1.0000 - val_loss: 5.1201e-06 - val_accuracy: 1.0000 - lr: 1.0000e-04\n",
      "Epoch 3/30\n",
      "1573/1573 [==============================] - 21s 13ms/step - loss: 9.6256e-05 - accuracy: 1.0000 - val_loss: 1.6652e-04 - val_accuracy: 1.0000 - lr: 1.0000e-04\n",
      "Epoch 4/30\n",
      "1573/1573 [==============================] - 22s 14ms/step - loss: 3.6341e-05 - accuracy: 1.0000 - val_loss: 5.4691e-07 - val_accuracy: 1.0000 - lr: 1.0000e-04\n",
      "Epoch 5/30\n",
      "1573/1573 [==============================] - 21s 14ms/step - loss: 3.7837e-06 - accuracy: 1.0000 - val_loss: 9.5530e-08 - val_accuracy: 1.0000 - lr: 1.0000e-04\n",
      "Epoch 6/30\n",
      "1573/1573 [==============================] - 21s 13ms/step - loss: 1.1623e-07 - accuracy: 1.0000 - val_loss: 8.1067e-09 - val_accuracy: 1.0000 - lr: 1.0000e-04\n",
      "Epoch 7/30\n",
      "1573/1573 [==============================] - 22s 14ms/step - loss: 5.8814e-08 - accuracy: 1.0000 - val_loss: 2.4929e-09 - val_accuracy: 1.0000 - lr: 1.0000e-04\n",
      "Epoch 8/30\n",
      "1573/1573 [==============================] - 20s 13ms/step - loss: 2.0364e-08 - accuracy: 1.0000 - val_loss: 1.3629e-09 - val_accuracy: 1.0000 - lr: 1.0000e-04\n",
      "Epoch 9/30\n",
      "1573/1573 [==============================] - 23s 15ms/step - loss: 9.7528e-09 - accuracy: 1.0000 - val_loss: 6.2664e-10 - val_accuracy: 1.0000 - lr: 1.0000e-04\n",
      "Epoch 10/30\n",
      "1573/1573 [==============================] - 23s 15ms/step - loss: 5.6119e-09 - accuracy: 1.0000 - val_loss: 2.2237e-10 - val_accuracy: 1.0000 - lr: 1.0000e-04\n",
      "Epoch 11/30\n",
      "1573/1573 [==============================] - 23s 15ms/step - loss: 2.0027e-09 - accuracy: 1.0000 - val_loss: 1.4461e-10 - val_accuracy: 1.0000 - lr: 1.0000e-04\n",
      "Epoch 12/30\n",
      "1573/1573 [==============================] - 22s 14ms/step - loss: 1.3279e-09 - accuracy: 1.0000 - val_loss: 1.0368e-10 - val_accuracy: 1.0000 - lr: 1.0000e-04\n",
      "Epoch 13/30\n",
      "1573/1573 [==============================] - 22s 14ms/step - loss: 2.4391e-09 - accuracy: 1.0000 - val_loss: 2.1282e-10 - val_accuracy: 1.0000 - lr: 1.0000e-04\n",
      "Epoch 14/30\n",
      "1573/1573 [==============================] - 20s 13ms/step - loss: 6.8181e-10 - accuracy: 1.0000 - val_loss: 2.9104e-11 - val_accuracy: 1.0000 - lr: 1.0000e-04\n",
      "Epoch 15/30\n",
      "1573/1573 [==============================] - 22s 14ms/step - loss: 4.5701e-10 - accuracy: 1.0000 - val_loss: 2.0918e-11 - val_accuracy: 1.0000 - lr: 1.0000e-04\n",
      "Epoch 16/30\n",
      "1573/1573 [==============================] - 22s 14ms/step - loss: 1.9826e-10 - accuracy: 1.0000 - val_loss: 1.7280e-11 - val_accuracy: 1.0000 - lr: 1.0000e-04\n",
      "Epoch 17/30\n",
      "1573/1573 [==============================] - 20s 13ms/step - loss: 2.1706e-10 - accuracy: 1.0000 - val_loss: 1.4552e-11 - val_accuracy: 1.0000 - lr: 1.0000e-04\n",
      "Epoch 18/30\n",
      "1573/1573 [==============================] - 22s 14ms/step - loss: 3.2467e-10 - accuracy: 1.0000 - val_loss: 1.0459e-11 - val_accuracy: 1.0000 - lr: 1.0000e-04\n",
      "Epoch 19/30\n",
      "1573/1573 [==============================] - 20s 13ms/step - loss: 2.4737e-10 - accuracy: 1.0000 - val_loss: 9.0949e-12 - val_accuracy: 1.0000 - lr: 1.0000e-04\n",
      "Epoch 20/30\n",
      "1573/1573 [==============================] - 20s 13ms/step - loss: 7.8822e-11 - accuracy: 1.0000 - val_loss: 7.7307e-12 - val_accuracy: 1.0000 - lr: 1.0000e-04\n",
      "Epoch 21/30\n",
      "1573/1573 [==============================] - 20s 13ms/step - loss: 9.6557e-11 - accuracy: 1.0000 - val_loss: 5.9117e-12 - val_accuracy: 1.0000 - lr: 1.0000e-04\n",
      "Epoch 22/30\n",
      "1573/1573 [==============================] - 21s 13ms/step - loss: 1.4733e-10 - accuracy: 1.0000 - val_loss: 4.5475e-12 - val_accuracy: 1.0000 - lr: 1.0000e-04\n",
      "Epoch 23/30\n",
      "1573/1573 [==============================] - 21s 13ms/step - loss: 5.8056e-11 - accuracy: 1.0000 - val_loss: 4.5475e-12 - val_accuracy: 1.0000 - lr: 1.0000e-04\n",
      "Epoch 24/30\n",
      "1573/1573 [==============================] - 21s 13ms/step - loss: 2.0615e-10 - accuracy: 1.0000 - val_loss: 4.5475e-12 - val_accuracy: 1.0000 - lr: 1.0000e-04\n",
      "Epoch 25/30\n",
      "1573/1573 [==============================] - 21s 13ms/step - loss: 8.5037e-11 - accuracy: 1.0000 - val_loss: 4.0927e-12 - val_accuracy: 1.0000 - lr: 1.0000e-04\n",
      "Epoch 26/30\n",
      "1573/1573 [==============================] - 21s 13ms/step - loss: 2.8194e-11 - accuracy: 1.0000 - val_loss: 3.6380e-12 - val_accuracy: 1.0000 - lr: 1.0000e-04\n",
      "Epoch 27/30\n",
      "1573/1573 [==============================] - 20s 13ms/step - loss: 5.2902e-11 - accuracy: 1.0000 - val_loss: 3.1832e-12 - val_accuracy: 1.0000 - lr: 1.0000e-04\n",
      "Epoch 28/30\n",
      "1573/1573 [==============================] - 21s 13ms/step - loss: 4.9719e-11 - accuracy: 1.0000 - val_loss: 2.7285e-12 - val_accuracy: 1.0000 - lr: 1.0000e-04\n",
      "Epoch 29/30\n",
      "1573/1573 [==============================] - 21s 13ms/step - loss: 4.2746e-11 - accuracy: 1.0000 - val_loss: 2.7285e-12 - val_accuracy: 1.0000 - lr: 1.0000e-04\n",
      "Epoch 30/30\n",
      "1573/1573 [==============================] - 20s 13ms/step - loss: 9.2767e-11 - accuracy: 1.0000 - val_loss: 2.7285e-12 - val_accuracy: 1.0000 - lr: 1.0000e-04\n"
     ]
    }
   ],
   "source": [
    "# In order to ignore FutureWarning\n",
    "import warnings\n",
    "warnings.simplefilter(action='ignore', category=FutureWarning)\n",
    "warnings.simplefilter(action='ignore', category=DeprecationWarning)\n",
    "\n",
    "from keras.models import Sequential\n",
    "from keras import callbacks\n",
    "from keras.layers import Dense, Activation, Flatten, Convolution1D, Dropout, Reshape\n",
    "from sklearn import metrics\n",
    "from hyperopt import fmin, hp, tpe, Trials, STATUS_OK\n",
    "from hyperopt.plotting import main_plot_history, main_plot_vars\n",
    "import uuid\n",
    "import gc\n",
    "from tensorflow import keras\n",
    "import tensorflow as tf\n",
    "\n",
    "K = keras.backend\n",
    "\n",
    "X_train = X_train.reshape(X_train.shape[0], 76, 1).astype('float32')\n",
    "X_test = X_test.reshape(X_test.shape[0], 76, 1).astype('float32')\n",
    "\n",
    "\n",
    "# CNN Model\n",
    "model = Sequential()\n",
    "model.add(Convolution1D(filters=128, kernel_size=6, input_shape=(_features, 1)))\n",
    "model.add(Activation('relu'))\n",
    "model.add(Convolution1D(filters=256, kernel_size=6))\n",
    "model.add(Activation('relu'))\n",
    "model.add(Flatten())\n",
    "model.add(Dense(256, activation='relu'))\n",
    "model.add(Dropout(0.1))\n",
    "model.add(Dense(n_classes))\n",
    "model.add(Activation('softmax'))\n",
    "model.summary() \n",
    "\n",
    "opt = keras.optimizers.Adam(learning_rate=0.0001)\n",
    "model.compile(loss='categorical_crossentropy',optimizer=opt, metrics=['accuracy'])\n",
    "\n",
    "early_stop_callback = keras.callbacks.EarlyStopping(monitor='loss', patience=5)\n",
    "reduce_lr = keras.callbacks.ReduceLROnPlateau(monitor='val_loss', factor=0.2,\n",
    "                                  patience=3, min_lr=0.0001)\n",
    "    \n",
    "history = model.fit(X_train, Y_train,\n",
    "                              batch_size=500,\n",
    "                              epochs=30,\n",
    "                              verbose=True,\n",
    "                              validation_data=(X_test, Y_test),\n",
    "                              callbacks=[reduce_lr, early_stop_callback])  "
   ]
  },
  {
   "cell_type": "code",
   "execution_count": 30,
   "id": "21253d3d",
   "metadata": {},
   "outputs": [
    {
     "name": "stdout",
     "output_type": "stream",
     "text": [
      "Best loss: 2.7284838884783502e-12\n",
      "Balanced Acc loss: 100.0\n",
      "Learning Rate - \n",
      "1e-04\n",
      "==================================\n",
      "Model: \"sequential_1\"\n",
      "_________________________________________________________________\n",
      " Layer (type)                Output Shape              Param #   \n",
      "=================================================================\n",
      " conv1d (Conv1D)             (None, 71, 128)           896       \n",
      "                                                                 \n",
      " activation_1 (Activation)   (None, 71, 128)           0         \n",
      "                                                                 \n",
      " conv1d_1 (Conv1D)           (None, 66, 256)           196864    \n",
      "                                                                 \n",
      " activation_2 (Activation)   (None, 66, 256)           0         \n",
      "                                                                 \n",
      " flatten (Flatten)           (None, 16896)             0         \n",
      "                                                                 \n",
      " dense_4 (Dense)             (None, 256)               4325632   \n",
      "                                                                 \n",
      " dropout_3 (Dropout)         (None, 256)               0         \n",
      "                                                                 \n",
      " dense_5 (Dense)             (None, 3)                 771       \n",
      "                                                                 \n",
      " activation_3 (Activation)   (None, 3)                 0         \n",
      "                                                                 \n",
      "=================================================================\n",
      "Total params: 4,524,163\n",
      "Trainable params: 4,524,163\n",
      "Non-trainable params: 0\n",
      "_________________________________________________________________\n"
     ]
    }
   ],
   "source": [
    "y_pred = np.argmax(model.predict(X_test), axis=-1)\n",
    "balanced_score = metrics.balanced_accuracy_score(np.argmax(Y_test, axis=1), y_pred) * 100\n",
    "    \n",
    "best_loss = np.amin(history.history['val_loss']) \n",
    "print('Best loss: {}'.format(best_loss))\n",
    "print('Balanced Acc loss: {}'.format(balanced_score))\n",
    "    \n",
    "    \n",
    "import tensorflow.keras.backend as K\n",
    "print('Learning Rate - ')\n",
    "print(K.eval(model.optimizer.lr)) \n",
    "print('==================================')\n",
    "model.summary()"
   ]
  },
  {
   "cell_type": "code",
   "execution_count": 31,
   "id": "1d27f43a",
   "metadata": {},
   "outputs": [],
   "source": [
    "# Plot for training and validation loss\n",
    "history_dict = history.history\n",
    "loss_values = history_dict['loss']\n",
    "val_loss_values = history_dict['val_loss']\n",
    "acc = history_dict['accuracy']\n",
    "val_acc = history_dict['val_accuracy']"
   ]
  },
  {
   "cell_type": "code",
   "execution_count": 32,
   "id": "ab0807df",
   "metadata": {},
   "outputs": [
    {
     "name": "stdout",
     "output_type": "stream",
     "text": [
      "8192/8192 [==============================] - 22s 3ms/step - loss: 2.7285e-12 - accuracy: 1.0000\n",
      "Completed\n",
      "Time taken: 0:00:32.593092\n",
      "Validation score: 1.0\n",
      "Evaluation score: [2.7284836716379157e-12, 1.0]\n",
      "Recall score: 1.0\n",
      "Precision score: 1.0\n",
      "F1 Measure score: 1.0\n",
      "ROC-AUC score: 1.0\n"
     ]
    }
   ],
   "source": [
    "import datetime as dt\n",
    "from sklearn.metrics import accuracy_score, confusion_matrix, precision_score, recall_score, f1_score, roc_auc_score\n",
    "from sklearn import preprocessing\n",
    "\n",
    "start = dt.datetime.now()\n",
    "\n",
    "escore = model.evaluate(X_test, Y_test, batch_size=32)\n",
    "pred = model.predict(X_test)\n",
    "pred = np.argmax(pred,axis=1)\n",
    "y_eval = np.argmax(Y_test,axis=1)\n",
    "\n",
    "score = metrics.accuracy_score(y_eval, pred)\n",
    "rscore = recall_score(y_eval, pred, average='weighted')\n",
    "ascore = precision_score(y_eval, pred, average='weighted')\n",
    "f1score= f1_score(y_eval, pred, average='weighted') #F1 = 2 * (precision * recall) / (precision + recall) for manual\n",
    "\n",
    "lb = preprocessing.LabelBinarizer()\n",
    "lb.fit(y_eval)\n",
    "y_eval = lb.transform(y_eval)\n",
    "pred = lb.transform(pred)\n",
    "roc_score = roc_auc_score(y_eval, pred)\n",
    "\n",
    "print('Completed')\n",
    "print('Time taken:',dt.datetime.now()-start)\n",
    "\n",
    "print(\"Validation score: {}\".format(score))\n",
    "print(\"Evaluation score: {}\".format(escore))\n",
    "print(\"Recall score: {}\".format(rscore))\n",
    "print(\"Precision score: {}\".format(ascore))\n",
    "print(\"F1 Measure score: {}\".format(f1score))\n",
    "print(\"ROC-AUC score: {}\".format(roc_score))"
   ]
  },
  {
   "cell_type": "code",
   "execution_count": 33,
   "id": "6a100387",
   "metadata": {},
   "outputs": [],
   "source": [
    "pred = model.predict(X_test)\n",
    "pred = np.argmax(pred,axis=1)\n",
    "y_test = Y_test.argmax(axis=1)"
   ]
  },
  {
   "cell_type": "code",
   "execution_count": 34,
   "id": "8a99c372",
   "metadata": {},
   "outputs": [
    {
     "data": {
      "text/plain": [
       "(262144,)"
      ]
     },
     "execution_count": 34,
     "metadata": {},
     "output_type": "execute_result"
    }
   ],
   "source": [
    "pred.shape\n",
    "y_test.shape"
   ]
  },
  {
   "cell_type": "code",
   "execution_count": 35,
   "id": "9de2622f",
   "metadata": {},
   "outputs": [
    {
     "data": {
      "text/plain": [
       "array([[ 89828,      0,      0],\n",
       "       [     0, 171853,      0],\n",
       "       [     0,      0,    463]], dtype=int64)"
      ]
     },
     "execution_count": 35,
     "metadata": {},
     "output_type": "execute_result"
    }
   ],
   "source": [
    "from sklearn.metrics import confusion_matrix, precision_score, recall_score\n",
    "import seaborn as sn\n",
    "\n",
    "confMat = confusion_matrix(y_test, pred)\n",
    "confMat"
   ]
  },
  {
   "cell_type": "code",
   "execution_count": 36,
   "id": "7c50849b",
   "metadata": {},
   "outputs": [
    {
     "data": {
      "text/plain": [
       "<AxesSubplot:>"
      ]
     },
     "execution_count": 36,
     "metadata": {},
     "output_type": "execute_result"
    },
    {
     "data": {
      "image/png": "[encoded data removed]",
      "text/plain": [
       "<Figure size 432x288 with 2 Axes>"
      ]
     },
     "metadata": {
      "needs_background": "light"
     },
     "output_type": "display_data"
    }
   ],
   "source": [
    "cf_matrix = confusion_matrix(y_test, pred)\n",
    "sn.heatmap(cf_matrix / np.sum(cf_matrix), annot=True, fmt='.2%', cmap='Blues')"
   ]
  },
  {
   "cell_type": "code",
   "execution_count": 37,
   "id": "3505c39e",
   "metadata": {},
   "outputs": [
    {
     "data": {
      "image/png": "[encoded data removed]",
      "text/plain": [
       "<Figure size 432x288 with 1 Axes>"
      ]
     },
     "metadata": {
      "needs_background": "light"
     },
     "output_type": "display_data"
    },
    {
     "data": {
      "image/png": "[encoded data removed]",
      "text/plain": [
       "<Figure size 432x288 with 1 Axes>"
      ]
     },
     "metadata": {
      "needs_background": "light"
     },
     "output_type": "display_data"
    },
    {
     "data": {
      "text/plain": [
       "<Figure size 432x288 with 0 Axes>"
      ]
     },
     "metadata": {},
     "output_type": "display_data"
    }
   ],
   "source": [
    "start_by_epoch = 1\n",
    "epochs = range(start_by_epoch, len(loss_values) + 1)\n",
    "\n",
    "plt.plot(epochs, acc[start_by_epoch-1:], label='Training accuracy')\n",
    "plt.plot(epochs, val_acc[start_by_epoch-1:], label='Validation accuracy')\n",
    "plt.title('CNN: Training and validation accuracy')\n",
    "plt.xlabel('Epochs')\n",
    "plt.ylabel('Accuracy')\n",
    "plt.legend(['Training', 'Test'], loc='lower right')\n",
    "\n",
    "plt.show()\n",
    "plt.clf()\n",
    "\n",
    "#plt.subplot(212)\n",
    "\n",
    "plt.plot(epochs, loss_values[start_by_epoch-1:], label='Training Loss')\n",
    "plt.plot(epochs, val_loss_values[start_by_epoch-1:], label='Validation Loss')\n",
    "plt.title('CNN: Training and validation loss')\n",
    "plt.xlabel('Epochs')\n",
    "plt.ylabel('Loss')\n",
    "plt.legend(['Training', 'Validation'], loc='upper right')\n",
    "\n",
    "plt.tight_layout()\n",
    "\n",
    "plt.show()\n",
    "plt.clf()"
   ]
  },
  {
   "cell_type": "code",
   "execution_count": 38,
   "id": "7af39bcc",
   "metadata": {},
   "outputs": [
    {
     "data": {
      "image/png": "[encoded data removed]",
      "text/plain": [
       "<Figure size 576x360 with 1 Axes>"
      ]
     },
     "metadata": {
      "needs_background": "light"
     },
     "output_type": "display_data"
    }
   ],
   "source": [
    "pd.DataFrame(history.history).plot(figsize=(8,5))\n",
    "plt.grid(True)\n",
    "plt.gca().set_ylim(-0.02,1.02)\n",
    "plt.title('CNN: Training and Validation Rate')\n",
    "plt.xlabel('Epochs')\n",
    "plt.ylabel('Score')\n",
    "plt.show()"
   ]
  },
  {
   "cell_type": "code",
   "execution_count": null,
   "id": "7a7570a8",
   "metadata": {},
   "outputs": [],
   "source": []
  },
  {
   "cell_type": "markdown",
   "id": "edafa485",
   "metadata": {},
   "source": [
    "# AutoEncoder"
   ]
  },
  {
   "cell_type": "code",
   "execution_count": 19,
   "id": "634fd4df",
   "metadata": {},
   "outputs": [],
   "source": [
    "from keras import regularizers\n",
    "from keras.layers import Dense, LeakyReLU, BatchNormalization\n",
    "from keras import Input\n",
    "from sklearn.preprocessing import MinMaxScaler"
   ]
  },
  {
   "cell_type": "code",
   "execution_count": 50,
   "id": "7d523798",
   "metadata": {},
   "outputs": [
    {
     "name": "stdout",
     "output_type": "stream",
     "text": [
      "Model: \"sequential_11\"\n",
      "_________________________________________________________________\n",
      " Layer (type)                Output Shape              Param #   \n",
      "=================================================================\n",
      " dense_110 (Dense)           (None, 76)                5852      \n",
      "                                                                 \n",
      " dense_111 (Dense)           (None, 256)               19712     \n",
      "                                                                 \n",
      " dense_112 (Dense)           (None, 128)               32896     \n",
      "                                                                 \n",
      " dense_113 (Dense)           (None, 80)                10320     \n",
      "                                                                 \n",
      " dense_114 (Dense)           (None, 80)                6480      \n",
      "                                                                 \n",
      " dense_115 (Dense)           (None, 128)               10368     \n",
      "                                                                 \n",
      " dense_116 (Dense)           (None, 256)               33024     \n",
      "                                                                 \n",
      " dense_117 (Dense)           (None, 76)                19532     \n",
      "                                                                 \n",
      "=================================================================\n",
      "Total params: 138,184\n",
      "Trainable params: 138,184\n",
      "Non-trainable params: 0\n",
      "_________________________________________________________________\n",
      "Epoch 1/30\n",
      "24576/24576 [==============================] - 42s 2ms/step - loss: 0.1081 - accuracy: 0.9716 - val_loss: 0.1643 - val_accuracy: 0.9829 - lr: 1.0000e-04\n",
      "Epoch 2/30\n",
      "24576/24576 [==============================] - 42s 2ms/step - loss: 0.0521 - accuracy: 0.9827 - val_loss: 0.1071 - val_accuracy: 0.9838 - lr: 1.0000e-04\n",
      "Epoch 3/30\n",
      "24576/24576 [==============================] - 42s 2ms/step - loss: 0.0402 - accuracy: 0.9832 - val_loss: 0.1274 - val_accuracy: 0.9864 - lr: 1.0000e-04\n",
      "Epoch 4/30\n",
      "24576/24576 [==============================] - 42s 2ms/step - loss: 0.0351 - accuracy: 0.9846 - val_loss: 0.1081 - val_accuracy: 0.9811 - lr: 1.0000e-04\n",
      "Epoch 5/30\n",
      "24576/24576 [==============================] - 41s 2ms/step - loss: 0.0349 - accuracy: 0.9873 - val_loss: 0.1279 - val_accuracy: 0.9854 - lr: 1.0000e-04\n",
      "Epoch 6/30\n",
      "24576/24576 [==============================] - 43s 2ms/step - loss: 0.0324 - accuracy: 0.9902 - val_loss: 0.1123 - val_accuracy: 0.9894 - lr: 1.0000e-04\n",
      "Epoch 7/30\n",
      "24576/24576 [==============================] - 42s 2ms/step - loss: 0.0332 - accuracy: 0.9902 - val_loss: 0.0992 - val_accuracy: 0.9928 - lr: 1.0000e-04\n",
      "Epoch 8/30\n",
      "24576/24576 [==============================] - 42s 2ms/step - loss: 0.0285 - accuracy: 0.9907 - val_loss: 0.1191 - val_accuracy: 0.9927 - lr: 1.0000e-04\n",
      "Epoch 9/30\n",
      "24576/24576 [==============================] - 42s 2ms/step - loss: 0.0351 - accuracy: 0.9909 - val_loss: 0.1139 - val_accuracy: 0.9931 - lr: 1.0000e-04\n",
      "Epoch 10/30\n",
      "24576/24576 [==============================] - 40s 2ms/step - loss: 0.0271 - accuracy: 0.9917 - val_loss: 0.1191 - val_accuracy: 0.9930 - lr: 1.0000e-04\n",
      "Epoch 11/30\n",
      "24576/24576 [==============================] - 41s 2ms/step - loss: 0.0349 - accuracy: 0.9917 - val_loss: 0.1502 - val_accuracy: 0.9861 - lr: 1.0000e-04\n",
      "Epoch 12/30\n",
      "24576/24576 [==============================] - 46s 2ms/step - loss: 0.0268 - accuracy: 0.9906 - val_loss: 0.1117 - val_accuracy: 0.9921 - lr: 1.0000e-04\n",
      "Epoch 13/30\n",
      "24576/24576 [==============================] - 47s 2ms/step - loss: 0.0285 - accuracy: 0.9910 - val_loss: 0.1154 - val_accuracy: 0.9912 - lr: 1.0000e-04\n",
      "Epoch 14/30\n",
      "24576/24576 [==============================] - 45s 2ms/step - loss: 0.0304 - accuracy: 0.9909 - val_loss: 0.1422 - val_accuracy: 0.9942 - lr: 1.0000e-04\n",
      "Epoch 15/30\n",
      "24576/24576 [==============================] - 41s 2ms/step - loss: 0.0316 - accuracy: 0.9905 - val_loss: 0.1499 - val_accuracy: 0.9912 - lr: 1.0000e-04\n",
      "Epoch 16/30\n",
      "24576/24576 [==============================] - 41s 2ms/step - loss: 0.0249 - accuracy: 0.9907 - val_loss: 0.1242 - val_accuracy: 0.9919 - lr: 1.0000e-04\n",
      "Epoch 17/30\n",
      "24576/24576 [==============================] - 43s 2ms/step - loss: 0.0310 - accuracy: 0.9906 - val_loss: 0.1243 - val_accuracy: 0.9933 - lr: 1.0000e-04\n",
      "Epoch 18/30\n",
      "24576/24576 [==============================] - 42s 2ms/step - loss: 0.0342 - accuracy: 0.9913 - val_loss: 0.1477 - val_accuracy: 0.9911 - lr: 1.0000e-04\n",
      "Epoch 19/30\n",
      "24576/24576 [==============================] - 42s 2ms/step - loss: 0.0288 - accuracy: 0.9919 - val_loss: 0.1553 - val_accuracy: 0.9937 - lr: 1.0000e-04\n",
      "Epoch 20/30\n",
      "24576/24576 [==============================] - 42s 2ms/step - loss: 0.0251 - accuracy: 0.9919 - val_loss: 0.1170 - val_accuracy: 0.9952 - lr: 1.0000e-04\n",
      "Epoch 21/30\n",
      "24576/24576 [==============================] - 43s 2ms/step - loss: 0.0238 - accuracy: 0.9917 - val_loss: 0.1080 - val_accuracy: 0.9942 - lr: 1.0000e-04\n",
      "Epoch 22/30\n",
      "24576/24576 [==============================] - 42s 2ms/step - loss: 0.0277 - accuracy: 0.9915 - val_loss: 0.1566 - val_accuracy: 0.9906 - lr: 1.0000e-04\n",
      "Epoch 23/30\n",
      "24576/24576 [==============================] - 42s 2ms/step - loss: 0.0245 - accuracy: 0.9915 - val_loss: 0.1343 - val_accuracy: 0.9922 - lr: 1.0000e-04\n",
      "Epoch 24/30\n",
      "24576/24576 [==============================] - 41s 2ms/step - loss: 0.0268 - accuracy: 0.9922 - val_loss: 0.1419 - val_accuracy: 0.9942 - lr: 1.0000e-04\n",
      "Epoch 25/30\n",
      "24576/24576 [==============================] - 41s 2ms/step - loss: 0.0237 - accuracy: 0.9922 - val_loss: 0.1198 - val_accuracy: 0.9874 - lr: 1.0000e-04\n",
      "Epoch 26/30\n",
      "24576/24576 [==============================] - 40s 2ms/step - loss: 0.0295 - accuracy: 0.9916 - val_loss: 0.1678 - val_accuracy: 0.9930 - lr: 1.0000e-04\n",
      "Epoch 27/30\n",
      "24576/24576 [==============================] - 42s 2ms/step - loss: 0.0256 - accuracy: 0.9923 - val_loss: 0.1656 - val_accuracy: 0.9918 - lr: 1.0000e-04\n",
      "Epoch 28/30\n",
      "24576/24576 [==============================] - 40s 2ms/step - loss: 0.0248 - accuracy: 0.9920 - val_loss: 0.1587 - val_accuracy: 0.9919 - lr: 1.0000e-04\n",
      "Epoch 29/30\n",
      "24576/24576 [==============================] - 42s 2ms/step - loss: 0.0273 - accuracy: 0.9924 - val_loss: 0.1749 - val_accuracy: 0.9956 - lr: 1.0000e-04\n",
      "Epoch 30/30\n",
      "24576/24576 [==============================] - 41s 2ms/step - loss: 0.0195 - accuracy: 0.9921 - val_loss: 0.1461 - val_accuracy: 0.9939 - lr: 1.0000e-04\n"
     ]
    }
   ],
   "source": [
    "input_dim = X_train.shape[1]\n",
    "\n",
    "autoencoder = tf.keras.models.Sequential([\n",
    "    \n",
    "    # encode\n",
    "    tf.keras.layers.Dense(input_dim, activation='elu', input_shape=(input_dim, )), \n",
    "    tf.keras.layers.Dense(512, activation='elu'),\n",
    "    tf.keras.layers.Dense(256, activation='elu'),\n",
    "    tf.keras.layers.Dense(128, activation='elu'),\n",
    "    tf.keras.layers.Dense(80, activation='elu'),\n",
    "    \n",
    "    # decode\n",
    "    tf.keras.layers.Dense(80, activation='elu'),\n",
    "    tf.keras.layers.Dense(128, activation='elu'),\n",
    "    tf.keras.layers.Dense(256, activation='elu'),\n",
    "    tf.keras.layers.Dense(512, activation='elu'),\n",
    "    tf.keras.layers.Dense(input_dim, activation='elu')    \n",
    "    \n",
    "])\n",
    "\n",
    "#optimizer\n",
    "opt = keras.optimizers.Adam(learning_rate=0.0001)\n",
    "\n",
    "\n",
    "autoencoder.compile(optimizer=opt, \n",
    "                    loss=\"mse\",\n",
    "                    metrics=[\"accuracy\"])\n",
    "\n",
    "# print an overview of our model\n",
    "autoencoder.summary();\n",
    "\n",
    "early_stop_callback = keras.callbacks.EarlyStopping(monitor='loss', patience=5)\n",
    "reduce_lr = keras.callbacks.ReduceLROnPlateau(monitor='val_loss', factor=0.2,\n",
    "                                  patience=3, min_lr=0.0001)\n",
    "\n",
    "history = autoencoder.fit(\n",
    "    X_train, X_train,    \n",
    "    epochs=30,\n",
    "    batch_size=32,\n",
    "    validation_data=(X_test, X_test), callbacks=[reduce_lr, early_stop_callback]\n",
    ");"
   ]
  },
  {
   "cell_type": "code",
   "execution_count": 51,
   "id": "fccd5094",
   "metadata": {},
   "outputs": [
    {
     "name": "stdout",
     "output_type": "stream",
     "text": [
      "8192/8192 [==============================] - 7s 834us/step - loss: 0.1461 - accuracy: 0.9939\n",
      "Test results - Loss: 0.14614886045455933 - Accuracy: 0.9938545227050781%\n"
     ]
    }
   ],
   "source": [
    "# predicting target attribute on testing dataset\n",
    "test_results = autoencoder.evaluate(X_test, X_test, verbose=1)\n",
    "print(f'Test results - Loss: {test_results[0]} - Accuracy: {test_results[1]}%')"
   ]
  },
  {
   "cell_type": "code",
   "execution_count": 52,
   "id": "5a777a80",
   "metadata": {},
   "outputs": [],
   "source": [
    "# Plot for training and validation loss\n",
    "history_dict = history.history\n",
    "loss_values = history_dict['loss']\n",
    "val_loss_values = history_dict['val_loss']\n",
    "acc = history_dict['accuracy']\n",
    "val_acc = history_dict['val_accuracy']\n",
    "\n",
    "start_by_epoch = 1\n",
    "epochs = range(start_by_epoch, len(loss_values) + 1)"
   ]
  },
  {
   "cell_type": "code",
   "execution_count": 53,
   "id": "82d5a000",
   "metadata": {},
   "outputs": [
    {
     "data": {
      "image/png": "[encoded data removed]",
      "text/plain": [
       "<Figure size 432x288 with 1 Axes>"
      ]
     },
     "metadata": {
      "needs_background": "light"
     },
     "output_type": "display_data"
    },
    {
     "data": {
      "image/png": "[encoded data removed]",
      "text/plain": [
       "<Figure size 432x288 with 1 Axes>"
      ]
     },
     "metadata": {
      "needs_background": "light"
     },
     "output_type": "display_data"
    },
    {
     "data": {
      "text/plain": [
       "<Figure size 432x288 with 0 Axes>"
      ]
     },
     "metadata": {},
     "output_type": "display_data"
    }
   ],
   "source": [
    "plt.plot(epochs, acc[start_by_epoch-1:], label='Training accuracy')\n",
    "plt.plot(epochs, val_acc[start_by_epoch-1:], label='Validation accuracy')\n",
    "plt.title('AE: Training and validation accuracy')\n",
    "plt.xlabel('Epochs')\n",
    "plt.ylabel('Accuracy')\n",
    "plt.legend(['Training', 'Test'], loc='lower right')\n",
    "\n",
    "plt.show()\n",
    "plt.clf()\n",
    "\n",
    "#plt.subplot(212)\n",
    "\n",
    "plt.plot(epochs, loss_values[start_by_epoch-1:], label='Training Loss')\n",
    "plt.plot(epochs, val_loss_values[start_by_epoch-1:], label='Validation Loss')\n",
    "plt.title('AE: Training and validation loss')\n",
    "plt.xlabel('Epochs')\n",
    "plt.ylabel('Loss')\n",
    "plt.legend(['Training', 'Validation'], loc='upper right')\n",
    "\n",
    "plt.tight_layout()\n",
    "\n",
    "plt.show()\n",
    "plt.clf()"
   ]
  },
  {
   "cell_type": "code",
   "execution_count": 54,
   "id": "07b9642d",
   "metadata": {},
   "outputs": [
    {
     "data": {
      "image/png": "[encoded data removed]",
      "text/plain": [
       "<Figure size 576x360 with 1 Axes>"
      ]
     },
     "metadata": {
      "needs_background": "light"
     },
     "output_type": "display_data"
    }
   ],
   "source": [
    "pd.DataFrame(history.history).plot(figsize=(8,5))\n",
    "plt.grid(True)\n",
    "plt.gca().set_ylim(-0.02,1.02)\n",
    "plt.title('AE: Training and Validation Rate')\n",
    "plt.xlabel('Epochs')\n",
    "plt.ylabel('Score')\n",
    "plt.show()"
   ]
  },
  {
   "cell_type": "code",
   "execution_count": 55,
   "id": "9da45140",
   "metadata": {},
   "outputs": [],
   "source": [
    "pred = autoencoder.predict(X_test)\n",
    "pred = np.argmax(pred,axis=1)\n",
    "y_test = Y_test.argmax(axis=1)"
   ]
  },
  {
   "cell_type": "code",
   "execution_count": 56,
   "id": "9b23c799",
   "metadata": {},
   "outputs": [
    {
     "data": {
      "text/plain": [
       "(262144,)"
      ]
     },
     "execution_count": 56,
     "metadata": {},
     "output_type": "execute_result"
    }
   ],
   "source": [
    "pred.shape\n",
    "y_test.shape"
   ]
  },
  {
   "cell_type": "code",
   "execution_count": 57,
   "id": "a81999d5",
   "metadata": {},
   "outputs": [
    {
     "data": {
      "text/plain": [
       "<AxesSubplot:>"
      ]
     },
     "execution_count": 57,
     "metadata": {},
     "output_type": "execute_result"
    },
    {
     "data": {
      "image/png": "[encoded data removed]",
      "text/plain": [
       "<Figure size 432x288 with 2 Axes>"
      ]
     },
     "metadata": {
      "needs_background": "light"
     },
     "output_type": "display_data"
    }
   ],
   "source": [
    "confMat = confusion_matrix(y_test, pred)\n",
    "confMat\n",
    "\n",
    "cf_matrix = confusion_matrix(y_test, pred)\n",
    "sn.heatmap(cf_matrix / np.sum(cf_matrix), annot=True, fmt='.2%', cmap='Blues')"
   ]
  },
  {
   "cell_type": "code",
   "execution_count": 58,
   "id": "86ae3a82",
   "metadata": {},
   "outputs": [
    {
     "name": "stdout",
     "output_type": "stream",
     "text": [
      "8192/8192 [==============================] - 8s 912us/step - loss: 0.1461 - accuracy: 0.9939\n"
     ]
    },
    {
     "name": "stderr",
     "output_type": "stream",
     "text": [
      "C:\\Users\\Maruata\\anaconda3\\lib\\site-packages\\sklearn\\metrics\\_classification.py:1248: UndefinedMetricWarning: Recall is ill-defined and being set to 0.0 in labels with no true samples. Use `zero_division` parameter to control this behavior.\n",
      "  _warn_prf(average, modifier, msg_start, len(result))\n",
      "C:\\Users\\Maruata\\anaconda3\\lib\\site-packages\\sklearn\\metrics\\_classification.py:1248: UndefinedMetricWarning: Precision is ill-defined and being set to 0.0 in labels with no predicted samples. Use `zero_division` parameter to control this behavior.\n",
      "  _warn_prf(average, modifier, msg_start, len(result))\n"
     ]
    },
    {
     "name": "stdout",
     "output_type": "stream",
     "text": [
      "Completed\n",
      "Time taken: 0:00:15.208659\n",
      "Validation score: 0.9938545227050781\n",
      "Evaluation score: [0.14614886045455933, 0.9938545227050781]\n",
      "Recall score: 0.9938545227050781\n",
      "Precision score: 0.9950285014086339\n",
      "F1 Measure score: 0.9939584394531871\n",
      "ROC-AUC score: 0.8723825524043014\n"
     ]
    }
   ],
   "source": [
    "import datetime as dt\n",
    "from sklearn.metrics import accuracy_score, confusion_matrix, precision_score, recall_score, f1_score, roc_auc_score\n",
    "from sklearn import preprocessing\n",
    "\n",
    "start = dt.datetime.now()\n",
    "\n",
    "escore = autoencoder.evaluate(X_test, X_test, batch_size=32)\n",
    "pred = autoencoder.predict(X_test)\n",
    "pred = np.argmax(pred,axis=1)\n",
    "y_eval = np.argmax(X_test,axis=1)\n",
    "\n",
    "score = metrics.accuracy_score(y_eval, pred)\n",
    "rscore = recall_score(y_eval, pred, average='weighted')\n",
    "ascore = precision_score(y_eval, pred, average='weighted')\n",
    "f1score= f1_score(y_eval, pred, average='weighted') #F1 = 2 * (precision * recall) / (precision + recall) for manual\n",
    "\n",
    "lb = preprocessing.LabelBinarizer()\n",
    "lb.fit(y_eval)\n",
    "y_eval = lb.transform(y_eval)\n",
    "pred = lb.transform(pred)\n",
    "roc_score = roc_auc_score(y_eval, pred)\n",
    "\n",
    "print('Completed')\n",
    "print('Time taken:',dt.datetime.now()-start)\n",
    "\n",
    "print(\"Validation score: {}\".format(score))\n",
    "print(\"Evaluation score: {}\".format(escore))\n",
    "print(\"Recall score: {}\".format(rscore))\n",
    "print(\"Precision score: {}\".format(ascore))\n",
    "print(\"F1 Measure score: {}\".format(f1score))\n",
    "print(\"ROC-AUC score: {}\".format(roc_score))"
   ]
  },
  {
   "cell_type": "code",
   "execution_count": null,
   "id": "47981766",
   "metadata": {},
   "outputs": [],
   "source": []
  },
  {
   "cell_type": "markdown",
   "id": "daec5c52",
   "metadata": {},
   "source": [
    "# LSTM"
   ]
  },
  {
   "cell_type": "code",
   "execution_count": null,
   "id": "0c0597e2",
   "metadata": {},
   "outputs": [],
   "source": [
    "#from keras.layers import Dense, Activation, Dropout\n",
    "\n",
    "#input_dim = X_train.shape[1]\n",
    "\n",
    "#model = Sequential()\n",
    "\n",
    "#model.add(keras.layers.LSTM(input_dim, input_shape=(1, 76), return_sequences= True ))  \n",
    "#model.add(Dropout(0.01))\n",
    "#model.add(keras.layers.LSTM(256,return_sequences=True)) \n",
    "#model.add(Dropout(0.01))\n",
    "#model.add(LSTM(40,return_sequences=True))   \n",
    "#model.add(Dropout(0.01))\n",
    "#model.add(LSTM(40, return_sequences=True))  \n",
    "#model.add(Dropout(0.01))\n",
    "#model.add(LSTM(40, return_sequences=True)) \n",
    "#model.add(Dropout(0.01))\n",
    "#model.add(LSTM(80, return_sequences=True)) \n",
    "#model.add(Dropout(0.01))\n",
    "#model.add(keras.layers.LSTM(128, return_sequences=False)) \n",
    "#model.add(Dropout(0.01))\n",
    "#model.add(Dense(activation='softmax', units=3)) # the no. of output classes\n",
    "\n",
    "\n",
    "\n",
    "#model.summary()\n",
    "\n",
    "# try using different optimizers and different optimizer configs\n",
    "#model.compile(loss = 'mean_squared_error', optimizer = 'sgd', metrics = ['accuracy'])\n",
    "#model.compile(loss='categorical_crossentropy', optimizer='adam', metrics=['accuracy'])\n",
    "\n",
    "\n",
    "\n",
    "#sparse_categorical_crossentropy\n",
    "#binary_crossentropy\n",
    "#categorical_crossentropy"
   ]
  },
  {
   "cell_type": "code",
   "execution_count": 29,
   "id": "82fa1827",
   "metadata": {},
   "outputs": [
    {
     "name": "stdout",
     "output_type": "stream",
     "text": [
      "WARNING:tensorflow:Layer lstm_8 will not use cuDNN kernels since it doesn't meet the criteria. It will use a generic GPU kernel as fallback when running on GPU.\n",
      "Model: \"sequential_7\"\n",
      "_________________________________________________________________\n",
      " Layer (type)                Output Shape              Param #   \n",
      "=================================================================\n",
      " embedding_5 (Embedding)     (None, 76, 76)            59768756  \n",
      "                                                                 \n",
      " masking_5 (Masking)         (None, 76, 76)            0         \n",
      "                                                                 \n",
      " lstm_8 (LSTM)               (None, 76)                46512     \n",
      "                                                                 \n",
      " dense_11 (Dense)            (None, 96)                7392      \n",
      "                                                                 \n",
      " dropout_3 (Dropout)         (None, 96)                0         \n",
      "                                                                 \n",
      " dense_12 (Dense)            (None, 3)                 291       \n",
      "                                                                 \n",
      "=================================================================\n",
      "Total params: 59,822,951\n",
      "Trainable params: 54,195\n",
      "Non-trainable params: 59,768,756\n",
      "_________________________________________________________________\n"
     ]
    }
   ],
   "source": [
    "from keras.layers import Embedding\n",
    "from keras.layers import Masking\n",
    "\n",
    "from keras.layers import Dense, Activation, Dropout\n",
    "input_dim = X_train.shape[1]\n",
    "\n",
    "model = Sequential()\n",
    "model.add(Embedding(X_train.shape[0], X_train.shape[1], input_length=input_dim, trainable=False, mask_zero=True))\n",
    "# Masking layer for pre-trained embeddings\n",
    "model.add(Masking(mask_value=0.0))\n",
    "# Recurrent layer\n",
    "model.add(LSTM(76, return_sequences=False, dropout=0.1, recurrent_dropout=0.1))\n",
    "# Fully connected layer\n",
    "model.add(Dense(96, activation='relu'))\n",
    "# Dropout for regularization\n",
    "model.add(Dropout(0.5))\n",
    "# Output layer\n",
    "model.add(Dense(activation='softmax', units=3))\n",
    "\n",
    "model.summary()\n",
    "\n",
    "\n",
    "\n",
    "#optimizer\n",
    "opt = keras.optimizers.Adam(learning_rate=0.0001)\n",
    "\n",
    "# try using different optimizers and different optimizer configs\n",
    "#model.compile(loss = 'mean_squared_error', optimizer = 'sgd', metrics = ['accuracy'])\n",
    "model.compile(loss='categorical_crossentropy', optimizer=opt, metrics=['accuracy'])\n",
    "\n",
    "\n",
    "\n",
    "#sparse_categorical_crossentropy\n",
    "#binary_crossentropy\n",
    "#categorical_crossentropy\n"
   ]
  },
  {
   "cell_type": "code",
   "execution_count": 31,
   "id": "8659d3a3",
   "metadata": {},
   "outputs": [
    {
     "name": "stdout",
     "output_type": "stream",
     "text": [
      "Epoch 1/5\n",
      "6144/6144 [==============================] - 3397s 553ms/step - loss: 0.0506 - accuracy: 0.9846 - val_loss: 0.0160 - val_accuracy: 0.9961 - lr: 1.0000e-04\n",
      "Epoch 2/5\n",
      "6144/6144 [==============================] - 3527s 574ms/step - loss: 0.0087 - accuracy: 0.9980 - val_loss: 0.0030 - val_accuracy: 0.9997 - lr: 1.0000e-04\n",
      "Epoch 3/5\n",
      "6144/6144 [==============================] - 3462s 563ms/step - loss: 0.0044 - accuracy: 0.9992 - val_loss: 0.0026 - val_accuracy: 0.9997 - lr: 1.0000e-04\n",
      "Epoch 4/5\n",
      "6144/6144 [==============================] - 3585s 583ms/step - loss: 0.0033 - accuracy: 0.9995 - val_loss: 0.0018 - val_accuracy: 0.9998 - lr: 1.0000e-04\n",
      "Epoch 5/5\n",
      "6144/6144 [==============================] - 3511s 571ms/step - loss: 0.0029 - accuracy: 0.9996 - val_loss: 0.0029 - val_accuracy: 0.9997 - lr: 1.0000e-04\n"
     ]
    }
   ],
   "source": [
    "early_stop_callback = tf.keras.callbacks.EarlyStopping(monitor='loss', patience=5)\n",
    "reduce_lr = tf.keras.callbacks.ReduceLROnPlateau(monitor='val_loss', factor=0.2,\n",
    "                                  patience=3, min_lr=0.0001)\n",
    "    \n",
    "history = model.fit(X_train, Y_train,\n",
    "                              batch_size=128,\n",
    "                              epochs=5,\n",
    "                              verbose=True,\n",
    "                              validation_data=(X_test, Y_test),\n",
    "                              callbacks=[reduce_lr, early_stop_callback])"
   ]
  },
  {
   "cell_type": "code",
   "execution_count": 33,
   "id": "1c047c19",
   "metadata": {},
   "outputs": [
    {
     "name": "stdout",
     "output_type": "stream",
     "text": [
      "8192/8192 [==============================] - 582s 71ms/step - loss: 0.0029 - accuracy: 0.9997\n",
      "Test results - Loss: 0.0028573523741215467 - Accuracy: 0.9997482299804688%\n"
     ]
    }
   ],
   "source": [
    "# predicting target attribute on testing dataset\n",
    "test_results = model.evaluate(X_test, Y_test, verbose=1)\n",
    "print(f'Test results - Loss: {test_results[0]} - Accuracy: {test_results[1]}%')"
   ]
  },
  {
   "cell_type": "code",
   "execution_count": 34,
   "id": "b36cee6a",
   "metadata": {},
   "outputs": [
    {
     "data": {
      "image/png": "[encoded data removed]",
      "text/plain": [
       "<Figure size 432x288 with 1 Axes>"
      ]
     },
     "metadata": {
      "needs_background": "light"
     },
     "output_type": "display_data"
    }
   ],
   "source": [
    "# Plot of loss vs epoch of train and test dataset\n",
    "plt.plot(history.history['loss'])\n",
    "plt.plot(history.history['val_loss'])\n",
    "plt.title(\"Plot of loss vs epoch for train and test dataset\")\n",
    "plt.ylabel('loss')\n",
    "plt.xlabel('epoch')\n",
    "plt.legend(['train', 'test'], loc='upper right')\n",
    "#plt.savefig('plots/ae_binary_loss.png')\n",
    "plt.show()"
   ]
  },
  {
   "cell_type": "code",
   "execution_count": 35,
   "id": "672cf30e",
   "metadata": {},
   "outputs": [
    {
     "data": {
      "image/png": "[encoded data removed]",
      "text/plain": [
       "<Figure size 432x288 with 1 Axes>"
      ]
     },
     "metadata": {
      "needs_background": "light"
     },
     "output_type": "display_data"
    }
   ],
   "source": [
    "# Plot of loss vs epoch of train and test dataset\n",
    "plt.plot(history.history['accuracy'])\n",
    "plt.plot(history.history['val_accuracy'])\n",
    "plt.title(\"Plot of Accuracy vs epoch for train and test dataset\")\n",
    "plt.ylabel('Accuracy')\n",
    "plt.xlabel('epoch')\n",
    "plt.legend(['train', 'test'], loc='upper right')\n",
    "#plt.savefig('plots/ae_binary_loss.png')\n",
    "plt.show()"
   ]
  },
  {
   "cell_type": "code",
   "execution_count": 36,
   "id": "a4e08cbb",
   "metadata": {},
   "outputs": [
    {
     "data": {
      "image/png": "[encoded data removed]",
      "text/plain": [
       "<Figure size 576x360 with 1 Axes>"
      ]
     },
     "metadata": {
      "needs_background": "light"
     },
     "output_type": "display_data"
    }
   ],
   "source": [
    "pd.DataFrame(history.history).plot(figsize=(8,5))\n",
    "plt.grid(True)\n",
    "plt.gca().set_ylim(-0.02,1.02)\n",
    "plt.title('LSTM: Training and Validation Rate')\n",
    "plt.xlabel('Epochs')\n",
    "plt.ylabel('Score')\n",
    "plt.show()"
   ]
  },
  {
   "cell_type": "code",
   "execution_count": 37,
   "id": "7140e355",
   "metadata": {},
   "outputs": [],
   "source": [
    "pred = model.predict(X_test)\n",
    "pred = np.argmax(pred,axis=1)\n",
    "y_test = Y_test.argmax(axis=1)"
   ]
  },
  {
   "cell_type": "code",
   "execution_count": 38,
   "id": "f47fbdd0",
   "metadata": {},
   "outputs": [
    {
     "data": {
      "text/plain": [
       "(262144,)"
      ]
     },
     "execution_count": 38,
     "metadata": {},
     "output_type": "execute_result"
    }
   ],
   "source": [
    "pred.shape\n",
    "y_test.shape"
   ]
  },
  {
   "cell_type": "code",
   "execution_count": 39,
   "id": "f1a47a23",
   "metadata": {},
   "outputs": [
    {
     "data": {
      "text/plain": [
       "<AxesSubplot:>"
      ]
     },
     "execution_count": 39,
     "metadata": {},
     "output_type": "execute_result"
    },
    {
     "data": {
      "image/png": "[encoded data removed]",
      "text/plain": [
       "<Figure size 432x288 with 2 Axes>"
      ]
     },
     "metadata": {
      "needs_background": "light"
     },
     "output_type": "display_data"
    }
   ],
   "source": [
    "confMat = confusion_matrix(y_test, pred)\n",
    "confMat\n",
    "\n",
    "cf_matrix = confusion_matrix(y_test, pred)\n",
    "sn.heatmap(cf_matrix / np.sum(cf_matrix), annot=True, fmt='.2%', cmap='Blues')"
   ]
  },
  {
   "cell_type": "code",
   "execution_count": 41,
   "id": "61e41e66",
   "metadata": {},
   "outputs": [
    {
     "name": "stdout",
     "output_type": "stream",
     "text": [
      "8192/8192 [==============================] - 629s 77ms/step - loss: 0.0029 - accuracy: 0.9997\n",
      "Completed\n",
      "Time taken: 0:20:40.647889\n",
      "Validation score: 0.9997482299804688\n",
      "Evaluation score: [0.0028573523741215467, 0.9997482299804688]\n",
      "Recall score: 0.9997482299804688\n",
      "Precision score: 0.9997483591913574\n",
      "F1 Measure score: 0.9997482330696782\n",
      "ROC-AUC score: 0.9979723902709381\n"
     ]
    }
   ],
   "source": [
    "import datetime as dt\n",
    "from sklearn.metrics import accuracy_score, confusion_matrix, precision_score, recall_score, f1_score, roc_auc_score\n",
    "from sklearn import preprocessing\n",
    "\n",
    "start = dt.datetime.now()\n",
    "\n",
    "escore = model.evaluate(X_test, Y_test, batch_size=32)\n",
    "pred = model.predict(X_test)\n",
    "pred = np.argmax(pred,axis=1)\n",
    "y_eval = np.argmax(Y_test,axis=1)\n",
    "\n",
    "score = metrics.accuracy_score(y_eval, pred)\n",
    "rscore = recall_score(y_eval, pred, average='weighted')\n",
    "ascore = precision_score(y_eval, pred, average='weighted')\n",
    "f1score= f1_score(y_eval, pred, average='weighted') #F1 = 2 * (precision * recall) / (precision + recall) for manual\n",
    "\n",
    "lb = preprocessing.LabelBinarizer()\n",
    "lb.fit(y_eval)\n",
    "y_eval = lb.transform(y_eval)\n",
    "pred = lb.transform(pred)\n",
    "roc_score = roc_auc_score(y_eval, pred)\n",
    "\n",
    "print('Completed')\n",
    "print('Time taken:',dt.datetime.now()-start)\n",
    "\n",
    "print(\"Validation score: {}\".format(score))\n",
    "print(\"Evaluation score: {}\".format(escore))\n",
    "print(\"Recall score: {}\".format(rscore))\n",
    "print(\"Precision score: {}\".format(ascore))\n",
    "print(\"F1 Measure score: {}\".format(f1score))\n",
    "print(\"ROC-AUC score: {}\".format(roc_score))"
   ]
  },
  {
   "cell_type": "code",
   "execution_count": null,
   "id": "ba8e258a",
   "metadata": {},
   "outputs": [],
   "source": []
  },
  {
   "cell_type": "markdown",
   "id": "5183db85",
   "metadata": {},
   "source": [
    "# CNN LSTM Hybrid"
   ]
  },
  {
   "cell_type": "code",
   "execution_count": 21,
   "id": "13427386",
   "metadata": {},
   "outputs": [
    {
     "name": "stdout",
     "output_type": "stream",
     "text": [
      "Model: \"sequential_1\"\n",
      "_________________________________________________________________\n",
      " Layer (type)                Output Shape              Param #   \n",
      "=================================================================\n",
      " conv1d_1 (Conv1D)           (None, 76, 64)            4928      \n",
      "                                                                 \n",
      " batch_normalization_2 (Batc  (None, 76, 64)           256       \n",
      " hNormalization)                                                 \n",
      "                                                                 \n",
      " bidirectional_2 (Bidirectio  (None, 128)              66048     \n",
      " nal)                                                            \n",
      "                                                                 \n",
      " reshape_1 (Reshape)         (None, 128, 1)            0         \n",
      "                                                                 \n",
      " batch_normalization_3 (Batc  (None, 128, 1)           4         \n",
      " hNormalization)                                                 \n",
      "                                                                 \n",
      " bidirectional_3 (Bidirectio  (None, 256)              133120    \n",
      " nal)                                                            \n",
      "                                                                 \n",
      " dropout_1 (Dropout)         (None, 256)               0         \n",
      "                                                                 \n",
      " dense_1 (Dense)             (None, 3)                 771       \n",
      "                                                                 \n",
      " activation_1 (Activation)   (None, 3)                 0         \n",
      "                                                                 \n",
      "=================================================================\n",
      "Total params: 205,127\n",
      "Trainable params: 204,997\n",
      "Non-trainable params: 130\n",
      "_________________________________________________________________\n"
     ]
    }
   ],
   "source": [
    "from keras.layers import Dense, Dropout, Activation, Embedding, Flatten\n",
    "from keras.layers import LSTM, GRU, Bidirectional, BatchNormalization, Convolution1D, MaxPooling1D, Reshape\n",
    "\n",
    "#Bidirectional CNN-LSTM\n",
    "batch_size = 32\n",
    "model = Sequential()\n",
    "model.add(Convolution1D(64, kernel_size=76, padding=\"same\",activation=\"relu\",input_shape=(76, 1)))\n",
    "#model.add(MaxPooling1D(pool_length=(5)))\n",
    "model.add(BatchNormalization())\n",
    "model.add(Bidirectional(LSTM(64, return_sequences=False))) \n",
    "model.add(Reshape((128, 1), input_shape = (128, )))\n",
    "    \n",
    "#model.add(MaxPooling1D(pool_length=(5)))\n",
    "model.add(BatchNormalization())\n",
    "model.add(Bidirectional(LSTM(128, return_sequences=False))) \n",
    "    \n",
    "model.add(Dropout(0.5))\n",
    "model.add(Dense(3))\n",
    "model.add(Activation('softmax'))\n",
    "\n",
    "model.summary()\n",
    "\n",
    "#optimizer\n",
    "opt = keras.optimizers.Adam(learning_rate=0.0001)\n",
    "model.compile(loss='categorical_crossentropy',optimizer=opt, metrics=['accuracy'])"
   ]
  },
  {
   "cell_type": "code",
   "execution_count": 22,
   "id": "573353d7",
   "metadata": {},
   "outputs": [
    {
     "name": "stdout",
     "output_type": "stream",
     "text": [
      "Epoch 1/30\n",
      "6144/6144 [==============================] - 159s 25ms/step - loss: 0.0081 - accuracy: 0.9990 - val_loss: 3.4821e-05 - val_accuracy: 1.0000 - lr: 1.0000e-04\n",
      "Epoch 2/30\n",
      "6144/6144 [==============================] - 151s 25ms/step - loss: 3.3334e-04 - accuracy: 0.9999 - val_loss: 1.6036e-05 - val_accuracy: 1.0000 - lr: 1.0000e-04\n",
      "Epoch 3/30\n",
      "6144/6144 [==============================] - 151s 25ms/step - loss: 1.1207e-04 - accuracy: 1.0000 - val_loss: 3.7672e-05 - val_accuracy: 1.0000 - lr: 1.0000e-04\n",
      "Epoch 4/30\n",
      "6144/6144 [==============================] - 151s 25ms/step - loss: 2.4211e-05 - accuracy: 1.0000 - val_loss: 3.1198e-05 - val_accuracy: 1.0000 - lr: 1.0000e-04\n",
      "Epoch 5/30\n",
      "6144/6144 [==============================] - 151s 25ms/step - loss: 5.7918e-05 - accuracy: 1.0000 - val_loss: 4.4506e-05 - val_accuracy: 1.0000 - lr: 1.0000e-04\n",
      "Epoch 6/30\n",
      "6144/6144 [==============================] - 150s 24ms/step - loss: 7.2686e-06 - accuracy: 1.0000 - val_loss: 2.2771e-07 - val_accuracy: 1.0000 - lr: 1.0000e-04\n",
      "Epoch 7/30\n",
      "6144/6144 [==============================] - 149s 24ms/step - loss: 1.8232e-07 - accuracy: 1.0000 - val_loss: 5.6987e-08 - val_accuracy: 1.0000 - lr: 1.0000e-04\n",
      "Epoch 8/30\n",
      "6144/6144 [==============================] - 150s 24ms/step - loss: 1.7959e-08 - accuracy: 1.0000 - val_loss: 3.3025e-08 - val_accuracy: 1.0000 - lr: 1.0000e-04\n",
      "Epoch 9/30\n",
      "6144/6144 [==============================] - 149s 24ms/step - loss: 2.6591e-08 - accuracy: 1.0000 - val_loss: 1.9696e-07 - val_accuracy: 1.0000 - lr: 1.0000e-04\n",
      "Epoch 10/30\n",
      "6144/6144 [==============================] - 150s 24ms/step - loss: 3.6140e-09 - accuracy: 1.0000 - val_loss: 1.1141e-09 - val_accuracy: 1.0000 - lr: 1.0000e-04\n",
      "Epoch 11/30\n",
      "6144/6144 [==============================] - 150s 24ms/step - loss: 1.2686e-09 - accuracy: 1.0000 - val_loss: 1.5355e-09 - val_accuracy: 1.0000 - lr: 1.0000e-04\n",
      "Epoch 12/30\n",
      "6144/6144 [==============================] - 150s 24ms/step - loss: 8.4764e-10 - accuracy: 1.0000 - val_loss: 1.4473e-09 - val_accuracy: 1.0000 - lr: 1.0000e-04\n",
      "Epoch 13/30\n",
      "6144/6144 [==============================] - 149s 24ms/step - loss: 5.2493e-10 - accuracy: 1.0000 - val_loss: 2.8634e-09 - val_accuracy: 1.0000 - lr: 1.0000e-04\n",
      "Epoch 14/30\n",
      "6144/6144 [==============================] - 149s 24ms/step - loss: 8.5657e-10 - accuracy: 1.0000 - val_loss: 6.8661e-10 - val_accuracy: 1.0000 - lr: 1.0000e-04\n",
      "Epoch 15/30\n",
      "6144/6144 [==============================] - 149s 24ms/step - loss: 4.6293e-10 - accuracy: 1.0000 - val_loss: 1.9281e-09 - val_accuracy: 1.0000 - lr: 1.0000e-04\n",
      "Epoch 16/30\n",
      "6144/6144 [==============================] - 149s 24ms/step - loss: 4.2428e-10 - accuracy: 1.0000 - val_loss: 1.1603e-09 - val_accuracy: 1.0000 - lr: 1.0000e-04\n",
      "Epoch 17/30\n",
      "6144/6144 [==============================] - 149s 24ms/step - loss: 3.8123e-10 - accuracy: 1.0000 - val_loss: 1.1362e-09 - val_accuracy: 1.0000 - lr: 1.0000e-04\n",
      "Epoch 18/30\n",
      "6144/6144 [==============================] - 149s 24ms/step - loss: 2.7906e-10 - accuracy: 1.0000 - val_loss: 2.7816e-09 - val_accuracy: 1.0000 - lr: 1.0000e-04\n",
      "Epoch 19/30\n",
      "6144/6144 [==============================] - 149s 24ms/step - loss: 3.1803e-06 - accuracy: 1.0000 - val_loss: 3.4405e-07 - val_accuracy: 1.0000 - lr: 1.0000e-04\n",
      "Epoch 20/30\n",
      "6144/6144 [==============================] - 149s 24ms/step - loss: 2.6893e-08 - accuracy: 1.0000 - val_loss: 2.5866e-08 - val_accuracy: 1.0000 - lr: 1.0000e-04\n",
      "Epoch 21/30\n",
      "6144/6144 [==============================] - 147s 24ms/step - loss: 1.4469e-09 - accuracy: 1.0000 - val_loss: 5.1364e-09 - val_accuracy: 1.0000 - lr: 1.0000e-04\n",
      "Epoch 22/30\n",
      "6144/6144 [==============================] - 147s 24ms/step - loss: 7.2041e-06 - accuracy: 1.0000 - val_loss: 8.8891e-07 - val_accuracy: 1.0000 - lr: 1.0000e-04\n",
      "Epoch 23/30\n",
      "6144/6144 [==============================] - 147s 24ms/step - loss: 7.9230e-08 - accuracy: 1.0000 - val_loss: 2.1757e-07 - val_accuracy: 1.0000 - lr: 1.0000e-04\n"
     ]
    }
   ],
   "source": [
    "early_stop_callback = keras.callbacks.EarlyStopping(monitor='loss', patience=5)\n",
    "reduce_lr = keras.callbacks.ReduceLROnPlateau(monitor='val_loss', factor=0.2,\n",
    "                                  patience=3, min_lr=0.0001)\n",
    "    \n",
    "history = model.fit(X_train, Y_train,\n",
    "                              batch_size=128,\n",
    "                              epochs=30,\n",
    "                              verbose=True,\n",
    "                              validation_data=(X_test, Y_test),\n",
    "                              callbacks=[reduce_lr, early_stop_callback])  "
   ]
  },
  {
   "cell_type": "code",
   "execution_count": 23,
   "id": "0fb0aa68",
   "metadata": {},
   "outputs": [
    {
     "data": {
      "image/png": "[encoded data removed]",
      "text/plain": [
       "<Figure size 432x288 with 1 Axes>"
      ]
     },
     "metadata": {
      "needs_background": "light"
     },
     "output_type": "display_data"
    }
   ],
   "source": [
    "# Plot of loss vs epoch of train and test dataset\n",
    "plt.plot(history.history['loss'])\n",
    "plt.plot(history.history['val_loss'])\n",
    "plt.title(\"Plot of loss vs epoch for train and test dataset\")\n",
    "plt.ylabel('Loss')\n",
    "plt.xlabel('Epoch')\n",
    "plt.legend(['train', 'test'], loc='upper right')\n",
    "#plt.savefig('plots/ae_binary_loss.png')\n",
    "plt.show()"
   ]
  },
  {
   "cell_type": "code",
   "execution_count": 31,
   "id": "7356af20",
   "metadata": {},
   "outputs": [
    {
     "data": {
      "image/png": "[encoded data removed]",
      "text/plain": [
       "<Figure size 432x288 with 1 Axes>"
      ]
     },
     "metadata": {
      "needs_background": "light"
     },
     "output_type": "display_data"
    }
   ],
   "source": [
    "# Plot of loss vs epoch of train and test dataset\n",
    "plt.plot(history.history['accuracy'])\n",
    "plt.plot(history.history['val_accuracy'])\n",
    "plt.title(\"Plot of Accuracy vs epoch for train and test dataset\")\n",
    "plt.ylabel('Accuracy')\n",
    "plt.xlabel('Epoch')\n",
    "plt.legend(['train', 'test'], loc='lower right')\n",
    "#plt.savefig('plots/ae_binary_loss.png')\n",
    "plt.show()"
   ]
  },
  {
   "cell_type": "code",
   "execution_count": 30,
   "id": "9b2f1eb7",
   "metadata": {},
   "outputs": [
    {
     "data": {
      "image/png": "[encoded data removed]",
      "text/plain": [
       "<Figure size 576x360 with 1 Axes>"
      ]
     },
     "metadata": {
      "needs_background": "light"
     },
     "output_type": "display_data"
    }
   ],
   "source": [
    "pd.DataFrame(history.history).plot(figsize=(8,5))\n",
    "plt.grid(True)\n",
    "plt.gca().set_ylim(-0.02,1.02)\n",
    "plt.title('CNN-BiLSTM: Training and Validation Rate')\n",
    "plt.xlabel('Epochs')\n",
    "plt.ylabel('Score')\n",
    "plt.show()"
   ]
  },
  {
   "cell_type": "code",
   "execution_count": 26,
   "id": "c85d98a2",
   "metadata": {},
   "outputs": [],
   "source": [
    "pred = model.predict(X_test)\n",
    "pred = np.argmax(pred,axis=1)\n",
    "y_test = Y_test.argmax(axis=1)"
   ]
  },
  {
   "cell_type": "code",
   "execution_count": 27,
   "id": "cc89fda0",
   "metadata": {},
   "outputs": [
    {
     "data": {
      "text/plain": [
       "(262144,)"
      ]
     },
     "execution_count": 27,
     "metadata": {},
     "output_type": "execute_result"
    }
   ],
   "source": [
    "pred.shape\n",
    "y_test.shape"
   ]
  },
  {
   "cell_type": "code",
   "execution_count": 28,
   "id": "17cfb2ce",
   "metadata": {},
   "outputs": [
    {
     "data": {
      "text/plain": [
       "<AxesSubplot:>"
      ]
     },
     "execution_count": 28,
     "metadata": {},
     "output_type": "execute_result"
    },
    {
     "data": {
      "image/png": "[encoded data removed]",
      "text/plain": [
       "<Figure size 432x288 with 2 Axes>"
      ]
     },
     "metadata": {
      "needs_background": "light"
     },
     "output_type": "display_data"
    }
   ],
   "source": [
    "confMat = confusion_matrix(y_test, pred)\n",
    "confMat\n",
    "\n",
    "cf_matrix = confusion_matrix(y_test, pred)\n",
    "sn.heatmap(cf_matrix / np.sum(cf_matrix), annot=True, fmt='.2%', cmap='Blues')"
   ]
  },
  {
   "cell_type": "code",
   "execution_count": 29,
   "id": "5d2ccbad",
   "metadata": {},
   "outputs": [
    {
     "name": "stdout",
     "output_type": "stream",
     "text": [
      "8192/8192 [==============================] - 66s 8ms/step - loss: 2.1757e-07 - accuracy: 1.0000\n",
      "Completed\n",
      "Time taken: 0:02:01.740107\n",
      "Validation score: 1.0\n",
      "Evaluation score: [2.1756687829110888e-07, 1.0]\n",
      "Recall score: 1.0\n",
      "Precision score: 1.0\n",
      "F1 Measure score: 1.0\n",
      "ROC-AUC score: 1.0\n"
     ]
    }
   ],
   "source": [
    "import datetime as dt\n",
    "from sklearn.metrics import accuracy_score, confusion_matrix, precision_score, recall_score, f1_score, roc_auc_score\n",
    "from sklearn import preprocessing\n",
    "\n",
    "start = dt.datetime.now()\n",
    "\n",
    "escore = model.evaluate(X_test, Y_test, batch_size=32)\n",
    "pred = model.predict(X_test)\n",
    "pred = np.argmax(pred,axis=1)\n",
    "y_eval = np.argmax(Y_test,axis=1)\n",
    "\n",
    "score = metrics.accuracy_score(y_eval, pred)\n",
    "rscore = recall_score(y_eval, pred, average='weighted')\n",
    "ascore = precision_score(y_eval, pred, average='weighted')\n",
    "f1score= f1_score(y_eval, pred, average='weighted') #F1 = 2 * (precision * recall) / (precision + recall) for manual\n",
    "\n",
    "lb = preprocessing.LabelBinarizer()\n",
    "lb.fit(y_eval)\n",
    "y_eval = lb.transform(y_eval)\n",
    "pred = lb.transform(pred)\n",
    "roc_score = roc_auc_score(y_eval, pred)\n",
    "\n",
    "print('Completed')\n",
    "print('Time taken:',dt.datetime.now()-start)\n",
    "\n",
    "print(\"Validation score: {}\".format(score))\n",
    "print(\"Evaluation score: {}\".format(escore))\n",
    "print(\"Recall score: {}\".format(rscore))\n",
    "print(\"Precision score: {}\".format(ascore))\n",
    "print(\"F1 Measure score: {}\".format(f1score))\n",
    "print(\"ROC-AUC score: {}\".format(roc_score))"
   ]
  },
  {
   "cell_type": "code",
   "execution_count": null,
   "id": "8e513838",
   "metadata": {},
   "outputs": [],
   "source": []
  }
 ],
 "metadata": {
  "kernelspec": {
   "display_name": "Python 3 (ipykernel)",
   "language": "python",
   "name": "python3"
  },
  "language_info": {
   "codemirror_mode": {
    "name": "ipython",
    "version": 3
   },
   "file_extension": ".py",
   "mimetype": "text/x-python",
   "name": "python",
   "nbconvert_exporter": "python",
   "pygments_lexer": "ipython3",
   "version": "3.9.7"
  }
 },
 "nbformat": 4,
 "nbformat_minor": 5
}
